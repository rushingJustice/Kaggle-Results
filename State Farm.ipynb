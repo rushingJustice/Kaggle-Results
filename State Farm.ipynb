{
 "cells": [
  {
   "cell_type": "markdown",
   "metadata": {},
   "source": [
    "## Image Classification - Distracted Driver Edition\n",
    "<img src=\"front_page.png\" style=\"width:250;height:250;\">\n"
   ]
  },
  {
   "cell_type": "markdown",
   "metadata": {},
   "source": [
    "### Problem Description"
   ]
  },
  {
   "cell_type": "markdown",
   "metadata": {},
   "source": [
    "In this competition you are given driver images, each taken in a car with a driver doing something in the car (texting, eating, talking on the phone, makeup, reaching behind, etc). Your goal is to predict the likelihood of what the driver is doing in each picture. \n",
    "\n",
    "The 10 classes to predict are as follows,\n",
    "<br>\n",
    "<br>\n",
    "<table>\n",
    "    <tr>\n",
    "        <td>\n",
    "            <li>c0: safe driving</li>\n",
    "            <br>\n",
    "            <li>c1: texting - right</li>\n",
    "            <br>\n",
    "            <li>c2: talking on the phone - right</li>\n",
    "            <br>\n",
    "            <li>c3: texting - left</li>\n",
    "            <br>\n",
    "            <li>c4: talking on the phone - left</li>\n",
    "            <br>\n",
    "            <li>c5: operating the radio</li>\n",
    "            <br>\n",
    "            <li>c6: drinking</li>\n",
    "            <br>\n",
    "            <li>c7: reaching behind</li>\n",
    "            <br>\n",
    "            <li>c8: hair and makeup</li>\n",
    "            <br>\n",
    "            <li>c9: talking to passenger</li>\n",
    "        </td>\n",
    "        <td>\n",
    "           <img src=\"driver.gif\" style=\"width:300;height:300px;\">\n",
    "        </td>\n",
    "    </tr>\n",
    "\n",
    "</table>\n"
   ]
  },
  {
   "cell_type": "markdown",
   "metadata": {},
   "source": [
    "### Summary of Results"
   ]
  },
  {
   "cell_type": "markdown",
   "metadata": {},
   "source": [
    "Using a 50-layer Residual Network (with the following parameters) the following scores (losses) were obtained.\n",
    "<table> \n",
    "<li>50 Epochs</li>\n",
    "<li>32 Batch Size</li>\n",
    "<li>Adam Optimizer</li>\n",
    "<li>Glorot Uniform Initializer</li>\n",
    "    <tr> \n",
    "        <td>\n",
    "            **Training Score**\n",
    "        </td>\n",
    "        <td>\n",
    "         0.0127\n",
    "        </td>\n",
    "    </tr>\n",
    "    <tr> \n",
    "        <td>\n",
    "            **Validation Score**\n",
    "        </td>\n",
    "        <td>\n",
    "        0.0472\n",
    "        </td>\n",
    "    </tr>\n",
    "    <tr> \n",
    "        <td>\n",
    "            **Holdout Score**\n",
    "        </td>\n",
    "        <td>\n",
    "         3.2267\n",
    "        </td>\n",
    "    </tr>\n",
    "</table>\n",
    "\n",
    "The large difference in validation score and holdout score are primarily due to the difference in calculation of loss between the loss function used to train the model (sparse_categorical_crossentropy) vs. the competition's loss function (multi-class logarithmic loss)."
   ]
  },
  {
   "cell_type": "markdown",
   "metadata": {},
   "source": [
    "### Import Dependencies and Define Functions"
   ]
  },
  {
   "cell_type": "markdown",
   "metadata": {},
   "source": [
    "Let's begin by importing some useful dependencies and defining some key functions that we'll use throughout the notebook."
   ]
  },
  {
   "cell_type": "code",
   "execution_count": 1,
   "metadata": {},
   "outputs": [
    {
     "name": "stderr",
     "output_type": "stream",
     "text": [
      "Using TensorFlow backend.\n"
     ]
    }
   ],
   "source": [
    "import numpy as np\n",
    "import pandas as pd\n",
    "import tensorflow as tf\n",
    "import matplotlib.pyplot as plt\n",
    "\n",
    "from keras import layers\n",
    "from keras.layers import (Input, Add, Dense, Activation, ZeroPadding2D, BatchNormalization, \n",
    "                          Flatten, Conv2D, AveragePooling2D, MaxPooling2D, GlobalMaxPooling2D)\n",
    "from keras.wrappers.scikit_learn import KerasClassifier\n",
    "from keras.models import Model, load_model, save_model\n",
    "from keras.preprocessing import image\n",
    "from keras.utils import layer_utils\n",
    "from keras.utils.data_utils import get_file\n",
    "from keras.applications.imagenet_utils import preprocess_input\n",
    "import pydot\n",
    "from IPython.display import SVG\n",
    "from keras.utils.vis_utils import model_to_dot\n",
    "from keras.utils import plot_model\n",
    "from resnets_utils import *\n",
    "from keras.initializers import glorot_uniform\n",
    "import scipy.misc\n",
    "from matplotlib.pyplot import imshow\n",
    "\n",
    "%matplotlib inline\n",
    "\n",
    "import keras.backend as K\n",
    "K.set_image_data_format('channels_last')\n",
    "K.set_learning_phase(1)\n",
    "\n",
    "from sklearn.model_selection import StratifiedKFold, cross_validate\n",
    "\n",
    "from PIL import Image"
   ]
  },
  {
   "cell_type": "code",
   "execution_count": 66,
   "metadata": {},
   "outputs": [],
   "source": [
    "def PlotClassFrequency(class_counts):\n",
    "    plt.figure(figsize=(15,4))\n",
    "    plt.bar(class_counts.index,class_counts)\n",
    "    plt.xlabel('class')\n",
    "    plt.xticks(np.arange(0, 10, 1.0))\n",
    "    plt.ylabel('count')\n",
    "    plt.title('Number of Images per Class')\n",
    "    plt.show()\n",
    "\n",
    "def DescribeImageData(data):\n",
    "    print('Average number of images: ' + str(np.mean(data)))\n",
    "    print(\"Lowest image count: {}. At: {}\".format(data.min(), data.idxmin()))\n",
    "    print(\"Highest image count: {}. At: {}\".format(data.max(), data.idxmax()))\n",
    "    print(data.describe())\n",
    "    \n",
    "def CreateImgArray(height, width, channel, data, folder, save_labels = True):\n",
    "    \"\"\"\n",
    "    Writes image files found in 'imgs/train' to array of shape\n",
    "    [examples, height, width, channel]\n",
    "    \n",
    "    Arguments:\n",
    "    height -- integer, height in pixels\n",
    "    width --  integer, width in pixels\n",
    "    channel -- integer, number of channels (or dimensions) for image (3 for RGB)\n",
    "    data -- dataframe, containing associated image properties, such as:\n",
    "            subject -> string, alpha-numeric code of participant in image\n",
    "            classname -> string, the class name i.e. 'c0', 'c1', etc. \n",
    "            img -> string, image name\n",
    "    folder -- string, either 'test' or 'train' folder containing the images\n",
    "    save_labels -- bool, True if labels should be saved, or False (just save 'X' images array).  \n",
    "                   Note: only applies if using train folder\n",
    "            \n",
    "    Returns:\n",
    "    .npy file -- file, contains the associated conversion of images to numerical values for processing\n",
    "    \"\"\"\n",
    "    \n",
    "    num_examples = len(data)\n",
    "    X = np.zeros((num_examples,height,width,channel))\n",
    "    if (folder == 'train') & (save_labels == True):\n",
    "        Y = np.zeros(num_examples)\n",
    "    \n",
    "    for m in range(num_examples):\n",
    "        current_img = data.img[m]\n",
    "        img_path = 'imgs/' + folder + '/' + current_img\n",
    "        img = image.load_img(img_path, target_size=(height, width))\n",
    "        x = image.img_to_array(img)\n",
    "        x = preprocess_input(x)\n",
    "        X[m] = x\n",
    "        if (folder == 'train') & (save_labels == True):\n",
    "            Y[m] = data.loc[data['img'] == current_img, 'classname'].iloc[0]\n",
    "        \n",
    "    np.save('X_'+ folder + '_' + str(height) + '_' + str(width), X)\n",
    "    if (folder == 'train') & (save_labels == True):\n",
    "        np.save('Y_'+ folder + '_' + str(height) + '_' + str(width), Y)\n",
    "        \n",
    "def Rescale(X):\n",
    "    return (1/(2*np.max(X))) * X + 0.5\n",
    "\n",
    "def PrintImage(X_scaled, index, Y = None):\n",
    "    plt.imshow(X_scaled[index])\n",
    "    if Y is not None:\n",
    "        if Y.shape[1] == 1:\n",
    "            print (\"y = \" + str(np.squeeze(Y[index])))\n",
    "        else:\n",
    "            print(\"y = \" + str(np.argmax(Y[index])))"
   ]
  },
  {
   "cell_type": "markdown",
   "metadata": {},
   "source": [
    "### Quick EDA"
   ]
  },
  {
   "cell_type": "markdown",
   "metadata": {},
   "source": [
    "Let's begin by loading the provided dataset 'driver_imgs_list' doing a quick analysis. "
   ]
  },
  {
   "cell_type": "code",
   "execution_count": 47,
   "metadata": {},
   "outputs": [
    {
     "data": {
      "text/html": [
       "<div>\n",
       "<style scoped>\n",
       "    .dataframe tbody tr th:only-of-type {\n",
       "        vertical-align: middle;\n",
       "    }\n",
       "\n",
       "    .dataframe tbody tr th {\n",
       "        vertical-align: top;\n",
       "    }\n",
       "\n",
       "    .dataframe thead th {\n",
       "        text-align: right;\n",
       "    }\n",
       "</style>\n",
       "<table border=\"1\" class=\"dataframe\">\n",
       "  <thead>\n",
       "    <tr style=\"text-align: right;\">\n",
       "      <th></th>\n",
       "      <th>subject</th>\n",
       "      <th>classname</th>\n",
       "      <th>img</th>\n",
       "    </tr>\n",
       "  </thead>\n",
       "  <tbody>\n",
       "    <tr>\n",
       "      <th>0</th>\n",
       "      <td>p002</td>\n",
       "      <td>c0</td>\n",
       "      <td>img_44733.jpg</td>\n",
       "    </tr>\n",
       "    <tr>\n",
       "      <th>1</th>\n",
       "      <td>p002</td>\n",
       "      <td>c0</td>\n",
       "      <td>img_72999.jpg</td>\n",
       "    </tr>\n",
       "    <tr>\n",
       "      <th>2</th>\n",
       "      <td>p002</td>\n",
       "      <td>c0</td>\n",
       "      <td>img_25094.jpg</td>\n",
       "    </tr>\n",
       "    <tr>\n",
       "      <th>3</th>\n",
       "      <td>p002</td>\n",
       "      <td>c0</td>\n",
       "      <td>img_69092.jpg</td>\n",
       "    </tr>\n",
       "    <tr>\n",
       "      <th>4</th>\n",
       "      <td>p002</td>\n",
       "      <td>c0</td>\n",
       "      <td>img_92629.jpg</td>\n",
       "    </tr>\n",
       "  </tbody>\n",
       "</table>\n",
       "</div>"
      ],
      "text/plain": [
       "  subject classname            img\n",
       "0    p002        c0  img_44733.jpg\n",
       "1    p002        c0  img_72999.jpg\n",
       "2    p002        c0  img_25094.jpg\n",
       "3    p002        c0  img_69092.jpg\n",
       "4    p002        c0  img_92629.jpg"
      ]
     },
     "execution_count": 47,
     "metadata": {},
     "output_type": "execute_result"
    }
   ],
   "source": [
    "driver_imgs_df = pd.read_csv('driver_imgs_list/driver_imgs_list.csv')\n",
    "driver_imgs_df.head()"
   ]
  },
  {
   "cell_type": "markdown",
   "metadata": {},
   "source": [
    "We can note the number of examples by printing the shape of the dataframe. Looks like the training set has 22,424 images."
   ]
  },
  {
   "cell_type": "code",
   "execution_count": 48,
   "metadata": {},
   "outputs": [
    {
     "data": {
      "text/plain": [
       "(22424, 3)"
      ]
     },
     "execution_count": 48,
     "metadata": {},
     "output_type": "execute_result"
    }
   ],
   "source": [
    "driver_imgs_df.shape"
   ]
  },
  {
   "cell_type": "markdown",
   "metadata": {},
   "source": [
    "We can plot the number of images per class to see if any classes have a low number of images."
   ]
  },
  {
   "cell_type": "code",
   "execution_count": 67,
   "metadata": {},
   "outputs": [
    {
     "data": {
      "image/png": "[encoded data removed]",
      "text/plain": [
       "<matplotlib.figure.Figure at 0x22d06491518>"
      ]
     },
     "metadata": {},
     "output_type": "display_data"
    },
    {
     "name": "stdout",
     "output_type": "stream",
     "text": [
      "Average number of images: 2242.4\n",
      "Lowest image count: 1911. At: c8\n",
      "Highest image count: 2489. At: c0\n",
      "count      10.000000\n",
      "mean     2242.400000\n",
      "std       175.387951\n",
      "min      1911.000000\n",
      "25%      2163.500000\n",
      "50%      2314.500000\n",
      "75%      2325.750000\n",
      "max      2489.000000\n",
      "Name: classname, dtype: float64\n"
     ]
    }
   ],
   "source": [
    "class_counts = (driver_imgs_df.classname).value_counts()\n",
    "PlotClassFrequency(class_counts)\n",
    "DescribeImageData(class_counts)"
   ]
  },
  {
   "cell_type": "markdown",
   "metadata": {},
   "source": [
    "Additionally, we can plot the number of images per test subject. It would be much more helpful to plot the number of images belonging to each class *per subject*. We could then ensure that the distribution is somewhat uniform. We did not show this here, and instead just plotted number of images per subject."
   ]
  },
  {
   "cell_type": "code",
   "execution_count": 68,
   "metadata": {},
   "outputs": [
    {
     "data": {
      "image/png": "[encoded data removed]",
      "text/plain": [
       "<matplotlib.figure.Figure at 0x22eecca26d8>"
      ]
     },
     "metadata": {},
     "output_type": "display_data"
    },
    {
     "name": "stdout",
     "output_type": "stream",
     "text": [
      "Average number of images: 862.461538462\n",
      "Lowest image count: 346. At: p072\n",
      "Highest image count: 1237. At: p021\n",
      "count      26.000000\n",
      "mean      862.461538\n",
      "std       214.298713\n",
      "min       346.000000\n",
      "25%       752.500000\n",
      "50%       823.000000\n",
      "75%       988.250000\n",
      "max      1237.000000\n",
      "Name: subject, dtype: float64\n"
     ]
    }
   ],
   "source": [
    "subject_counts = (driver_imgs_df.subject).value_counts()\n",
    "plt.figure(figsize=(15,4))\n",
    "plt.bar(subject_counts.index,subject_counts)\n",
    "plt.xlabel('subject')\n",
    "plt.ylabel('count')\n",
    "plt.title('Number of Images per Subject')\n",
    "plt.show()\n",
    "DescribeImageData(subject_counts)"
   ]
  },
  {
   "cell_type": "markdown",
   "metadata": {},
   "source": [
    "Furthermore, we can check if there are any null image examples."
   ]
  },
  {
   "cell_type": "code",
   "execution_count": 25,
   "metadata": {},
   "outputs": [
    {
     "data": {
      "text/plain": [
       "subject      0\n",
       "classname    0\n",
       "img          0\n",
       "dtype: int64"
      ]
     },
     "execution_count": 25,
     "metadata": {},
     "output_type": "execute_result"
    }
   ],
   "source": [
    "pd.isnull(driver_imgs_df).sum()"
   ]
  },
  {
   "cell_type": "markdown",
   "metadata": {},
   "source": [
    "### Preprocess Data"
   ]
  },
  {
   "cell_type": "markdown",
   "metadata": {},
   "source": [
    "The data was provided with the classes in order (from class 0 to class 9). Let's shuffle the data by permutating the 'classname' and 'img' attributes."
   ]
  },
  {
   "cell_type": "code",
   "execution_count": 26,
   "metadata": {},
   "outputs": [],
   "source": [
    "np.random.seed(0)\n",
    "myarray = np.random.permutation(driver_imgs_df[['classname','img']])\n",
    "driver_imgs_df = pd.DataFrame(data = myarray, columns=['classname', 'img'])"
   ]
  },
  {
   "cell_type": "markdown",
   "metadata": {},
   "source": [
    "We'll go ahead and apply a dictionary to the 'classname' attribute and assign the strings to their respective integers."
   ]
  },
  {
   "cell_type": "code",
   "execution_count": 27,
   "metadata": {},
   "outputs": [],
   "source": [
    "d = {'c0': 0, 'c1': 1, 'c2': 2, 'c3': 3, 'c4': 4, 'c5': 5, 'c6': 6, 'c7': 7, 'c8': 8, 'c9': 9}\n",
    "driver_imgs_df.classname = driver_imgs_df.classname.map(d)"
   ]
  },
  {
   "cell_type": "markdown",
   "metadata": {},
   "source": [
    "### Convert Dataframe to Array for Training"
   ]
  },
  {
   "cell_type": "markdown",
   "metadata": {},
   "source": [
    "Let's convert the images into numerical arrays of dimension '64, 64, 3'. Both the height and width of the images will be 64 pixels, and each image will have 3 channels (for red, green and blue). The following function saves the array as a .npy file."
   ]
  },
  {
   "cell_type": "code",
   "execution_count": 28,
   "metadata": {},
   "outputs": [],
   "source": [
    "CreateImgArray(64, 64, 3, driver_imgs_df, 'train')"
   ]
  },
  {
   "cell_type": "markdown",
   "metadata": {},
   "source": [
    "Let's now load the new image arrays into the environment. Note that this step is used to save memory so that CreateImgArray does not have to be executed every time."
   ]
  },
  {
   "cell_type": "code",
   "execution_count": 28,
   "metadata": {},
   "outputs": [
    {
     "data": {
      "text/plain": [
       "(22424, 64, 64, 3)"
      ]
     },
     "execution_count": 28,
     "metadata": {},
     "output_type": "execute_result"
    }
   ],
   "source": [
    "X = np.load('X_train_64_64.npy')\n",
    "X.shape"
   ]
  },
  {
   "cell_type": "code",
   "execution_count": 29,
   "metadata": {},
   "outputs": [
    {
     "data": {
      "text/plain": [
       "(22424,)"
      ]
     },
     "execution_count": 29,
     "metadata": {},
     "output_type": "execute_result"
    }
   ],
   "source": [
    "Y = np.load('Y_train_64_64.npy')\n",
    "Y.shape"
   ]
  },
  {
   "cell_type": "markdown",
   "metadata": {},
   "source": [
    "Let's check our new arrays and ensure we compiled everything correctly. We can see that we do not have any entries in X that contain zero, and Y contains all the target labels."
   ]
  },
  {
   "cell_type": "code",
   "execution_count": 31,
   "metadata": {},
   "outputs": [
    {
     "data": {
      "text/plain": [
       "0"
      ]
     },
     "execution_count": 31,
     "metadata": {},
     "output_type": "execute_result"
    }
   ],
   "source": [
    "(X == 0).sum()"
   ]
  },
  {
   "cell_type": "code",
   "execution_count": 32,
   "metadata": {},
   "outputs": [
    {
     "data": {
      "image/png": "[encoded data removed]",
      "text/plain": [
       "<matplotlib.figure.Figure at 0x1db39d45be0>"
      ]
     },
     "metadata": {},
     "output_type": "display_data"
    }
   ],
   "source": [
    "PlotClassFrequency(pd.DataFrame(Y)[0].value_counts())"
   ]
  },
  {
   "cell_type": "markdown",
   "metadata": {},
   "source": [
    "Furthermore, we can print the images from X and the associated class as a sanity check. Re-scaling the images (between 0 and 1):"
   ]
  },
  {
   "cell_type": "code",
   "execution_count": 30,
   "metadata": {},
   "outputs": [],
   "source": [
    "X_scaled = Rescale(X)"
   ]
  },
  {
   "cell_type": "code",
   "execution_count": 41,
   "metadata": {},
   "outputs": [
    {
     "name": "stdout",
     "output_type": "stream",
     "text": [
      "y = 3.0\n"
     ]
    },
    {
     "data": {
      "image/png": "[encoded data removed]",
      "text/plain": [
       "<matplotlib.figure.Figure at 0x22cfd2b8e10>"
      ]
     },
     "metadata": {},
     "output_type": "display_data"
    }
   ],
   "source": [
    "PrintImage(X_scaled, 423, Y = Y.reshape(-1,1))"
   ]
  },
  {
   "cell_type": "markdown",
   "metadata": {},
   "source": [
    "Class of \"3\" corresponds to a driver \"texting left\", which appears to be the case shown above."
   ]
  },
  {
   "cell_type": "markdown",
   "metadata": {},
   "source": [
    "### Build the Model"
   ]
  },
  {
   "cell_type": "markdown",
   "metadata": {},
   "source": [
    "We'll use the popular Residual Net with 50 layers. Residual networks are essential to preventing vanishing gradients when using a rather 'deep' network (many layers). The identity_block and convolutional_block are defined below."
   ]
  },
  {
   "cell_type": "code",
   "execution_count": 36,
   "metadata": {},
   "outputs": [],
   "source": [
    "def identity_block(X, f, filters, stage, block, init):\n",
    "    \"\"\"\n",
    "    Implementation of the identity block as defined in Figure 3\n",
    "    \n",
    "    Arguments:\n",
    "    X -- input tensor of shape (m, n_H_prev, n_W_prev, n_C_prev)\n",
    "    f -- integer, specifying the shape of the middle CONV's window for the main path\n",
    "    filters -- python list of integers, defining the number of filters in the CONV layers of the main path\n",
    "    stage -- integer, used to name the layers, depending on their position in the network\n",
    "    block -- string/character, used to name the layers, depending on their position in the network\n",
    "    \n",
    "    Returns:\n",
    "    X -- output of the identity block, tensor of shape (n_H, n_W, n_C)\n",
    "    \"\"\"\n",
    "    \n",
    "    # defining name basis\n",
    "    conv_name_base = 'res' + str(stage) + block + '_branch'\n",
    "    bn_name_base = 'bn' + str(stage) + block + '_branch'\n",
    "    \n",
    "    # Retrieve Filters\n",
    "    F1, F2, F3 = filters\n",
    "    \n",
    "    # Save the input value. You'll need this later to add back to the main path. \n",
    "    X_shortcut = X\n",
    "    \n",
    "    # First component of main path\n",
    "    X = Conv2D(filters = F1, kernel_size = (1, 1), strides = (1,1), padding = 'valid', name = conv_name_base + '2a', kernel_initializer = init)(X)\n",
    "    X = BatchNormalization(axis = 3, name = bn_name_base + '2a')(X)\n",
    "    X = Activation('relu')(X)\n",
    "    \n",
    "    ### START CODE HERE ###\n",
    "    \n",
    "    # Second component of main path (≈3 lines)\n",
    "    X = Conv2D(filters = F2, kernel_size = (f, f), strides = (1,1), padding = 'same', name = conv_name_base + '2b', kernel_initializer = init)(X)\n",
    "    X = BatchNormalization(axis = 3, name = bn_name_base + '2b')(X)\n",
    "    X = Activation('relu')(X)\n",
    "\n",
    "    # Third component of main path (≈2 lines)\n",
    "    X = Conv2D(filters = F3, kernel_size = (1, 1), strides = (1,1), padding = 'valid', name = conv_name_base + '2c', kernel_initializer = init)(X)\n",
    "    X = BatchNormalization(axis = 3, name = bn_name_base + '2c')(X)\n",
    "\n",
    "    # Final step: Add shortcut value to main path, and pass it through a RELU activation (≈2 lines)\n",
    "    X = Add()([X,X_shortcut])\n",
    "    X = Activation('relu')(X)\n",
    "    \n",
    "    ### END CODE HERE ###\n",
    "    \n",
    "    return X"
   ]
  },
  {
   "cell_type": "code",
   "execution_count": 37,
   "metadata": {},
   "outputs": [],
   "source": [
    "def convolutional_block(X, f, filters, stage, block, init, s = 2):\n",
    "    \"\"\"\n",
    "    Implementation of the convolutional block as defined in Figure 4\n",
    "    \n",
    "    Arguments:\n",
    "    X -- input tensor of shape (m, n_H_prev, n_W_prev, n_C_prev)\n",
    "    f -- integer, specifying the shape of the middle CONV's window for the main path\n",
    "    filters -- python list of integers, defining the number of filters in the CONV layers of the main path\n",
    "    stage -- integer, used to name the layers, depending on their position in the network\n",
    "    block -- string/character, used to name the layers, depending on their position in the network\n",
    "    s -- Integer, specifying the stride to be used\n",
    "    \n",
    "    Returns:\n",
    "    X -- output of the convolutional block, tensor of shape (n_H, n_W, n_C)\n",
    "    \"\"\"\n",
    "    \n",
    "    # defining name basis\n",
    "    conv_name_base = 'res' + str(stage) + block + '_branch'\n",
    "    bn_name_base = 'bn' + str(stage) + block + '_branch'\n",
    "    \n",
    "    # Retrieve Filters\n",
    "    F1, F2, F3 = filters\n",
    "    \n",
    "    # Save the input value\n",
    "    X_shortcut = X\n",
    "\n",
    "\n",
    "    ##### MAIN PATH #####\n",
    "    # First component of main path \n",
    "    X = Conv2D(F1, (1, 1), strides = (s,s), name = conv_name_base + '2a', kernel_initializer = init)(X)\n",
    "    X = BatchNormalization(axis = 3, name = bn_name_base + '2a')(X)\n",
    "    X = Activation('relu')(X)\n",
    "    \n",
    "    ### START CODE HERE ###\n",
    "\n",
    "    # Second component of main path (≈3 lines)\n",
    "    X = Conv2D(F2, (f, f), strides = (1,1), padding = 'same', name = conv_name_base + '2b', kernel_initializer = init)(X)\n",
    "    X = BatchNormalization(axis = 3, name = bn_name_base + '2b')(X)\n",
    "    X = Activation('relu')(X)\n",
    "\n",
    "    # Third component of main path (≈2 lines)\n",
    "    X = Conv2D(F3, (1, 1), strides = (1,1), name = conv_name_base + '2c', kernel_initializer = init)(X)\n",
    "    X = BatchNormalization(axis = 3, name = bn_name_base + '2c')(X)\n",
    "\n",
    "    ##### SHORTCUT PATH #### (≈2 lines)\n",
    "    X_shortcut = Conv2D(F3, (1, 1), strides = (s,s), name = conv_name_base + '1', kernel_initializer = init)(X_shortcut)\n",
    "    X_shortcut = BatchNormalization(axis = 3, name = bn_name_base + '1')(X_shortcut)\n",
    "\n",
    "    # Final step: Add shortcut value to main path, and pass it through a RELU activation (≈2 lines)\n",
    "    X = Add()([X,X_shortcut])\n",
    "    X = Activation('relu')(X)\n",
    "    \n",
    "    ### END CODE HERE ###\n",
    "    \n",
    "    return X"
   ]
  },
  {
   "cell_type": "markdown",
   "metadata": {},
   "source": [
    "With the two blocks defined, we'll now create the model ResNet50, as shown below."
   ]
  },
  {
   "cell_type": "code",
   "execution_count": 38,
   "metadata": {},
   "outputs": [],
   "source": [
    "def ResNet50(input_shape = (64, 64, 3), classes = 10, optimizer = 'adam', init = glorot_uniform(seed=0)):\n",
    "    \"\"\"\n",
    "    Implementation of the popular ResNet50 the following architecture:\n",
    "    CONV2D -> BATCHNORM -> RELU -> MAXPOOL -> CONVBLOCK -> IDBLOCK*2 -> CONVBLOCK -> IDBLOCK*3\n",
    "    -> CONVBLOCK -> IDBLOCK*5 -> CONVBLOCK -> IDBLOCK*2 -> AVGPOOL -> TOPLAYER\n",
    "\n",
    "    Arguments:\n",
    "    input_shape -- shape of the images of the dataset\n",
    "    classes -- integer, number of classes\n",
    "\n",
    "    Returns:\n",
    "    model -- a Model() instance in Keras\n",
    "    \"\"\"\n",
    "    \n",
    "    # Define the input as a tensor with shape input_shape\n",
    "    X_input = Input(input_shape)\n",
    "\n",
    "    \n",
    "    # Zero-Padding\n",
    "    X = ZeroPadding2D((3, 3))(X_input)\n",
    "    \n",
    "    # Stage 1\n",
    "    X = Conv2D(64, (7, 7), strides = (2, 2), name = 'conv1', kernel_initializer = init)(X)\n",
    "    X = BatchNormalization(axis = 3, name = 'bn_conv1')(X)\n",
    "    X = Activation('relu')(X)\n",
    "    X = MaxPooling2D((3, 3), strides=(2, 2))(X)\n",
    "\n",
    "    # Stage 2\n",
    "    X = convolutional_block(X, f = 3, filters = [64, 64, 256], stage = 2, block='a', s = 1, init = init)\n",
    "    X = identity_block(X, 3, [64, 64, 256], stage=2, block='b', init = init)\n",
    "    X = identity_block(X, 3, [64, 64, 256], stage=2, block='c', init = init)\n",
    "\n",
    "    ### START CODE HERE ###\n",
    "\n",
    "    # Stage 3 (≈4 lines)\n",
    "    X = convolutional_block(X, f = 3, filters = [128,128,512], stage = 3, block='a', s = 2, init = init)\n",
    "    X = identity_block(X, 3, [128,128,512], stage=3, block='b', init = init)\n",
    "    X = identity_block(X, 3, [128,128,512], stage=3, block='c', init = init)\n",
    "    X = identity_block(X, 3, [128,128,512], stage=3, block='d', init = init)\n",
    "\n",
    "    # Stage 4 (≈6 lines)\n",
    "    X = convolutional_block(X, f = 3, filters = [256, 256, 1024], stage = 4, block='a', s = 2, init = init)\n",
    "    X = identity_block(X, 3, [256, 256, 1024], stage=4, block='b', init = init)\n",
    "    X = identity_block(X, 3, [256, 256, 1024], stage=4, block='c', init = init)\n",
    "    X = identity_block(X, 3, [256, 256, 1024], stage=4, block='d', init = init)\n",
    "    X = identity_block(X, 3, [256, 256, 1024], stage=4, block='e', init = init)\n",
    "    X = identity_block(X, 3, [256, 256, 1024], stage=4, block='f', init = init)\n",
    "\n",
    "    # Stage 5 (≈3 lines)\n",
    "    X = convolutional_block(X, f = 3, filters = [512, 512, 2048], stage = 5, block='a', s = 2, init = init)\n",
    "    X = identity_block(X, 3, [512, 512, 2048], stage=5, block='b', init = init)\n",
    "    X = identity_block(X, 3, [512, 512, 2048], stage=5, block='c', init = init)\n",
    "\n",
    "    # AVGPOOL (≈1 line). Use \"X = AveragePooling2D(...)(X)\"\n",
    "    X = AveragePooling2D(pool_size=(2, 2), name = 'avg_pool')(X)\n",
    "    \n",
    "    ### END CODE HERE ###\n",
    "\n",
    "    # output layer\n",
    "    X = Flatten()(X)\n",
    "    X = Dense(classes, activation='softmax', name='fc' + str(classes), kernel_initializer = init)(X)\n",
    "    \n",
    "    # Create model\n",
    "    model = Model(inputs = X_input, outputs = X, name='ResNet50')\n",
    "    \n",
    "    # Compile model\n",
    "    model.compile(optimizer=optimizer, loss='sparse_categorical_crossentropy', metrics=['accuracy'])\n",
    "    \n",
    "    return model"
   ]
  },
  {
   "cell_type": "markdown",
   "metadata": {},
   "source": [
    "### Cross Validation Training"
   ]
  },
  {
   "cell_type": "markdown",
   "metadata": {},
   "source": [
    "Let's do some basic transformation on the training / label arrays, and print the shapes. After, we'll define some key functions for use in our first CNN model."
   ]
  },
  {
   "cell_type": "code",
   "execution_count": 39,
   "metadata": {},
   "outputs": [
    {
     "name": "stdout",
     "output_type": "stream",
     "text": [
      "number of training examples = 22424\n",
      "X_train shape: (22424, 64, 64, 3)\n",
      "Y_train shape: (22424, 1)\n"
     ]
    }
   ],
   "source": [
    "# Normalize image vectors\n",
    "X_train = X/255\n",
    "\n",
    "# Convert training and test labels to one hot matrices\n",
    "#Y = convert_to_one_hot(Y.astype(int), 10).T\n",
    "Y_train = np.expand_dims(Y.astype(int), -1)\n",
    "\n",
    "print (\"number of training examples = \" + str(X_train.shape[0]))\n",
    "print (\"X_train shape: \" + str(X_train.shape))\n",
    "print (\"Y_train shape: \" + str(Y_train.shape))"
   ]
  },
  {
   "cell_type": "markdown",
   "metadata": {},
   "source": [
    "In order to run cross-validation, we'll have to use a Keras wrapper to enable implementation of Scikit-Learn methods on Keras model objects. We'll pass in the epochs and batch_size parameters, starting at just 2 epochs with a batch size of 32."
   ]
  },
  {
   "cell_type": "code",
   "execution_count": 40,
   "metadata": {},
   "outputs": [],
   "source": [
    "model = KerasClassifier(build_fn=ResNet50, epochs=2, batch_size=32, verbose=0)"
   ]
  },
  {
   "cell_type": "markdown",
   "metadata": {},
   "source": [
    "Defining our KFold cross-validator, and running cross_validate:"
   ]
  },
  {
   "cell_type": "code",
   "execution_count": 41,
   "metadata": {},
   "outputs": [],
   "source": [
    "kfold = StratifiedKFold(n_splits=5, shuffle=True, random_state=0)\n",
    "scores = cross_validate(model, X_train, Y_train, cv=kfold, return_train_score=True)"
   ]
  },
  {
   "cell_type": "code",
   "execution_count": 42,
   "metadata": {},
   "outputs": [
    {
     "name": "stdout",
     "output_type": "stream",
     "text": [
      "Train score: 0.41460989593849246. Dev. score: 0.40951957870293915\n",
      "Fit time: 651.6005990505219. Score time: 20.628852367401123\n"
     ]
    }
   ],
   "source": [
    "print(\"Train score: {}. Dev. score: {}\".format(scores['train_score'].mean(), scores['test_score'].mean()))\n",
    "print(\"Fit time: {}. Score time: {}\".format(scores['fit_time'].sum(), scores['score_time'].sum()))"
   ]
  },
  {
   "cell_type": "markdown",
   "metadata": {},
   "source": [
    "We can note that the train score is higher than the dev score, which is expected. The accuracy is quite low in comparison to our assumed Bayes accuracy of 100% (using human accuracy as a proxy to Bayes). Let's try increasing the number of epochs to 5 and observe if the train/dev scores increase."
   ]
  },
  {
   "cell_type": "code",
   "execution_count": 45,
   "metadata": {},
   "outputs": [],
   "source": [
    "model = KerasClassifier(build_fn=ResNet50, epochs=5, batch_size=32, verbose=0)"
   ]
  },
  {
   "cell_type": "code",
   "execution_count": 46,
   "metadata": {},
   "outputs": [],
   "source": [
    "kfold = StratifiedKFold(n_splits=5, shuffle=True, random_state=0)\n",
    "scores = cross_validate(model, X_train, Y_train, cv=kfold, return_train_score=True)"
   ]
  },
  {
   "cell_type": "code",
   "execution_count": 47,
   "metadata": {},
   "outputs": [
    {
     "name": "stdout",
     "output_type": "stream",
     "text": [
      "Train score: 0.6748876264259673. Dev. score: 0.6665730423047045\n",
      "Fit time: 1546.9933955669403. Score time: 26.11343479156494\n"
     ]
    }
   ],
   "source": [
    "print(\"Train score: {}. Dev. score: {}\".format(scores['train_score'].mean(), scores['test_score'].mean()))\n",
    "print(\"Fit time: {}. Score time: {}\".format(scores['fit_time'].sum(), scores['score_time'].sum()))"
   ]
  },
  {
   "cell_type": "markdown",
   "metadata": {},
   "source": [
    "The train and dev score increased to 67.5% and 66.7%, respectively. We can note that we still have an underfitting problem (high bias, about 32.5%), with very little generalization issues considering that the difference between train/dev scores is approximately 0.8% (variance). \n",
    "\n",
    "In order to tackle **high bias**, we can do any of the following:\n",
    "<li>run more epochs</li>\n",
    "<li>increase the batch size (up to number of examples)</li>\n",
    "<li>make a deeper network</li>\n",
    "<li>increases the image size from 64x64 to 128x128, 256x256, etc.</li>\n",
    "\n",
    "Let's just bump it up to 50 epochs. Considering the increase in run time (from 5 epochs to 50, or roughly about 1500s times 10, which equates to roughly 4 hours run time), let's forgo cross-validation with 'k' folds. Instead, we'll train with a single train/dev split and observe the train/dev accuracy trends over epochs. In practice, we'd continue with 5-10 folds so as to get an accurate distribution of the trian/dev scores."
   ]
  },
  {
   "cell_type": "markdown",
   "metadata": {},
   "source": [
    "### Training with a Single Train/Dev Split"
   ]
  },
  {
   "cell_type": "markdown",
   "metadata": {},
   "source": [
    "#### 50 Epochs, Batch Size 32"
   ]
  },
  {
   "cell_type": "markdown",
   "metadata": {},
   "source": [
    "If we had more resources, we'd simply run K-fold cross-validation (5-10 folds) and plot a learning curve to inspect our bias/variance. Considering our limited resources, let's re-define the model and cross-validate with a single train/dev split, and just observe the train/dev scores over epochs."
   ]
  },
  {
   "cell_type": "code",
   "execution_count": 60,
   "metadata": {},
   "outputs": [],
   "source": [
    "model = ResNet50(input_shape = (64, 64, 3), classes = 10)"
   ]
  },
  {
   "cell_type": "markdown",
   "metadata": {},
   "source": [
    "This time, we'll set the validation_split argument to 30%. We should feel pretty confident on the validation results, as we're testing on about 6700 images."
   ]
  },
  {
   "cell_type": "code",
   "execution_count": 61,
   "metadata": {},
   "outputs": [
    {
     "name": "stdout",
     "output_type": "stream",
     "text": [
      "Train on 15696 samples, validate on 6728 samples\n",
      "Epoch 1/50\n",
      "15696/15696 [==============================] - 72s 5ms/step - loss: 2.3200 - acc: 0.3443 - val_loss: 1.5759 - val_acc: 0.6011\n",
      "Epoch 2/50\n",
      "15696/15696 [==============================] - 60s 4ms/step - loss: 1.3127 - acc: 0.6895 - val_loss: 0.9300 - val_acc: 0.8334\n",
      "Epoch 3/50\n",
      "15696/15696 [==============================] - 59s 4ms/step - loss: 1.7795 - acc: 0.5379 - val_loss: 1.4507 - val_acc: 0.6222\n",
      "Epoch 4/50\n",
      "15696/15696 [==============================] - 60s 4ms/step - loss: 1.2156 - acc: 0.7116 - val_loss: 1.5753 - val_acc: 0.6201\n",
      "Epoch 5/50\n",
      "15696/15696 [==============================] - 60s 4ms/step - loss: 0.9776 - acc: 0.8050 - val_loss: 1.3532 - val_acc: 0.6684\n",
      "Epoch 6/50\n",
      "15696/15696 [==============================] - 60s 4ms/step - loss: 1.1482 - acc: 0.7287 - val_loss: 1.8698 - val_acc: 0.4949\n",
      "Epoch 7/50\n",
      "15696/15696 [==============================] - 60s 4ms/step - loss: 1.4504 - acc: 0.6430 - val_loss: 1.1710 - val_acc: 0.7571\n",
      "Epoch 8/50\n",
      "15696/15696 [==============================] - 60s 4ms/step - loss: 0.8376 - acc: 0.8430 - val_loss: 0.8040 - val_acc: 0.8637\n",
      "Epoch 9/50\n",
      "15696/15696 [==============================] - 60s 4ms/step - loss: 0.8882 - acc: 0.8330 - val_loss: 1.5892 - val_acc: 0.5829\n",
      "Epoch 10/50\n",
      "15696/15696 [==============================] - 60s 4ms/step - loss: 1.0366 - acc: 0.7834 - val_loss: 0.7417 - val_acc: 0.8691\n",
      "Epoch 11/50\n",
      "15696/15696 [==============================] - 60s 4ms/step - loss: 0.7245 - acc: 0.8827 - val_loss: 0.7882 - val_acc: 0.8616\n",
      "Epoch 12/50\n",
      "15696/15696 [==============================] - 59s 4ms/step - loss: 1.2571 - acc: 0.7094 - val_loss: 1.1025 - val_acc: 0.7096\n",
      "Epoch 13/50\n",
      "15696/15696 [==============================] - 60s 4ms/step - loss: 1.3945 - acc: 0.6614 - val_loss: 0.8294 - val_acc: 0.8338\n",
      "Epoch 14/50\n",
      "15696/15696 [==============================] - 59s 4ms/step - loss: 0.7153 - acc: 0.8759 - val_loss: 0.8942 - val_acc: 0.8294\n",
      "Epoch 15/50\n",
      "15696/15696 [==============================] - 60s 4ms/step - loss: 0.9666 - acc: 0.8150 - val_loss: 0.7499 - val_acc: 0.8824\n",
      "Epoch 16/50\n",
      "15696/15696 [==============================] - 60s 4ms/step - loss: 0.9647 - acc: 0.8139 - val_loss: 0.7943 - val_acc: 0.8533\n",
      "Epoch 17/50\n",
      "15696/15696 [==============================] - 60s 4ms/step - loss: 0.3300 - acc: 0.9120 - val_loss: 0.1781 - val_acc: 0.9413\n",
      "Epoch 18/50\n",
      "15696/15696 [==============================] - 60s 4ms/step - loss: 0.1134 - acc: 0.9634 - val_loss: 0.1385 - val_acc: 0.9611\n",
      "Epoch 19/50\n",
      "15696/15696 [==============================] - 60s 4ms/step - loss: 0.0733 - acc: 0.9767 - val_loss: 0.1079 - val_acc: 0.9703\n",
      "Epoch 20/50\n",
      "15696/15696 [==============================] - 60s 4ms/step - loss: 0.0531 - acc: 0.9833 - val_loss: 0.1040 - val_acc: 0.9695\n",
      "Epoch 21/50\n",
      "15696/15696 [==============================] - 60s 4ms/step - loss: 0.0564 - acc: 0.9813 - val_loss: 0.1108 - val_acc: 0.9716\n",
      "Epoch 22/50\n",
      "15696/15696 [==============================] - 60s 4ms/step - loss: 0.0529 - acc: 0.9835 - val_loss: 0.0806 - val_acc: 0.9808\n",
      "Epoch 23/50\n",
      "15696/15696 [==============================] - 60s 4ms/step - loss: 0.0525 - acc: 0.9843 - val_loss: 0.0970 - val_acc: 0.9741\n",
      "Epoch 24/50\n",
      "15696/15696 [==============================] - 60s 4ms/step - loss: 0.0466 - acc: 0.9838 - val_loss: 0.0917 - val_acc: 0.9738\n",
      "Epoch 25/50\n",
      "15696/15696 [==============================] - 60s 4ms/step - loss: 0.0398 - acc: 0.9873 - val_loss: 0.1079 - val_acc: 0.9727\n",
      "Epoch 26/50\n",
      "15696/15696 [==============================] - 60s 4ms/step - loss: 0.0373 - acc: 0.9896 - val_loss: 0.3230 - val_acc: 0.9169\n",
      "Epoch 27/50\n",
      "15696/15696 [==============================] - 60s 4ms/step - loss: 0.0664 - acc: 0.9789 - val_loss: 0.1101 - val_acc: 0.9727\n",
      "Epoch 28/50\n",
      "15696/15696 [==============================] - 60s 4ms/step - loss: 0.0371 - acc: 0.9884 - val_loss: 0.0669 - val_acc: 0.9829\n",
      "Epoch 29/50\n",
      "15696/15696 [==============================] - 60s 4ms/step - loss: 0.0299 - acc: 0.9904 - val_loss: 0.1089 - val_acc: 0.9700\n",
      "Epoch 30/50\n",
      "15696/15696 [==============================] - 60s 4ms/step - loss: 0.0470 - acc: 0.9856 - val_loss: 0.0774 - val_acc: 0.9808\n",
      "Epoch 31/50\n",
      "15696/15696 [==============================] - 60s 4ms/step - loss: 0.0201 - acc: 0.9941 - val_loss: 0.1080 - val_acc: 0.9752\n",
      "Epoch 32/50\n",
      "15696/15696 [==============================] - 60s 4ms/step - loss: 0.0314 - acc: 0.9908 - val_loss: 0.0886 - val_acc: 0.9761\n",
      "Epoch 33/50\n",
      "15696/15696 [==============================] - 60s 4ms/step - loss: 0.0459 - acc: 0.9866 - val_loss: 0.0722 - val_acc: 0.9810\n",
      "Epoch 34/50\n",
      "15696/15696 [==============================] - 60s 4ms/step - loss: 0.0238 - acc: 0.9925 - val_loss: 0.0894 - val_acc: 0.9779\n",
      "Epoch 35/50\n",
      "15696/15696 [==============================] - 60s 4ms/step - loss: 0.0223 - acc: 0.9931 - val_loss: 0.0634 - val_acc: 0.9835\n",
      "Epoch 36/50\n",
      "15696/15696 [==============================] - 60s 4ms/step - loss: 0.0363 - acc: 0.9885 - val_loss: 0.0627 - val_acc: 0.9862\n",
      "Epoch 37/50\n",
      "15696/15696 [==============================] - 60s 4ms/step - loss: 0.0251 - acc: 0.9928 - val_loss: 0.1409 - val_acc: 0.9640\n",
      "Epoch 38/50\n",
      "15696/15696 [==============================] - 60s 4ms/step - loss: 0.0314 - acc: 0.9906 - val_loss: 0.0518 - val_acc: 0.9878\n",
      "Epoch 39/50\n",
      "15696/15696 [==============================] - 60s 4ms/step - loss: 0.0163 - acc: 0.9953 - val_loss: 0.0591 - val_acc: 0.9884\n",
      "Epoch 40/50\n",
      "15696/15696 [==============================] - 60s 4ms/step - loss: 0.0133 - acc: 0.9952 - val_loss: 0.1079 - val_acc: 0.9759\n",
      "Epoch 41/50\n",
      "15696/15696 [==============================] - 60s 4ms/step - loss: 0.0241 - acc: 0.9931 - val_loss: 0.0526 - val_acc: 0.9877\n",
      "Epoch 42/50\n",
      "15696/15696 [==============================] - 60s 4ms/step - loss: 0.0078 - acc: 0.9985 - val_loss: 0.0701 - val_acc: 0.9854\n",
      "Epoch 43/50\n",
      "15696/15696 [==============================] - 60s 4ms/step - loss: 0.0249 - acc: 0.9927 - val_loss: 0.0822 - val_acc: 0.9804\n",
      "Epoch 44/50\n",
      "15696/15696 [==============================] - 60s 4ms/step - loss: 0.0176 - acc: 0.9950 - val_loss: 0.0743 - val_acc: 0.9816\n",
      "Epoch 45/50\n",
      "15696/15696 [==============================] - 60s 4ms/step - loss: 0.0307 - acc: 0.9908 - val_loss: 0.0878 - val_acc: 0.9804\n",
      "Epoch 46/50\n",
      "15696/15696 [==============================] - 60s 4ms/step - loss: 0.0100 - acc: 0.9965 - val_loss: 0.0559 - val_acc: 0.9869\n",
      "Epoch 47/50\n",
      "15696/15696 [==============================] - 60s 4ms/step - loss: 0.0062 - acc: 0.9977 - val_loss: 0.0713 - val_acc: 0.9838\n",
      "Epoch 48/50\n",
      "15696/15696 [==============================] - 60s 4ms/step - loss: 0.0207 - acc: 0.9936 - val_loss: 0.0604 - val_acc: 0.9869\n",
      "Epoch 49/50\n",
      "15696/15696 [==============================] - 60s 4ms/step - loss: 0.0152 - acc: 0.9954 - val_loss: 0.0578 - val_acc: 0.9869\n",
      "Epoch 50/50\n",
      "15696/15696 [==============================] - 60s 4ms/step - loss: 0.0127 - acc: 0.9966 - val_loss: 0.0472 - val_acc: 0.9883\n"
     ]
    },
    {
     "data": {
      "text/plain": [
       "<keras.callbacks.History at 0x1dd0ee82d68>"
      ]
     },
     "execution_count": 61,
     "metadata": {},
     "output_type": "execute_result"
    }
   ],
   "source": [
    "model.fit(X_train, Y_train, epochs = 50, batch_size = 32, validation_split = 0.3)"
   ]
  },
  {
   "cell_type": "markdown",
   "metadata": {},
   "source": [
    "Saving the model:"
   ]
  },
  {
   "cell_type": "code",
   "execution_count": 66,
   "metadata": {},
   "outputs": [],
   "source": [
    "save_model(model, 'model_e50.h5')"
   ]
  },
  {
   "cell_type": "markdown",
   "metadata": {},
   "source": [
    "Let's plot the result, as shown below:"
   ]
  },
  {
   "cell_type": "code",
   "execution_count": 65,
   "metadata": {},
   "outputs": [
    {
     "data": {
      "image/png": "[encoded data removed]",
      "text/plain": [
       "<matplotlib.figure.Figure at 0x1e0f5286550>"
      ]
     },
     "metadata": {},
     "output_type": "display_data"
    }
   ],
   "source": [
    "plt.plot(model.history.history['acc'])\n",
    "plt.plot(model.history.history['val_acc'])\n",
    "plt.title('Model Accuracy - 50 epochs, batch size 32')\n",
    "plt.ylabel('accuracy')\n",
    "plt.xlabel('epoch')\n",
    "plt.legend(['training set', 'validation set'], loc='lower right')\n",
    "plt.show()"
   ]
  },
  {
   "cell_type": "markdown",
   "metadata": {},
   "source": [
    "From the above figure, we can note the model begins to plateau around 40 epochs. Judging by this figure, increasing the number of epochs will have little effect on the accuracy/loss with the current hyper parameters."
   ]
  },
  {
   "cell_type": "markdown",
   "metadata": {},
   "source": [
    "#### Loading a Model"
   ]
  },
  {
   "cell_type": "markdown",
   "metadata": {},
   "source": [
    "To save memory, we can restart the kernal and simply load any model back into the namespace, as such:"
   ]
  },
  {
   "cell_type": "code",
   "execution_count": 3,
   "metadata": {},
   "outputs": [],
   "source": [
    "model = load_model('model_e50.h5') "
   ]
  },
  {
   "cell_type": "markdown",
   "metadata": {},
   "source": [
    "### Predictions on the Holdout Set (and Kaggle Submission)"
   ]
  },
  {
   "cell_type": "markdown",
   "metadata": {},
   "source": [
    "Let's load the holdout data set from out 'test_file_names' csv file and then create the necessary array."
   ]
  },
  {
   "cell_type": "code",
   "execution_count": null,
   "metadata": {},
   "outputs": [],
   "source": [
    "holdout_imgs_df = pd.read_csv('test_file_names.csv')\n",
    "holdout_imgs_df.rename(columns={\"imagename\": \"img\"}, inplace = True)"
   ]
  },
  {
   "cell_type": "code",
   "execution_count": null,
   "metadata": {},
   "outputs": [],
   "source": [
    "CreateImgArray(64, 64, 3, holdout_imgs_df, 'test')"
   ]
  },
  {
   "cell_type": "markdown",
   "metadata": {},
   "source": [
    "Again, we'll load the data here instead of having to run CreateImgArray repeatedly. "
   ]
  },
  {
   "cell_type": "code",
   "execution_count": 4,
   "metadata": {},
   "outputs": [
    {
     "data": {
      "text/plain": [
       "(79726, 64, 64, 3)"
      ]
     },
     "execution_count": 4,
     "metadata": {},
     "output_type": "execute_result"
    }
   ],
   "source": [
    "X_holdout = np.load('X_test_64_64.npy')\n",
    "X_holdout.shape"
   ]
  },
  {
   "cell_type": "markdown",
   "metadata": {},
   "source": [
    "And now calling predictions on the holdout set,"
   ]
  },
  {
   "cell_type": "code",
   "execution_count": 5,
   "metadata": {},
   "outputs": [],
   "source": [
    "predictions = model.predict(X_holdout, batch_size = 32)"
   ]
  },
  {
   "cell_type": "markdown",
   "metadata": {},
   "source": [
    "Saving the predictions to a .csv file for submission,"
   ]
  },
  {
   "cell_type": "code",
   "execution_count": 6,
   "metadata": {},
   "outputs": [],
   "source": [
    "np.savetxt(\"test_results.csv\", predictions, delimiter=\",\")"
   ]
  },
  {
   "cell_type": "markdown",
   "metadata": {},
   "source": [
    "Submitting the results to Kaggle, we obtain a **score of 3.22670**. Not bad with a standard 50-layer residual network with no parameter changes. The best score obtained during the duration of the competition was around 0.08.\n",
    "<br>\n",
    "<img src=\"kaggle_sub.png\" style=\"width:400;height:400px;\">"
   ]
  },
  {
   "cell_type": "markdown",
   "metadata": {},
   "source": [
    "If desired (as a sanity check) we can visually check our predictions by scaling the X_holdout array and then printing the image."
   ]
  },
  {
   "cell_type": "code",
   "execution_count": 7,
   "metadata": {},
   "outputs": [],
   "source": [
    "X_holdout_scaled = Rescale(X_holdout)"
   ]
  },
  {
   "cell_type": "code",
   "execution_count": 45,
   "metadata": {},
   "outputs": [
    {
     "name": "stdout",
     "output_type": "stream",
     "text": [
      "y = 8\n"
     ]
    },
    {
     "data": {
      "image/png": "[encoded data removed]",
      "text/plain": [
       "<matplotlib.figure.Figure at 0x22cfd2fd710>"
      ]
     },
     "metadata": {},
     "output_type": "display_data"
    }
   ],
   "source": [
    "PrintImage(X_holdout_scaled, index = 23, Y = predictions)"
   ]
  },
  {
   "cell_type": "markdown",
   "metadata": {},
   "source": [
    "### Ways to Improve the Model"
   ]
  },
  {
   "cell_type": "markdown",
   "metadata": {},
   "source": [
    "If we're going to assume we can't beat 99.66% accuracy, then we're dealing with **high variance** (0.83% between dev and train). Note that we would generally report confidence intervals for the variance, but we only ran one cv split!"
   ]
  },
  {
   "cell_type": "markdown",
   "metadata": {},
   "source": [
    "<li>Augment images to increase sample size</li>\n",
    "<li>Regularization</li>\n",
    "<li>GridSearching over params (batch size, epoch, optimizer and it's parameters, initializer)</li>\n",
    "<li>Decrease dev set size (allows more examples to be trained, making model less prone to overfitting)</li>\n",
    "<li>Ensure even distribution of test subjects to class (we do not want a particular subject taking the majority of a class, as the model will relate that class to the subject, thus becoming bias towards that subject for that given class).</li>\n",
    "<li>Investigate classes with low accuracy, and fix them</li>"
   ]
  },
  {
   "cell_type": "code",
   "execution_count": null,
   "metadata": {},
   "outputs": [],
   "source": []
  }
 ],
 "metadata": {
  "kernelspec": {
   "display_name": "Python 3",
   "language": "python",
   "name": "python3"
  },
  "language_info": {
   "codemirror_mode": {
    "name": "ipython",
    "version": 3
   },
   "file_extension": ".py",
   "mimetype": "text/x-python",
   "name": "python",
   "nbconvert_exporter": "python",
   "pygments_lexer": "ipython3",
   "version": "3.6.4"
  }
 },
 "nbformat": 4,
 "nbformat_minor": 2
}
