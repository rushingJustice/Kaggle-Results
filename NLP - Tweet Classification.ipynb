{
 "cells": [
  {
   "cell_type": "markdown",
   "metadata": {},
   "source": [
    "# Summary"
   ]
  },
  {
   "cell_type": "markdown",
   "metadata": {},
   "source": [
    "Several `NLP` methods were used and explored here, including simple Term Frequency count using `CountVectorizer`, `TF-IDF`, and `LSA components`. These vectorizations of the tweet data were used as input for several machine learning algorithms, namely `Ridge` (Linear Regression, essentially) and `LSTM neural networks` (both normal and bi-directional). Topic Modeling was also briefly explored through the use of PyCaret's `LDA models` (but topic modeling probably isn't too important here). \n",
    "\n",
    "What we didn't explore here was utilizing other tweet-descriptive features in combination with the actual tweet in our models. Examples of other features would be:\n",
    "\n",
    "* Location, location, location -  If a location was given, it may signify and correlate to a real event.\n",
    "* Don't @ me! - Using the account name following the @ sign. We could perhaps even do some topic modeling on these names to further condense the data to something more categorical, and associate those to each tweet.\n",
    "* \"like !!!\" - Excessive use of punctuation may give signifiance to a tweet describing a non-real diasaster.\n",
    "\n",
    "\n",
    "See the complete Results section near the bottom of this notebook. Thank you!"
   ]
  },
  {
   "cell_type": "markdown",
   "metadata": {},
   "source": [
    "# Competition Description\n",
    "\n",
    "Twitter has become an important communication channel in times of emergency.\n",
    "The ubiquitousness of smartphones enables people to announce an emergency they’re observing in real-time. Because of this, more agencies are interested in programatically monitoring Twitter (i.e. disaster relief organizations and news agencies).\n",
    "\n",
    "But, it’s not always clear whether a person’s words are actually announcing a disaster. Take this example:\n",
    "\n",
    "<img src=\"./supp/tweet_screenshot.png\" alt=\"tweet_ss\" width=\"200\"/>\n",
    "\n",
    "The author explicitly uses the word “ABLAZE” but means it metaphorically. This is clear to a human right away, especially with the visual aid. But it’s less clear to a machine.\n",
    "\n",
    "In this competition, you’re challenged to build a machine learning model that predicts which Tweets are about real disasters and which one’s aren’t. You’ll have access to a dataset of 10,000 tweets that were hand classified.\n",
    "\n",
    "https://www.kaggle.com/c/nlp-getting-started/overview"
   ]
  },
  {
   "cell_type": "code",
   "execution_count": 1,
   "metadata": {},
   "outputs": [],
   "source": [
    "def submission(file_name, model, X_test, sub_id):\n",
    "\n",
    "    Y_test = model.predict(X_test)\n",
    "\n",
    "    submission = pd.DataFrame({\n",
    "        \"id\": sub_id, \n",
    "        \"target\": Y_test\n",
    "    })\n",
    "    submission.to_csv(file_name, index=False)"
   ]
  },
  {
   "cell_type": "markdown",
   "metadata": {},
   "source": [
    "## NLP Tutorial\n",
    "\n",
    "#### NOTE: The following 'tutorial' is from Kaggle - I adjusted where necessary, then did my own work on Ridge overfitting, exploring TF_IDF vectorization, LSA, and LSTMs. Enjoy!\n",
    "\n",
    "NLP - or *Natural Language Processing* - is shorthand for a wide array of techniques designed to help machines learn from text. Natural Language Processing powers everything from chatbots to search engines, and is used in diverse tasks like sentiment analysis and machine translation.\n",
    "\n",
    "In this tutorial we'll look at this competition's dataset, use a simple technique to process it, build a machine learning model, and submit predictions for a score!"
   ]
  },
  {
   "cell_type": "code",
   "execution_count": 2,
   "metadata": {
    "_cell_guid": "b1076dfc-b9ad-4769-8c92-a6c4dae69d19",
    "_uuid": "8f2839f25d086af736a60e9eeb907d3b93b6e0e5"
   },
   "outputs": [],
   "source": [
    "import numpy as np # linear algebra\n",
    "import pandas as pd # data processing, CSV file I/O (e.g. pd.read_csv)\n",
    "from sklearn import feature_extraction, linear_model, model_selection, preprocessing\n",
    "from sklearn.feature_extraction.text import TfidfVectorizer\n",
    "from sklearn.decomposition import TruncatedSVD"
   ]
  },
  {
   "cell_type": "code",
   "execution_count": 3,
   "metadata": {
    "_cell_guid": "79c7e3d0-c299-4dcb-8224-4455121ee9b0",
    "_uuid": "d629ff2d2480ee46fbb7e2d37f6b5fab8052498a"
   },
   "outputs": [],
   "source": [
    "train_df = pd.read_csv(\"./data/train.csv\")\n",
    "test_df = pd.read_csv(\"./data/test.csv\")"
   ]
  },
  {
   "cell_type": "code",
   "execution_count": 4,
   "metadata": {},
   "outputs": [
    {
     "data": {
      "text/html": [
       "<div>\n",
       "<style scoped>\n",
       "    .dataframe tbody tr th:only-of-type {\n",
       "        vertical-align: middle;\n",
       "    }\n",
       "\n",
       "    .dataframe tbody tr th {\n",
       "        vertical-align: top;\n",
       "    }\n",
       "\n",
       "    .dataframe thead th {\n",
       "        text-align: right;\n",
       "    }\n",
       "</style>\n",
       "<table border=\"1\" class=\"dataframe\">\n",
       "  <thead>\n",
       "    <tr style=\"text-align: right;\">\n",
       "      <th></th>\n",
       "      <th>id</th>\n",
       "      <th>keyword</th>\n",
       "      <th>location</th>\n",
       "      <th>text</th>\n",
       "      <th>target</th>\n",
       "    </tr>\n",
       "  </thead>\n",
       "  <tbody>\n",
       "    <tr>\n",
       "      <th>0</th>\n",
       "      <td>1</td>\n",
       "      <td>NaN</td>\n",
       "      <td>NaN</td>\n",
       "      <td>Our Deeds are the Reason of this #earthquake M...</td>\n",
       "      <td>1</td>\n",
       "    </tr>\n",
       "    <tr>\n",
       "      <th>1</th>\n",
       "      <td>4</td>\n",
       "      <td>NaN</td>\n",
       "      <td>NaN</td>\n",
       "      <td>Forest fire near La Ronge Sask. Canada</td>\n",
       "      <td>1</td>\n",
       "    </tr>\n",
       "    <tr>\n",
       "      <th>2</th>\n",
       "      <td>5</td>\n",
       "      <td>NaN</td>\n",
       "      <td>NaN</td>\n",
       "      <td>All residents asked to 'shelter in place' are ...</td>\n",
       "      <td>1</td>\n",
       "    </tr>\n",
       "    <tr>\n",
       "      <th>3</th>\n",
       "      <td>6</td>\n",
       "      <td>NaN</td>\n",
       "      <td>NaN</td>\n",
       "      <td>13,000 people receive #wildfires evacuation or...</td>\n",
       "      <td>1</td>\n",
       "    </tr>\n",
       "    <tr>\n",
       "      <th>4</th>\n",
       "      <td>7</td>\n",
       "      <td>NaN</td>\n",
       "      <td>NaN</td>\n",
       "      <td>Just got sent this photo from Ruby #Alaska as ...</td>\n",
       "      <td>1</td>\n",
       "    </tr>\n",
       "    <tr>\n",
       "      <th>...</th>\n",
       "      <td>...</td>\n",
       "      <td>...</td>\n",
       "      <td>...</td>\n",
       "      <td>...</td>\n",
       "      <td>...</td>\n",
       "    </tr>\n",
       "    <tr>\n",
       "      <th>7608</th>\n",
       "      <td>10869</td>\n",
       "      <td>NaN</td>\n",
       "      <td>NaN</td>\n",
       "      <td>Two giant cranes holding a bridge collapse int...</td>\n",
       "      <td>1</td>\n",
       "    </tr>\n",
       "    <tr>\n",
       "      <th>7609</th>\n",
       "      <td>10870</td>\n",
       "      <td>NaN</td>\n",
       "      <td>NaN</td>\n",
       "      <td>@aria_ahrary @TheTawniest The out of control w...</td>\n",
       "      <td>1</td>\n",
       "    </tr>\n",
       "    <tr>\n",
       "      <th>7610</th>\n",
       "      <td>10871</td>\n",
       "      <td>NaN</td>\n",
       "      <td>NaN</td>\n",
       "      <td>M1.94 [01:04 UTC]?5km S of Volcano Hawaii. htt...</td>\n",
       "      <td>1</td>\n",
       "    </tr>\n",
       "    <tr>\n",
       "      <th>7611</th>\n",
       "      <td>10872</td>\n",
       "      <td>NaN</td>\n",
       "      <td>NaN</td>\n",
       "      <td>Police investigating after an e-bike collided ...</td>\n",
       "      <td>1</td>\n",
       "    </tr>\n",
       "    <tr>\n",
       "      <th>7612</th>\n",
       "      <td>10873</td>\n",
       "      <td>NaN</td>\n",
       "      <td>NaN</td>\n",
       "      <td>The Latest: More Homes Razed by Northern Calif...</td>\n",
       "      <td>1</td>\n",
       "    </tr>\n",
       "  </tbody>\n",
       "</table>\n",
       "<p>7613 rows × 5 columns</p>\n",
       "</div>"
      ],
      "text/plain": [
       "         id keyword location  \\\n",
       "0         1     NaN      NaN   \n",
       "1         4     NaN      NaN   \n",
       "2         5     NaN      NaN   \n",
       "3         6     NaN      NaN   \n",
       "4         7     NaN      NaN   \n",
       "...     ...     ...      ...   \n",
       "7608  10869     NaN      NaN   \n",
       "7609  10870     NaN      NaN   \n",
       "7610  10871     NaN      NaN   \n",
       "7611  10872     NaN      NaN   \n",
       "7612  10873     NaN      NaN   \n",
       "\n",
       "                                                   text  target  \n",
       "0     Our Deeds are the Reason of this #earthquake M...       1  \n",
       "1                Forest fire near La Ronge Sask. Canada       1  \n",
       "2     All residents asked to 'shelter in place' are ...       1  \n",
       "3     13,000 people receive #wildfires evacuation or...       1  \n",
       "4     Just got sent this photo from Ruby #Alaska as ...       1  \n",
       "...                                                 ...     ...  \n",
       "7608  Two giant cranes holding a bridge collapse int...       1  \n",
       "7609  @aria_ahrary @TheTawniest The out of control w...       1  \n",
       "7610  M1.94 [01:04 UTC]?5km S of Volcano Hawaii. htt...       1  \n",
       "7611  Police investigating after an e-bike collided ...       1  \n",
       "7612  The Latest: More Homes Razed by Northern Calif...       1  \n",
       "\n",
       "[7613 rows x 5 columns]"
      ]
     },
     "execution_count": 4,
     "metadata": {},
     "output_type": "execute_result"
    }
   ],
   "source": [
    "train_df.tweet"
   ]
  },
  {
   "cell_type": "markdown",
   "metadata": {},
   "source": [
    "### A quick look at our data\n",
    "\n",
    "Let's look at our data... first, an example of what is NOT a disaster tweet."
   ]
  },
  {
   "cell_type": "code",
   "execution_count": 115,
   "metadata": {},
   "outputs": [
    {
     "data": {
      "text/plain": [
       "'I love fruits'"
      ]
     },
     "execution_count": 115,
     "metadata": {},
     "output_type": "execute_result"
    }
   ],
   "source": [
    "train_df[train_df[\"target\"] == 0][\"text\"].values[1]"
   ]
  },
  {
   "cell_type": "markdown",
   "metadata": {},
   "source": [
    "And one that is:"
   ]
  },
  {
   "cell_type": "code",
   "execution_count": 116,
   "metadata": {},
   "outputs": [
    {
     "data": {
      "text/plain": [
       "'Forest fire near La Ronge Sask. Canada'"
      ]
     },
     "execution_count": 116,
     "metadata": {},
     "output_type": "execute_result"
    }
   ],
   "source": [
    "train_df[train_df[\"target\"] == 1][\"text\"].values[1]"
   ]
  },
  {
   "cell_type": "code",
   "execution_count": 117,
   "metadata": {},
   "outputs": [
    {
     "name": "stdout",
     "output_type": "stream",
     "text": [
      "Train shape: (7613, 5)\n",
      "Test shape: (3263, 4)\n"
     ]
    }
   ],
   "source": [
    "print(\"Train shape: {}\".format(train_df.shape))\n",
    "print(\"Test shape: {}\".format(test_df.shape))"
   ]
  },
  {
   "cell_type": "markdown",
   "metadata": {},
   "source": [
    "### Building vectors\n",
    "\n",
    "The theory behind the model we'll build in this tutorial is pretty simple: the words contained in each tweet are a good indicator of whether they're about a real disaster or not (this is not entirely correct, but it's a great place to start).\n",
    "\n",
    "We'll use scikit-learn's `CountVectorizer` to count the words in each tweet and turn them into data our machine learning model can process.\n",
    "\n",
    "Note: a `vector` is, in this context, a set of numbers that a machine learning model can work with. We'll look at one in just a second."
   ]
  },
  {
   "cell_type": "code",
   "execution_count": 147,
   "metadata": {},
   "outputs": [],
   "source": [
    "count_vectorizer_example = feature_extraction.text.CountVectorizer()\n",
    "\n",
    "## let's get counts for the first 5 tweets in the data\n",
    "example_train_vectors = count_vectorizer_example.fit_transform(train_df[\"text\"][0:5])"
   ]
  },
  {
   "cell_type": "code",
   "execution_count": 148,
   "metadata": {},
   "outputs": [
    {
     "name": "stdout",
     "output_type": "stream",
     "text": [
      "(1, 54)\n",
      "[[0 0 0 1 1 1 0 0 0 0 0 0 1 1 0 0 0 0 1 0 0 0 0 0 0 1 0 0 0 1 0 0 0 0 1 0\n",
      "  0 0 0 1 0 0 0 0 0 0 0 0 0 1 1 0 1 0]]\n"
     ]
    }
   ],
   "source": [
    "## we use .todense() here because these vectors are \"sparse\" (only non-zero elements are kept to save space)\n",
    "print(example_train_vectors[0].todense().shape)\n",
    "print(example_train_vectors[0].todense())"
   ]
  },
  {
   "cell_type": "code",
   "execution_count": 149,
   "metadata": {},
   "outputs": [
    {
     "data": {
      "text/plain": [
       "'Our Deeds are the Reason of this #earthquake May ALLAH Forgive us all'"
      ]
     },
     "execution_count": 149,
     "metadata": {},
     "output_type": "execute_result"
    }
   ],
   "source": [
    "train_df['text'][0]"
   ]
  },
  {
   "cell_type": "markdown",
   "metadata": {},
   "source": [
    "The above tells us that:\n",
    "1. There are 54 unique words (or \"tokens\") in the first 5 tweets.\n",
    "2. The first tweet contains only some of those unique tokens - all of the non-zero counts above are the tokens that DO exist in the first tweet.\n",
    "\n",
    "Let's print out each of the 5 tweets and the associated tokens that `CountVectorizer()` found."
   ]
  },
  {
   "cell_type": "code",
   "execution_count": 150,
   "metadata": {},
   "outputs": [
    {
     "data": {
      "text/html": [
       "<div>\n",
       "<style scoped>\n",
       "    .dataframe tbody tr th:only-of-type {\n",
       "        vertical-align: middle;\n",
       "    }\n",
       "\n",
       "    .dataframe tbody tr th {\n",
       "        vertical-align: top;\n",
       "    }\n",
       "\n",
       "    .dataframe thead th {\n",
       "        text-align: right;\n",
       "    }\n",
       "</style>\n",
       "<table border=\"1\" class=\"dataframe\">\n",
       "  <thead>\n",
       "    <tr style=\"text-align: right;\">\n",
       "      <th></th>\n",
       "      <th>000</th>\n",
       "      <th>13</th>\n",
       "      <th>alaska</th>\n",
       "      <th>all</th>\n",
       "      <th>allah</th>\n",
       "      <th>are</th>\n",
       "      <th>as</th>\n",
       "      <th>asked</th>\n",
       "      <th>being</th>\n",
       "      <th>by</th>\n",
       "      <th>...</th>\n",
       "      <th>sask</th>\n",
       "      <th>school</th>\n",
       "      <th>sent</th>\n",
       "      <th>shelter</th>\n",
       "      <th>smoke</th>\n",
       "      <th>the</th>\n",
       "      <th>this</th>\n",
       "      <th>to</th>\n",
       "      <th>us</th>\n",
       "      <th>wildfires</th>\n",
       "    </tr>\n",
       "    <tr>\n",
       "      <th>text</th>\n",
       "      <th></th>\n",
       "      <th></th>\n",
       "      <th></th>\n",
       "      <th></th>\n",
       "      <th></th>\n",
       "      <th></th>\n",
       "      <th></th>\n",
       "      <th></th>\n",
       "      <th></th>\n",
       "      <th></th>\n",
       "      <th></th>\n",
       "      <th></th>\n",
       "      <th></th>\n",
       "      <th></th>\n",
       "      <th></th>\n",
       "      <th></th>\n",
       "      <th></th>\n",
       "      <th></th>\n",
       "      <th></th>\n",
       "      <th></th>\n",
       "      <th></th>\n",
       "    </tr>\n",
       "  </thead>\n",
       "  <tbody>\n",
       "    <tr>\n",
       "      <th>Our Deeds are the Reason of this #earthquake May ALLAH Forgive us all</th>\n",
       "      <td>0</td>\n",
       "      <td>0</td>\n",
       "      <td>0</td>\n",
       "      <td>1</td>\n",
       "      <td>1</td>\n",
       "      <td>1</td>\n",
       "      <td>0</td>\n",
       "      <td>0</td>\n",
       "      <td>0</td>\n",
       "      <td>0</td>\n",
       "      <td>...</td>\n",
       "      <td>0</td>\n",
       "      <td>0</td>\n",
       "      <td>0</td>\n",
       "      <td>0</td>\n",
       "      <td>0</td>\n",
       "      <td>1</td>\n",
       "      <td>1</td>\n",
       "      <td>0</td>\n",
       "      <td>1</td>\n",
       "      <td>0</td>\n",
       "    </tr>\n",
       "    <tr>\n",
       "      <th>Forest fire near La Ronge Sask. Canada</th>\n",
       "      <td>0</td>\n",
       "      <td>0</td>\n",
       "      <td>0</td>\n",
       "      <td>0</td>\n",
       "      <td>0</td>\n",
       "      <td>0</td>\n",
       "      <td>0</td>\n",
       "      <td>0</td>\n",
       "      <td>0</td>\n",
       "      <td>0</td>\n",
       "      <td>...</td>\n",
       "      <td>1</td>\n",
       "      <td>0</td>\n",
       "      <td>0</td>\n",
       "      <td>0</td>\n",
       "      <td>0</td>\n",
       "      <td>0</td>\n",
       "      <td>0</td>\n",
       "      <td>0</td>\n",
       "      <td>0</td>\n",
       "      <td>0</td>\n",
       "    </tr>\n",
       "    <tr>\n",
       "      <th>All residents asked to 'shelter in place' are being notified by officers. No other evacuation or shelter in place orders are expected</th>\n",
       "      <td>0</td>\n",
       "      <td>0</td>\n",
       "      <td>0</td>\n",
       "      <td>1</td>\n",
       "      <td>0</td>\n",
       "      <td>2</td>\n",
       "      <td>0</td>\n",
       "      <td>1</td>\n",
       "      <td>1</td>\n",
       "      <td>1</td>\n",
       "      <td>...</td>\n",
       "      <td>0</td>\n",
       "      <td>0</td>\n",
       "      <td>0</td>\n",
       "      <td>2</td>\n",
       "      <td>0</td>\n",
       "      <td>0</td>\n",
       "      <td>0</td>\n",
       "      <td>1</td>\n",
       "      <td>0</td>\n",
       "      <td>0</td>\n",
       "    </tr>\n",
       "    <tr>\n",
       "      <th>13,000 people receive #wildfires evacuation orders in California</th>\n",
       "      <td>1</td>\n",
       "      <td>1</td>\n",
       "      <td>0</td>\n",
       "      <td>0</td>\n",
       "      <td>0</td>\n",
       "      <td>0</td>\n",
       "      <td>0</td>\n",
       "      <td>0</td>\n",
       "      <td>0</td>\n",
       "      <td>0</td>\n",
       "      <td>...</td>\n",
       "      <td>0</td>\n",
       "      <td>0</td>\n",
       "      <td>0</td>\n",
       "      <td>0</td>\n",
       "      <td>0</td>\n",
       "      <td>0</td>\n",
       "      <td>0</td>\n",
       "      <td>0</td>\n",
       "      <td>0</td>\n",
       "      <td>1</td>\n",
       "    </tr>\n",
       "    <tr>\n",
       "      <th>Just got sent this photo from Ruby #Alaska as smoke from #wildfires pours into a school</th>\n",
       "      <td>0</td>\n",
       "      <td>0</td>\n",
       "      <td>1</td>\n",
       "      <td>0</td>\n",
       "      <td>0</td>\n",
       "      <td>0</td>\n",
       "      <td>1</td>\n",
       "      <td>0</td>\n",
       "      <td>0</td>\n",
       "      <td>0</td>\n",
       "      <td>...</td>\n",
       "      <td>0</td>\n",
       "      <td>1</td>\n",
       "      <td>1</td>\n",
       "      <td>0</td>\n",
       "      <td>1</td>\n",
       "      <td>0</td>\n",
       "      <td>1</td>\n",
       "      <td>0</td>\n",
       "      <td>0</td>\n",
       "      <td>1</td>\n",
       "    </tr>\n",
       "  </tbody>\n",
       "</table>\n",
       "<p>5 rows × 54 columns</p>\n",
       "</div>"
      ],
      "text/plain": [
       "                                                    000  13  alaska  all  \\\n",
       "text                                                                       \n",
       "Our Deeds are the Reason of this #earthquake Ma...    0   0       0    1   \n",
       "Forest fire near La Ronge Sask. Canada                0   0       0    0   \n",
       "All residents asked to 'shelter in place' are b...    0   0       0    1   \n",
       "13,000 people receive #wildfires evacuation ord...    1   1       0    0   \n",
       "Just got sent this photo from Ruby #Alaska as s...    0   0       1    0   \n",
       "\n",
       "                                                    allah  are  as  asked  \\\n",
       "text                                                                        \n",
       "Our Deeds are the Reason of this #earthquake Ma...      1    1   0      0   \n",
       "Forest fire near La Ronge Sask. Canada                  0    0   0      0   \n",
       "All residents asked to 'shelter in place' are b...      0    2   0      1   \n",
       "13,000 people receive #wildfires evacuation ord...      0    0   0      0   \n",
       "Just got sent this photo from Ruby #Alaska as s...      0    0   1      0   \n",
       "\n",
       "                                                    being  by  ...  sask  \\\n",
       "text                                                           ...         \n",
       "Our Deeds are the Reason of this #earthquake Ma...      0   0  ...     0   \n",
       "Forest fire near La Ronge Sask. Canada                  0   0  ...     1   \n",
       "All residents asked to 'shelter in place' are b...      1   1  ...     0   \n",
       "13,000 people receive #wildfires evacuation ord...      0   0  ...     0   \n",
       "Just got sent this photo from Ruby #Alaska as s...      0   0  ...     0   \n",
       "\n",
       "                                                    school  sent  shelter  \\\n",
       "text                                                                        \n",
       "Our Deeds are the Reason of this #earthquake Ma...       0     0        0   \n",
       "Forest fire near La Ronge Sask. Canada                   0     0        0   \n",
       "All residents asked to 'shelter in place' are b...       0     0        2   \n",
       "13,000 people receive #wildfires evacuation ord...       0     0        0   \n",
       "Just got sent this photo from Ruby #Alaska as s...       1     1        0   \n",
       "\n",
       "                                                    smoke  the  this  to  us  \\\n",
       "text                                                                           \n",
       "Our Deeds are the Reason of this #earthquake Ma...      0    1     1   0   1   \n",
       "Forest fire near La Ronge Sask. Canada                  0    0     0   0   0   \n",
       "All residents asked to 'shelter in place' are b...      0    0     0   1   0   \n",
       "13,000 people receive #wildfires evacuation ord...      0    0     0   0   0   \n",
       "Just got sent this photo from Ruby #Alaska as s...      1    0     1   0   0   \n",
       "\n",
       "                                                    wildfires  \n",
       "text                                                           \n",
       "Our Deeds are the Reason of this #earthquake Ma...          0  \n",
       "Forest fire near La Ronge Sask. Canada                      0  \n",
       "All residents asked to 'shelter in place' are b...          0  \n",
       "13,000 people receive #wildfires evacuation ord...          1  \n",
       "Just got sent this photo from Ruby #Alaska as s...          1  \n",
       "\n",
       "[5 rows x 54 columns]"
      ]
     },
     "execution_count": 150,
     "metadata": {},
     "output_type": "execute_result"
    }
   ],
   "source": [
    "pd.DataFrame(example_train_vectors.toarray(),index=train_df[\"text\"][0:5],columns=count_vectorizer_example.get_feature_names())"
   ]
  },
  {
   "cell_type": "code",
   "execution_count": 151,
   "metadata": {},
   "outputs": [
    {
     "data": {
      "text/plain": [
       "66"
      ]
     },
     "execution_count": 151,
     "metadata": {},
     "output_type": "execute_result"
    }
   ],
   "source": [
    "train_df[\"text\"][0:5].apply(lambda x: len(x.split())).sum()"
   ]
  },
  {
   "cell_type": "markdown",
   "metadata": {},
   "source": [
    "And based on the above, we know there were a total of 66 words across the 5 tweets - but 54 unique words! We can summarize by saying that `CountVectorizer()` enables us to understand the frequency of words (as shown above), but doesn't include semantics (how a word can take on a different meaning based on the words around it).\n",
    "\n",
    "An example would be of a document that contains the word **good**. The word by itself is positive, but can take on a negative meaning if proceeded by the word **not** - that's not good! `CountVectorizer()` is simply a 'bag of words' technique, curated as a sparse matrix, and readable for a machine."
   ]
  },
  {
   "cell_type": "markdown",
   "metadata": {},
   "source": [
    "Now let's create vectors for all of our tweets based solely on `CountVectorizer()`."
   ]
  },
  {
   "cell_type": "code",
   "execution_count": 193,
   "metadata": {},
   "outputs": [],
   "source": [
    "count_vectorizer = feature_extraction.text.CountVectorizer()\n",
    "\n",
    "train_vectors = count_vectorizer.fit_transform(train_df[\"text\"])\n",
    "\n",
    "## note that we're NOT using .fit_transform() here. Using just .transform() makes sure\n",
    "# that the tokens in the train vectors are the only ones mapped to the test vectors - \n",
    "# i.e. that the train and test vectors use the same set of tokens.\n",
    "test_vectors = count_vectorizer.transform(test_df[\"text\"])"
   ]
  },
  {
   "cell_type": "markdown",
   "metadata": {},
   "source": [
    "### Our model\n",
    "\n",
    "As we mentioned above, we think the words contained in each tweet are a good indicator of whether they're about a real disaster or not. The presence of particular word (or set of words) in a tweet might link directly to whether or not that tweet is real.\n",
    "\n",
    "What we're assuming here is a _linear_ connection. So let's build a linear model and see!"
   ]
  },
  {
   "cell_type": "code",
   "execution_count": 194,
   "metadata": {},
   "outputs": [],
   "source": [
    "## Our vectors are really big, so we want to push our model's weights\n",
    "## toward 0 without completely discounting different words - ridge regression \n",
    "## is a good way to do this.\n",
    "clf = linear_model.RidgeClassifier()"
   ]
  },
  {
   "cell_type": "markdown",
   "metadata": {},
   "source": [
    "Let's test our model and see how well it does on the training data. For this we'll use `cross-validation` - where we train on a portion of the known data, then validate it with the rest. If we do this several times (with different portions) we can get a good idea for how a particular model or method performs.\n",
    "\n",
    "The metric for this competition is F1 (a good balance of precision and recall), so let's use that here."
   ]
  },
  {
   "cell_type": "code",
   "execution_count": 196,
   "metadata": {},
   "outputs": [],
   "source": [
    "scores = model_selection.cross_validate(clf, train_vectors, train_df[\"target\"], cv=3, scoring=\"f1\",\n",
    "                                       return_train_score=True)"
   ]
  },
  {
   "cell_type": "code",
   "execution_count": 197,
   "metadata": {},
   "outputs": [
    {
     "data": {
      "text/plain": [
       "{'fit_time': array([0.05385566, 0.04886889, 0.05086327]),\n",
       " 'score_time': array([0.00099683, 0.00099778, 0.00099778]),\n",
       " 'test_score': array([0.59453669, 0.56498283, 0.64051005]),\n",
       " 'train_score': array([0.99448529, 0.99678899, 0.99425683])}"
      ]
     },
     "execution_count": 197,
     "metadata": {},
     "output_type": "execute_result"
    }
   ],
   "source": [
    "scores"
   ]
  },
  {
   "cell_type": "markdown",
   "metadata": {},
   "source": [
    "The above scores aren't terrible! It looks like our assumption will score roughly 0.65 on the leaderboard. There are lots of ways to potentially improve on this (TFIDF, LSA, LSTM / RNNs, the list is long!) - give any of them a shot!\n",
    "\n",
    "We should note here the we are severaly overfitting! Even without plotting a learning curve, we can note that model is overfitting based on the simple differences between the train and test scores in the printed `scores` array.\n",
    "\n",
    "In the meantime, let's do predictions on our training set and build a submission for the competition."
   ]
  },
  {
   "cell_type": "code",
   "execution_count": 126,
   "metadata": {},
   "outputs": [
    {
     "data": {
      "text/plain": [
       "RidgeClassifier()"
      ]
     },
     "execution_count": 126,
     "metadata": {},
     "output_type": "execute_result"
    }
   ],
   "source": [
    "clf.fit(train_vectors, train_df[\"target\"])"
   ]
  },
  {
   "cell_type": "code",
   "execution_count": 127,
   "metadata": {},
   "outputs": [],
   "source": [
    "submission(\"ridge_submission.csv\", clf, test_vectors, test_df.id)"
   ]
  },
  {
   "cell_type": "code",
   "execution_count": 128,
   "metadata": {},
   "outputs": [
    {
     "name": "stdout",
     "output_type": "stream",
     "text": [
      "Successfully submitted to Real or Not? NLP with Disaster Tweets\n"
     ]
    },
    {
     "name": "stderr",
     "output_type": "stream",
     "text": [
      "\n",
      "  0%|          | 0.00/25.4k [00:00<?, ?B/s]\n",
      "100%|##########| 25.4k/25.4k [00:01<00:00, 13.9kB/s]\n"
     ]
    }
   ],
   "source": [
    "#! kaggle competitions submit -c nlp-getting-started -f ridge_submission.csv -m \"first submission - ridge linear regression\""
   ]
  },
  {
   "cell_type": "markdown",
   "metadata": {},
   "source": [
    "## Ridge Classification"
   ]
  },
  {
   "cell_type": "markdown",
   "metadata": {},
   "source": [
    "We saw above that our ridge estimator was overfitting drastically. Let's see if we can tune our alpha parameter with grid searching to increase the mean f1 score on the validation set."
   ]
  },
  {
   "cell_type": "code",
   "execution_count": 207,
   "metadata": {},
   "outputs": [
    {
     "data": {
      "text/plain": [
       "GridSearchCV(cv=3, estimator=RidgeClassifier(),\n",
       "             param_grid={'alpha': [0.1, 0.2, 0.30000000000000004, 0.4, 0.5, 0.6,\n",
       "                                   0.7000000000000001, 0.8, 0.9, 1.0, 1.1,\n",
       "                                   1.2000000000000002, 1.3000000000000003,\n",
       "                                   1.4000000000000001, 1.5000000000000002, 1.6,\n",
       "                                   1.7000000000000002, 1.8000000000000003,\n",
       "                                   1.9000000000000001, 2.0, 2.1, 2.2,\n",
       "                                   2.3000000000000003, 2.4000000000000004,\n",
       "                                   2.5000000000000004, 2.6, 2.7,\n",
       "                                   2.8000000000000003, 2.9000000000000004,\n",
       "                                   3.0000000000000004, ...]},\n",
       "             return_train_score=True, scoring='f1')"
      ]
     },
     "execution_count": 207,
     "metadata": {},
     "output_type": "execute_result"
    }
   ],
   "source": [
    "# Call GridSearch function\n",
    "parameters = {'alpha':list(np.arange(0.1,10.1,0.1))}\n",
    "\n",
    "# Parameters of pipelines can be set using ‘__’ separated parameter names:\n",
    "reg_xgb_1 = model_selection.GridSearchCV(clf, param_grid=parameters, cv=3,\n",
    "                        scoring='f1', return_train_score=True)\n",
    "reg_xgb_1.fit(train_vectors, train_df[\"target\"])"
   ]
  },
  {
   "cell_type": "code",
   "execution_count": 208,
   "metadata": {},
   "outputs": [
    {
     "data": {
      "text/plain": [
       "(0.6279130406278751, {'alpha': 6.1})"
      ]
     },
     "execution_count": 208,
     "metadata": {},
     "output_type": "execute_result"
    }
   ],
   "source": [
    "reg_xgb_1.best_score_, reg_xgb_1.best_params_"
   ]
  },
  {
   "cell_type": "markdown",
   "metadata": {},
   "source": [
    "Looks like, from 0.1 to 10 for alpha, the best F1 score we can obtain is with alpha=6.1. We notice that the model is still grossly underfitting. We'll need a non-linear model that can better generalize. Let's submit this preds to Kaggle. Next, let's discover TF-IDF and its effects."
   ]
  },
  {
   "cell_type": "code",
   "execution_count": 244,
   "metadata": {},
   "outputs": [],
   "source": [
    "clf = reg_xgb_1.best_estimator_.fit(train_vectors, train_df[\"target\"])"
   ]
  },
  {
   "cell_type": "code",
   "execution_count": 249,
   "metadata": {},
   "outputs": [],
   "source": [
    "submission = pd.DataFrame({\n",
    "        \"id\": test_df.id, \n",
    "        \"target\": clf.predict(test_vectors)})\n",
    "submission.to_csv(\"ridge_6.1reg.csv\", index=False)"
   ]
  },
  {
   "cell_type": "code",
   "execution_count": 250,
   "metadata": {},
   "outputs": [
    {
     "name": "stdout",
     "output_type": "stream",
     "text": [
      "Successfully submitted to Real or Not? NLP with Disaster Tweets\n"
     ]
    },
    {
     "name": "stderr",
     "output_type": "stream",
     "text": [
      "\n",
      "  0%|          | 0.00/25.4k [00:00<?, ?B/s]\n",
      "100%|##########| 25.4k/25.4k [00:01<00:00, 15.0kB/s]\n"
     ]
    }
   ],
   "source": [
    "#! kaggle competitions submit -c nlp-getting-started -f ridge_6.1reg.csv -m \"ridge with reg\""
   ]
  },
  {
   "cell_type": "markdown",
   "metadata": {},
   "source": [
    "### TF-IDF"
   ]
  },
  {
   "cell_type": "markdown",
   "metadata": {},
   "source": [
    "So - what is TF-IDF? Let's start with what it stands for:\n",
    "TF means Term Frequency, and IDF means Inverse Document Frequency.\n",
    "\n",
    "We define Term Frequency simply as:\n",
    "\n",
    "$$TF = {\\textrm{no. of repetitions of a word in a tweet}\\over \\textrm{no. of words in tweet}}$$\n",
    "\n",
    "Using the above, we can construct a matrix mxn, where:\n",
    "\n",
    "m: The vocabulary, or unique words/tokens among all the tweets (minus stopping words, of course!).\n",
    "\n",
    "n: The tweet identifier.\n",
    "\n",
    "Let's take two real tweets from the data as an example (no processing done):\n",
    "\n",
    "**'tweet1'**: 'Forest fire near La Ronge Sask. Canada'\n",
    "\n",
    "**'tweet2'**: 'Damage to school bus on 80 in multi car crash #BREAKING '\n",
    "\n",
    "Thus, we have the matrix TF (3x2) as defined as:\n",
    "\n",
    "|   | tweet1  |  tweet2 |\n",
    "|---|---|---|\n",
    "| forest  | 1/7  |  0 |\n",
    "|  fire |  1/7 |  0  |\n",
    "|  damage | 0  | 1/11 |\n",
    "\n",
    "Forest, relief and damage are just examples of a much larger corpus of words/tokens that'd we'd find if we looked at all the tweets (and more between just these two examples!)\n",
    "\n",
    "For Inverse Document Frequency, we can define this as:\n",
    "\n",
    "$$IDF = log({\\textrm{no. of tweets}\\over \\textrm{no. tweets containing the word}})$$\n",
    "\n",
    "And thus,\n",
    "\n",
    "|   | IDF  |\n",
    "|---|---|\n",
    "| forest  | log(2/1)  |\n",
    "|  fire |  log(2/1) |\n",
    "|  damage | log(2/1)  |\n",
    "\n",
    "\n",
    "Now, let's actually compute TF-IDF! If we do matrix multiplication of these two, we'll get a 3x2 matrix:\n",
    "\n",
    "|   | f1  | f2  |  f3 |\n",
    "|---|---|---|---|\n",
    "|tweet1  | 0.043  | 0.043  |  0 |\n",
    "|  tweet2 | 0  | 0  | 0.027  |\n",
    "\n",
    "What this has effectively done is show more 'importance' to words within a tweet that don't show up in other tweets. The words/tokens are **weighted** as opposed to simple term frequency counts (`CountVectorizer()`). Neat!\n",
    "\n",
    "The cons to this approach is that we are again oblivious to sentiment.\n",
    "\n",
    "Let's print out the TF-IDF matrix for our 5-tweet example.\n"
   ]
  },
  {
   "cell_type": "code",
   "execution_count": 138,
   "metadata": {},
   "outputs": [],
   "source": [
    "vectorizer = TfidfVectorizer(max_df=1.0)\n",
    "train_vectors = vectorizer.fit_transform(train_df['text'][0:5])"
   ]
  },
  {
   "cell_type": "code",
   "execution_count": 139,
   "metadata": {},
   "outputs": [
    {
     "data": {
      "text/html": [
       "<div>\n",
       "<style scoped>\n",
       "    .dataframe tbody tr th:only-of-type {\n",
       "        vertical-align: middle;\n",
       "    }\n",
       "\n",
       "    .dataframe tbody tr th {\n",
       "        vertical-align: top;\n",
       "    }\n",
       "\n",
       "    .dataframe thead th {\n",
       "        text-align: right;\n",
       "    }\n",
       "</style>\n",
       "<table border=\"1\" class=\"dataframe\">\n",
       "  <thead>\n",
       "    <tr style=\"text-align: right;\">\n",
       "      <th></th>\n",
       "      <th>000</th>\n",
       "      <th>13</th>\n",
       "      <th>alaska</th>\n",
       "      <th>all</th>\n",
       "      <th>allah</th>\n",
       "      <th>are</th>\n",
       "      <th>as</th>\n",
       "      <th>asked</th>\n",
       "      <th>being</th>\n",
       "      <th>by</th>\n",
       "      <th>...</th>\n",
       "      <th>sask</th>\n",
       "      <th>school</th>\n",
       "      <th>sent</th>\n",
       "      <th>shelter</th>\n",
       "      <th>smoke</th>\n",
       "      <th>the</th>\n",
       "      <th>this</th>\n",
       "      <th>to</th>\n",
       "      <th>us</th>\n",
       "      <th>wildfires</th>\n",
       "    </tr>\n",
       "    <tr>\n",
       "      <th>text</th>\n",
       "      <th></th>\n",
       "      <th></th>\n",
       "      <th></th>\n",
       "      <th></th>\n",
       "      <th></th>\n",
       "      <th></th>\n",
       "      <th></th>\n",
       "      <th></th>\n",
       "      <th></th>\n",
       "      <th></th>\n",
       "      <th></th>\n",
       "      <th></th>\n",
       "      <th></th>\n",
       "      <th></th>\n",
       "      <th></th>\n",
       "      <th></th>\n",
       "      <th></th>\n",
       "      <th></th>\n",
       "      <th></th>\n",
       "      <th></th>\n",
       "      <th></th>\n",
       "    </tr>\n",
       "  </thead>\n",
       "  <tbody>\n",
       "    <tr>\n",
       "      <th>Our Deeds are the Reason of this #earthquake May ALLAH Forgive us all</th>\n",
       "      <td>0.000000</td>\n",
       "      <td>0.000000</td>\n",
       "      <td>0.000000</td>\n",
       "      <td>0.233361</td>\n",
       "      <td>0.289245</td>\n",
       "      <td>0.233361</td>\n",
       "      <td>0.000000</td>\n",
       "      <td>0.000000</td>\n",
       "      <td>0.000000</td>\n",
       "      <td>0.000000</td>\n",
       "      <td>...</td>\n",
       "      <td>0.000000</td>\n",
       "      <td>0.000000</td>\n",
       "      <td>0.000000</td>\n",
       "      <td>0.00000</td>\n",
       "      <td>0.000000</td>\n",
       "      <td>0.289245</td>\n",
       "      <td>0.233361</td>\n",
       "      <td>0.000000</td>\n",
       "      <td>0.289245</td>\n",
       "      <td>0.000000</td>\n",
       "    </tr>\n",
       "    <tr>\n",
       "      <th>Forest fire near La Ronge Sask. Canada</th>\n",
       "      <td>0.000000</td>\n",
       "      <td>0.000000</td>\n",
       "      <td>0.000000</td>\n",
       "      <td>0.000000</td>\n",
       "      <td>0.000000</td>\n",
       "      <td>0.000000</td>\n",
       "      <td>0.000000</td>\n",
       "      <td>0.000000</td>\n",
       "      <td>0.000000</td>\n",
       "      <td>0.000000</td>\n",
       "      <td>...</td>\n",
       "      <td>0.377964</td>\n",
       "      <td>0.000000</td>\n",
       "      <td>0.000000</td>\n",
       "      <td>0.00000</td>\n",
       "      <td>0.000000</td>\n",
       "      <td>0.000000</td>\n",
       "      <td>0.000000</td>\n",
       "      <td>0.000000</td>\n",
       "      <td>0.000000</td>\n",
       "      <td>0.000000</td>\n",
       "    </tr>\n",
       "    <tr>\n",
       "      <th>All residents asked to 'shelter in place' are being notified by officers. No other evacuation or shelter in place orders are expected</th>\n",
       "      <td>0.000000</td>\n",
       "      <td>0.000000</td>\n",
       "      <td>0.000000</td>\n",
       "      <td>0.157740</td>\n",
       "      <td>0.000000</td>\n",
       "      <td>0.315481</td>\n",
       "      <td>0.000000</td>\n",
       "      <td>0.195515</td>\n",
       "      <td>0.195515</td>\n",
       "      <td>0.195515</td>\n",
       "      <td>...</td>\n",
       "      <td>0.000000</td>\n",
       "      <td>0.000000</td>\n",
       "      <td>0.000000</td>\n",
       "      <td>0.39103</td>\n",
       "      <td>0.000000</td>\n",
       "      <td>0.000000</td>\n",
       "      <td>0.000000</td>\n",
       "      <td>0.195515</td>\n",
       "      <td>0.000000</td>\n",
       "      <td>0.000000</td>\n",
       "    </tr>\n",
       "    <tr>\n",
       "      <th>13,000 people receive #wildfires evacuation orders in California</th>\n",
       "      <td>0.362651</td>\n",
       "      <td>0.362651</td>\n",
       "      <td>0.000000</td>\n",
       "      <td>0.000000</td>\n",
       "      <td>0.000000</td>\n",
       "      <td>0.000000</td>\n",
       "      <td>0.000000</td>\n",
       "      <td>0.000000</td>\n",
       "      <td>0.000000</td>\n",
       "      <td>0.000000</td>\n",
       "      <td>...</td>\n",
       "      <td>0.000000</td>\n",
       "      <td>0.000000</td>\n",
       "      <td>0.000000</td>\n",
       "      <td>0.00000</td>\n",
       "      <td>0.000000</td>\n",
       "      <td>0.000000</td>\n",
       "      <td>0.000000</td>\n",
       "      <td>0.000000</td>\n",
       "      <td>0.000000</td>\n",
       "      <td>0.292584</td>\n",
       "    </tr>\n",
       "    <tr>\n",
       "      <th>Just got sent this photo from Ruby #Alaska as smoke from #wildfires pours into a school</th>\n",
       "      <td>0.000000</td>\n",
       "      <td>0.000000</td>\n",
       "      <td>0.247675</td>\n",
       "      <td>0.000000</td>\n",
       "      <td>0.000000</td>\n",
       "      <td>0.000000</td>\n",
       "      <td>0.247675</td>\n",
       "      <td>0.000000</td>\n",
       "      <td>0.000000</td>\n",
       "      <td>0.000000</td>\n",
       "      <td>...</td>\n",
       "      <td>0.000000</td>\n",
       "      <td>0.247675</td>\n",
       "      <td>0.247675</td>\n",
       "      <td>0.00000</td>\n",
       "      <td>0.247675</td>\n",
       "      <td>0.000000</td>\n",
       "      <td>0.199822</td>\n",
       "      <td>0.000000</td>\n",
       "      <td>0.000000</td>\n",
       "      <td>0.199822</td>\n",
       "    </tr>\n",
       "  </tbody>\n",
       "</table>\n",
       "<p>5 rows × 54 columns</p>\n",
       "</div>"
      ],
      "text/plain": [
       "                                                         000        13  \\\n",
       "text                                                                     \n",
       "Our Deeds are the Reason of this #earthquake Ma...  0.000000  0.000000   \n",
       "Forest fire near La Ronge Sask. Canada              0.000000  0.000000   \n",
       "All residents asked to 'shelter in place' are b...  0.000000  0.000000   \n",
       "13,000 people receive #wildfires evacuation ord...  0.362651  0.362651   \n",
       "Just got sent this photo from Ruby #Alaska as s...  0.000000  0.000000   \n",
       "\n",
       "                                                      alaska       all  \\\n",
       "text                                                                     \n",
       "Our Deeds are the Reason of this #earthquake Ma...  0.000000  0.233361   \n",
       "Forest fire near La Ronge Sask. Canada              0.000000  0.000000   \n",
       "All residents asked to 'shelter in place' are b...  0.000000  0.157740   \n",
       "13,000 people receive #wildfires evacuation ord...  0.000000  0.000000   \n",
       "Just got sent this photo from Ruby #Alaska as s...  0.247675  0.000000   \n",
       "\n",
       "                                                       allah       are  \\\n",
       "text                                                                     \n",
       "Our Deeds are the Reason of this #earthquake Ma...  0.289245  0.233361   \n",
       "Forest fire near La Ronge Sask. Canada              0.000000  0.000000   \n",
       "All residents asked to 'shelter in place' are b...  0.000000  0.315481   \n",
       "13,000 people receive #wildfires evacuation ord...  0.000000  0.000000   \n",
       "Just got sent this photo from Ruby #Alaska as s...  0.000000  0.000000   \n",
       "\n",
       "                                                          as     asked  \\\n",
       "text                                                                     \n",
       "Our Deeds are the Reason of this #earthquake Ma...  0.000000  0.000000   \n",
       "Forest fire near La Ronge Sask. Canada              0.000000  0.000000   \n",
       "All residents asked to 'shelter in place' are b...  0.000000  0.195515   \n",
       "13,000 people receive #wildfires evacuation ord...  0.000000  0.000000   \n",
       "Just got sent this photo from Ruby #Alaska as s...  0.247675  0.000000   \n",
       "\n",
       "                                                       being        by  ...  \\\n",
       "text                                                                    ...   \n",
       "Our Deeds are the Reason of this #earthquake Ma...  0.000000  0.000000  ...   \n",
       "Forest fire near La Ronge Sask. Canada              0.000000  0.000000  ...   \n",
       "All residents asked to 'shelter in place' are b...  0.195515  0.195515  ...   \n",
       "13,000 people receive #wildfires evacuation ord...  0.000000  0.000000  ...   \n",
       "Just got sent this photo from Ruby #Alaska as s...  0.000000  0.000000  ...   \n",
       "\n",
       "                                                        sask    school  \\\n",
       "text                                                                     \n",
       "Our Deeds are the Reason of this #earthquake Ma...  0.000000  0.000000   \n",
       "Forest fire near La Ronge Sask. Canada              0.377964  0.000000   \n",
       "All residents asked to 'shelter in place' are b...  0.000000  0.000000   \n",
       "13,000 people receive #wildfires evacuation ord...  0.000000  0.000000   \n",
       "Just got sent this photo from Ruby #Alaska as s...  0.000000  0.247675   \n",
       "\n",
       "                                                        sent  shelter  \\\n",
       "text                                                                    \n",
       "Our Deeds are the Reason of this #earthquake Ma...  0.000000  0.00000   \n",
       "Forest fire near La Ronge Sask. Canada              0.000000  0.00000   \n",
       "All residents asked to 'shelter in place' are b...  0.000000  0.39103   \n",
       "13,000 people receive #wildfires evacuation ord...  0.000000  0.00000   \n",
       "Just got sent this photo from Ruby #Alaska as s...  0.247675  0.00000   \n",
       "\n",
       "                                                       smoke       the  \\\n",
       "text                                                                     \n",
       "Our Deeds are the Reason of this #earthquake Ma...  0.000000  0.289245   \n",
       "Forest fire near La Ronge Sask. Canada              0.000000  0.000000   \n",
       "All residents asked to 'shelter in place' are b...  0.000000  0.000000   \n",
       "13,000 people receive #wildfires evacuation ord...  0.000000  0.000000   \n",
       "Just got sent this photo from Ruby #Alaska as s...  0.247675  0.000000   \n",
       "\n",
       "                                                        this        to  \\\n",
       "text                                                                     \n",
       "Our Deeds are the Reason of this #earthquake Ma...  0.233361  0.000000   \n",
       "Forest fire near La Ronge Sask. Canada              0.000000  0.000000   \n",
       "All residents asked to 'shelter in place' are b...  0.000000  0.195515   \n",
       "13,000 people receive #wildfires evacuation ord...  0.000000  0.000000   \n",
       "Just got sent this photo from Ruby #Alaska as s...  0.199822  0.000000   \n",
       "\n",
       "                                                          us  wildfires  \n",
       "text                                                                     \n",
       "Our Deeds are the Reason of this #earthquake Ma...  0.289245   0.000000  \n",
       "Forest fire near La Ronge Sask. Canada              0.000000   0.000000  \n",
       "All residents asked to 'shelter in place' are b...  0.000000   0.000000  \n",
       "13,000 people receive #wildfires evacuation ord...  0.000000   0.292584  \n",
       "Just got sent this photo from Ruby #Alaska as s...  0.000000   0.199822  \n",
       "\n",
       "[5 rows x 54 columns]"
      ]
     },
     "execution_count": 139,
     "metadata": {},
     "output_type": "execute_result"
    }
   ],
   "source": [
    "pd.DataFrame(train_vectors.toarray(),index=train_df[\"text\"][0:5],columns=vectorizer.get_feature_names())"
   ]
  },
  {
   "cell_type": "markdown",
   "metadata": {},
   "source": [
    "Take the word `all` for example. In the term frequency before, we just had a '1' for tweets 1 and 3 as the word only appeared once in each tweet. However, in TF-IDF, tweet 1 is weighted more now because tweet 1 has *fewer words* than tweet 3 (the total number of words in a tweet is in the denominator of the tf equation."
   ]
  },
  {
   "cell_type": "markdown",
   "metadata": {},
   "source": [
    "### Ridge Classification with TF-IDF"
   ]
  },
  {
   "cell_type": "code",
   "execution_count": 34,
   "metadata": {},
   "outputs": [],
   "source": [
    "vectorizer = TfidfVectorizer(max_df=1.0)\n",
    "train_vectors = vectorizer.fit_transform(train_df['text'])\n",
    "test_vectors = vectorizer.transform(test_df['text'])"
   ]
  },
  {
   "cell_type": "code",
   "execution_count": 252,
   "metadata": {},
   "outputs": [
    {
     "data": {
      "text/plain": [
       "GridSearchCV(cv=3, estimator=RidgeClassifier(),\n",
       "             param_grid={'alpha': [0.1, 0.2, 0.30000000000000004, 0.4, 0.5, 0.6,\n",
       "                                   0.7000000000000001, 0.8, 0.9, 1.0, 1.1,\n",
       "                                   1.2000000000000002, 1.3000000000000003,\n",
       "                                   1.4000000000000001, 1.5000000000000002, 1.6,\n",
       "                                   1.7000000000000002, 1.8000000000000003,\n",
       "                                   1.9000000000000001, 2.0, 2.1, 2.2,\n",
       "                                   2.3000000000000003, 2.4000000000000004,\n",
       "                                   2.5000000000000004, 2.6, 2.7,\n",
       "                                   2.8000000000000003, 2.9000000000000004,\n",
       "                                   3.0000000000000004, ...]},\n",
       "             return_train_score=True, scoring='f1')"
      ]
     },
     "execution_count": 252,
     "metadata": {},
     "output_type": "execute_result"
    }
   ],
   "source": [
    "clf = linear_model.RidgeClassifier(alpha=1.0)\n",
    "# Call GridSearch function\n",
    "parameters = {'alpha':list(np.arange(0.1,10.1,0.1))}\n",
    "\n",
    "# Parameters of pipelines can be set using ‘__’ separated parameter names:\n",
    "clf_tfidf = model_selection.GridSearchCV(clf, param_grid=parameters, cv=3,\n",
    "                        scoring='f1', return_train_score=True)\n",
    "clf_tfidf.fit(train_vectors, train_df[\"target\"])"
   ]
  },
  {
   "cell_type": "code",
   "execution_count": 257,
   "metadata": {},
   "outputs": [
    {
     "data": {
      "text/plain": [
       "0.6467943700027763"
      ]
     },
     "execution_count": 257,
     "metadata": {},
     "output_type": "execute_result"
    }
   ],
   "source": [
    "clf_tfidf.best_score_"
   ]
  },
  {
   "cell_type": "markdown",
   "metadata": {},
   "source": [
    "This already outperforms the ridge model before without TF-IDF. Nice!"
   ]
  },
  {
   "cell_type": "code",
   "execution_count": 255,
   "metadata": {},
   "outputs": [],
   "source": [
    "clf_tfidf_best = clf_tfidf.best_estimator_.fit(train_vectors, train_df[\"target\"])\n",
    "submission = pd.DataFrame({\n",
    "        \"id\": test_df.id, \n",
    "        \"target\": clf_tfidf_best.predict(test_vectors)})\n",
    "submission.to_csv(\"ridge_tfidf_1.6reg.csv\", index=False)"
   ]
  },
  {
   "cell_type": "code",
   "execution_count": 256,
   "metadata": {},
   "outputs": [
    {
     "name": "stderr",
     "output_type": "stream",
     "text": [
      "\n",
      "  0%|          | 0.00/25.4k [00:00<?, ?B/s]\n",
      "100%|##########| 25.4k/25.4k [00:02<00:00, 9.47kB/s]\n"
     ]
    },
    {
     "name": "stdout",
     "output_type": "stream",
     "text": [
      "Successfully submitted to Real or Not? NLP with Disaster Tweets\n"
     ]
    }
   ],
   "source": [
    "#! kaggle competitions submit -c nlp-getting-started -f ridge_tfidf_1.6reg.csv -m \"ridge classification with tfidf and reg\""
   ]
  },
  {
   "cell_type": "markdown",
   "metadata": {},
   "source": [
    "We could tune our model here by adjusting the `TfidVectorizer` parameters (max_df, vocabulary, or input our own stopping words). "
   ]
  },
  {
   "cell_type": "markdown",
   "metadata": {},
   "source": [
    "## LSA (Latent Semantic Analysis)"
   ]
  },
  {
   "cell_type": "markdown",
   "metadata": {},
   "source": [
    "Let's take the same 5 tweets as before and perform LSA to check similarities! "
   ]
  },
  {
   "cell_type": "code",
   "execution_count": 497,
   "metadata": {},
   "outputs": [],
   "source": [
    "# Fit LSA. Use algorithm = “randomized” for large datasets\n",
    "lsa = TruncatedSVD(3)\n",
    "dtm_lsa = lsa.fit_transform(example_train_vectors)\n",
    "dtm_lsa = preprocessing.Normalizer(copy=False).fit_transform(dtm_lsa)"
   ]
  },
  {
   "cell_type": "code",
   "execution_count": 156,
   "metadata": {},
   "outputs": [
    {
     "data": {
      "text/plain": [
       "(5, 54)"
      ]
     },
     "execution_count": 156,
     "metadata": {},
     "output_type": "execute_result"
    }
   ],
   "source": [
    "example_train_vectors.shape"
   ]
  },
  {
   "cell_type": "code",
   "execution_count": 157,
   "metadata": {},
   "outputs": [
    {
     "data": {
      "text/html": [
       "<div>\n",
       "<style scoped>\n",
       "    .dataframe tbody tr th:only-of-type {\n",
       "        vertical-align: middle;\n",
       "    }\n",
       "\n",
       "    .dataframe tbody tr th {\n",
       "        vertical-align: top;\n",
       "    }\n",
       "\n",
       "    .dataframe thead th {\n",
       "        text-align: right;\n",
       "    }\n",
       "</style>\n",
       "<table border=\"1\" class=\"dataframe\">\n",
       "  <thead>\n",
       "    <tr style=\"text-align: right;\">\n",
       "      <th></th>\n",
       "      <th>000</th>\n",
       "      <th>13</th>\n",
       "      <th>alaska</th>\n",
       "      <th>all</th>\n",
       "      <th>allah</th>\n",
       "      <th>are</th>\n",
       "      <th>as</th>\n",
       "      <th>asked</th>\n",
       "      <th>being</th>\n",
       "      <th>by</th>\n",
       "      <th>...</th>\n",
       "      <th>sask</th>\n",
       "      <th>school</th>\n",
       "      <th>sent</th>\n",
       "      <th>shelter</th>\n",
       "      <th>smoke</th>\n",
       "      <th>the</th>\n",
       "      <th>this</th>\n",
       "      <th>to</th>\n",
       "      <th>us</th>\n",
       "      <th>wildfires</th>\n",
       "    </tr>\n",
       "  </thead>\n",
       "  <tbody>\n",
       "    <tr>\n",
       "      <th>component_1</th>\n",
       "      <td>0.031466</td>\n",
       "      <td>0.031466</td>\n",
       "      <td>0.004240</td>\n",
       "      <td>0.202587</td>\n",
       "      <td>0.028838</td>\n",
       "      <td>0.376336</td>\n",
       "      <td>0.004240</td>\n",
       "      <td>0.173749</td>\n",
       "      <td>0.173749</td>\n",
       "      <td>0.173749</td>\n",
       "      <td>...</td>\n",
       "      <td>9.722136e-17</td>\n",
       "      <td>0.004240</td>\n",
       "      <td>0.004240</td>\n",
       "      <td>0.347498</td>\n",
       "      <td>0.004240</td>\n",
       "      <td>0.028838</td>\n",
       "      <td>0.033078</td>\n",
       "      <td>0.173749</td>\n",
       "      <td>0.028838</td>\n",
       "      <td>0.035706</td>\n",
       "    </tr>\n",
       "    <tr>\n",
       "      <th>component_2</th>\n",
       "      <td>0.020393</td>\n",
       "      <td>0.020393</td>\n",
       "      <td>0.235213</td>\n",
       "      <td>0.026752</td>\n",
       "      <td>0.043386</td>\n",
       "      <td>0.010118</td>\n",
       "      <td>0.235213</td>\n",
       "      <td>-0.016634</td>\n",
       "      <td>-0.016634</td>\n",
       "      <td>-0.016634</td>\n",
       "      <td>...</td>\n",
       "      <td>-7.728427e-17</td>\n",
       "      <td>0.235213</td>\n",
       "      <td>0.235213</td>\n",
       "      <td>-0.033268</td>\n",
       "      <td>0.235213</td>\n",
       "      <td>0.043386</td>\n",
       "      <td>0.278599</td>\n",
       "      <td>-0.016634</td>\n",
       "      <td>0.043386</td>\n",
       "      <td>0.255606</td>\n",
       "    </tr>\n",
       "    <tr>\n",
       "      <th>component_3</th>\n",
       "      <td>-0.053678</td>\n",
       "      <td>-0.053678</td>\n",
       "      <td>-0.047944</td>\n",
       "      <td>0.237762</td>\n",
       "      <td>0.272018</td>\n",
       "      <td>0.203505</td>\n",
       "      <td>-0.047944</td>\n",
       "      <td>-0.034257</td>\n",
       "      <td>-0.034257</td>\n",
       "      <td>-0.034257</td>\n",
       "      <td>...</td>\n",
       "      <td>-5.079257e-17</td>\n",
       "      <td>-0.047944</td>\n",
       "      <td>-0.047944</td>\n",
       "      <td>-0.068513</td>\n",
       "      <td>-0.047944</td>\n",
       "      <td>0.272018</td>\n",
       "      <td>0.224074</td>\n",
       "      <td>-0.034257</td>\n",
       "      <td>0.272018</td>\n",
       "      <td>-0.101622</td>\n",
       "    </tr>\n",
       "  </tbody>\n",
       "</table>\n",
       "<p>3 rows × 54 columns</p>\n",
       "</div>"
      ],
      "text/plain": [
       "                  000        13    alaska       all     allah       are  \\\n",
       "component_1  0.031466  0.031466  0.004240  0.202587  0.028838  0.376336   \n",
       "component_2  0.020393  0.020393  0.235213  0.026752  0.043386  0.010118   \n",
       "component_3 -0.053678 -0.053678 -0.047944  0.237762  0.272018  0.203505   \n",
       "\n",
       "                   as     asked     being        by  ...          sask  \\\n",
       "component_1  0.004240  0.173749  0.173749  0.173749  ...  9.722136e-17   \n",
       "component_2  0.235213 -0.016634 -0.016634 -0.016634  ... -7.728427e-17   \n",
       "component_3 -0.047944 -0.034257 -0.034257 -0.034257  ... -5.079257e-17   \n",
       "\n",
       "               school      sent   shelter     smoke       the      this  \\\n",
       "component_1  0.004240  0.004240  0.347498  0.004240  0.028838  0.033078   \n",
       "component_2  0.235213  0.235213 -0.033268  0.235213  0.043386  0.278599   \n",
       "component_3 -0.047944 -0.047944 -0.068513 -0.047944  0.272018  0.224074   \n",
       "\n",
       "                   to        us  wildfires  \n",
       "component_1  0.173749  0.028838   0.035706  \n",
       "component_2 -0.016634  0.043386   0.255606  \n",
       "component_3 -0.034257  0.272018  -0.101622  \n",
       "\n",
       "[3 rows x 54 columns]"
      ]
     },
     "execution_count": 157,
     "metadata": {},
     "output_type": "execute_result"
    }
   ],
   "source": [
    "pd.DataFrame(lsa.components_,index = [\"component_1\",\"component_2\", \"component_3\"],columns = count_vectorizer_example.get_feature_names())"
   ]
  },
  {
   "cell_type": "code",
   "execution_count": 158,
   "metadata": {},
   "outputs": [
    {
     "data": {
      "text/html": [
       "<div>\n",
       "<style scoped>\n",
       "    .dataframe tbody tr th:only-of-type {\n",
       "        vertical-align: middle;\n",
       "    }\n",
       "\n",
       "    .dataframe tbody tr th {\n",
       "        vertical-align: top;\n",
       "    }\n",
       "\n",
       "    .dataframe thead th {\n",
       "        text-align: right;\n",
       "    }\n",
       "</style>\n",
       "<table border=\"1\" class=\"dataframe\">\n",
       "  <thead>\n",
       "    <tr style=\"text-align: right;\">\n",
       "      <th></th>\n",
       "      <th>component_1</th>\n",
       "      <th>component_2</th>\n",
       "      <th>component_3</th>\n",
       "    </tr>\n",
       "    <tr>\n",
       "      <th>text</th>\n",
       "      <th></th>\n",
       "      <th></th>\n",
       "      <th></th>\n",
       "    </tr>\n",
       "  </thead>\n",
       "  <tbody>\n",
       "    <tr>\n",
       "      <th>Our Deeds are the Reason of this #earthquake May ALLAH Forgive us all</th>\n",
       "      <td>0.251329</td>\n",
       "      <td>0.209168</td>\n",
       "      <td>0.945030</td>\n",
       "    </tr>\n",
       "    <tr>\n",
       "      <th>Forest fire near La Ronge Sask. Canada</th>\n",
       "      <td>0.731603</td>\n",
       "      <td>-0.680164</td>\n",
       "      <td>-0.046191</td>\n",
       "    </tr>\n",
       "    <tr>\n",
       "      <th>All residents asked to 'shelter in place' are being notified by officers. No other evacuation or shelter in place orders are expected</th>\n",
       "      <td>0.995539</td>\n",
       "      <td>-0.052722</td>\n",
       "      <td>-0.078243</td>\n",
       "    </tr>\n",
       "    <tr>\n",
       "      <th>13,000 people receive #wildfires evacuation orders in California</th>\n",
       "      <td>0.792811</td>\n",
       "      <td>0.284236</td>\n",
       "      <td>-0.539129</td>\n",
       "    </tr>\n",
       "    <tr>\n",
       "      <th>Just got sent this photo from Ruby #Alaska as smoke from #wildfires pours into a school</th>\n",
       "      <td>0.032225</td>\n",
       "      <td>0.988870</td>\n",
       "      <td>-0.145251</td>\n",
       "    </tr>\n",
       "  </tbody>\n",
       "</table>\n",
       "</div>"
      ],
      "text/plain": [
       "                                                    component_1  component_2  \\\n",
       "text                                                                           \n",
       "Our Deeds are the Reason of this #earthquake Ma...     0.251329     0.209168   \n",
       "Forest fire near La Ronge Sask. Canada                 0.731603    -0.680164   \n",
       "All residents asked to 'shelter in place' are b...     0.995539    -0.052722   \n",
       "13,000 people receive #wildfires evacuation ord...     0.792811     0.284236   \n",
       "Just got sent this photo from Ruby #Alaska as s...     0.032225     0.988870   \n",
       "\n",
       "                                                    component_3  \n",
       "text                                                             \n",
       "Our Deeds are the Reason of this #earthquake Ma...     0.945030  \n",
       "Forest fire near La Ronge Sask. Canada                -0.046191  \n",
       "All residents asked to 'shelter in place' are b...    -0.078243  \n",
       "13,000 people receive #wildfires evacuation ord...    -0.539129  \n",
       "Just got sent this photo from Ruby #Alaska as s...    -0.145251  "
      ]
     },
     "execution_count": 158,
     "metadata": {},
     "output_type": "execute_result"
    }
   ],
   "source": [
    "pd.DataFrame(dtm_lsa, index = train_df[\"text\"][0:5], columns = [\"component_1\",\"component_2\", \"component_3\"])"
   ]
  },
  {
   "cell_type": "code",
   "execution_count": 159,
   "metadata": {},
   "outputs": [
    {
     "data": {
      "text/html": [
       "<div>\n",
       "<style scoped>\n",
       "    .dataframe tbody tr th:only-of-type {\n",
       "        vertical-align: middle;\n",
       "    }\n",
       "\n",
       "    .dataframe tbody tr th {\n",
       "        vertical-align: top;\n",
       "    }\n",
       "\n",
       "    .dataframe thead th {\n",
       "        text-align: right;\n",
       "    }\n",
       "</style>\n",
       "<table border=\"1\" class=\"dataframe\">\n",
       "  <thead>\n",
       "    <tr style=\"text-align: right;\">\n",
       "      <th>text</th>\n",
       "      <th>Our Deeds are the Reason of this #earthquake May ALLAH Forgive us all</th>\n",
       "      <th>Forest fire near La Ronge Sask. Canada</th>\n",
       "      <th>All residents asked to 'shelter in place' are being notified by officers. No other evacuation or shelter in place orders are expected</th>\n",
       "      <th>13,000 people receive #wildfires evacuation orders in California</th>\n",
       "      <th>Just got sent this photo from Ruby #Alaska as smoke from #wildfires pours into a school</th>\n",
       "    </tr>\n",
       "    <tr>\n",
       "      <th>text</th>\n",
       "      <th></th>\n",
       "      <th></th>\n",
       "      <th></th>\n",
       "      <th></th>\n",
       "      <th></th>\n",
       "    </tr>\n",
       "  </thead>\n",
       "  <tbody>\n",
       "    <tr>\n",
       "      <th>Our Deeds are the Reason of this #earthquake May ALLAH Forgive us all</th>\n",
       "      <td>1.000000</td>\n",
       "      <td>-0.002047</td>\n",
       "      <td>0.165239</td>\n",
       "      <td>-0.250784</td>\n",
       "      <td>0.077672</td>\n",
       "    </tr>\n",
       "    <tr>\n",
       "      <th>Forest fire near La Ronge Sask. Canada</th>\n",
       "      <td>-0.002047</td>\n",
       "      <td>1.000000</td>\n",
       "      <td>0.767813</td>\n",
       "      <td>0.411599</td>\n",
       "      <td>-0.642309</td>\n",
       "    </tr>\n",
       "    <tr>\n",
       "      <th>All residents asked to 'shelter in place' are being notified by officers. No other evacuation or shelter in place orders are expected</th>\n",
       "      <td>0.165239</td>\n",
       "      <td>0.767813</td>\n",
       "      <td>1.000000</td>\n",
       "      <td>0.816472</td>\n",
       "      <td>-0.008689</td>\n",
       "    </tr>\n",
       "    <tr>\n",
       "      <th>13,000 people receive #wildfires evacuation orders in California</th>\n",
       "      <td>-0.250784</td>\n",
       "      <td>0.411599</td>\n",
       "      <td>0.816472</td>\n",
       "      <td>1.000000</td>\n",
       "      <td>0.384930</td>\n",
       "    </tr>\n",
       "    <tr>\n",
       "      <th>Just got sent this photo from Ruby #Alaska as smoke from #wildfires pours into a school</th>\n",
       "      <td>0.077672</td>\n",
       "      <td>-0.642309</td>\n",
       "      <td>-0.008689</td>\n",
       "      <td>0.384930</td>\n",
       "      <td>1.000000</td>\n",
       "    </tr>\n",
       "  </tbody>\n",
       "</table>\n",
       "</div>"
      ],
      "text/plain": [
       "text                                                Our Deeds are the Reason of this #earthquake May ALLAH Forgive us all  \\\n",
       "text                                                                                                                        \n",
       "Our Deeds are the Reason of this #earthquake Ma...                                           1.000000                       \n",
       "Forest fire near La Ronge Sask. Canada                                                      -0.002047                       \n",
       "All residents asked to 'shelter in place' are b...                                           0.165239                       \n",
       "13,000 people receive #wildfires evacuation ord...                                          -0.250784                       \n",
       "Just got sent this photo from Ruby #Alaska as s...                                           0.077672                       \n",
       "\n",
       "text                                                Forest fire near La Ronge Sask. Canada  \\\n",
       "text                                                                                         \n",
       "Our Deeds are the Reason of this #earthquake Ma...                               -0.002047   \n",
       "Forest fire near La Ronge Sask. Canada                                            1.000000   \n",
       "All residents asked to 'shelter in place' are b...                                0.767813   \n",
       "13,000 people receive #wildfires evacuation ord...                                0.411599   \n",
       "Just got sent this photo from Ruby #Alaska as s...                               -0.642309   \n",
       "\n",
       "text                                                All residents asked to 'shelter in place' are being notified by officers. No other evacuation or shelter in place orders are expected  \\\n",
       "text                                                                                                                                                                                        \n",
       "Our Deeds are the Reason of this #earthquake Ma...                                           0.165239                                                                                       \n",
       "Forest fire near La Ronge Sask. Canada                                                       0.767813                                                                                       \n",
       "All residents asked to 'shelter in place' are b...                                           1.000000                                                                                       \n",
       "13,000 people receive #wildfires evacuation ord...                                           0.816472                                                                                       \n",
       "Just got sent this photo from Ruby #Alaska as s...                                          -0.008689                                                                                       \n",
       "\n",
       "text                                                13,000 people receive #wildfires evacuation orders in California   \\\n",
       "text                                                                                                                    \n",
       "Our Deeds are the Reason of this #earthquake Ma...                                          -0.250784                   \n",
       "Forest fire near La Ronge Sask. Canada                                                       0.411599                   \n",
       "All residents asked to 'shelter in place' are b...                                           0.816472                   \n",
       "13,000 people receive #wildfires evacuation ord...                                           1.000000                   \n",
       "Just got sent this photo from Ruby #Alaska as s...                                           0.384930                   \n",
       "\n",
       "text                                                Just got sent this photo from Ruby #Alaska as smoke from #wildfires pours into a school   \n",
       "text                                                                                                                                          \n",
       "Our Deeds are the Reason of this #earthquake Ma...                                           0.077672                                         \n",
       "Forest fire near La Ronge Sask. Canada                                                      -0.642309                                         \n",
       "All residents asked to 'shelter in place' are b...                                          -0.008689                                         \n",
       "13,000 people receive #wildfires evacuation ord...                                           0.384930                                         \n",
       "Just got sent this photo from Ruby #Alaska as s...                                           1.000000                                         "
      ]
     },
     "execution_count": 159,
     "metadata": {},
     "output_type": "execute_result"
    }
   ],
   "source": [
    "similarity = np.asarray(np.asmatrix(dtm_lsa) * np.asmatrix(dtm_lsa).T)\n",
    "pd.DataFrame(similarity,index=train_df[\"text\"][0:5], columns=train_df[\"text\"][0:5]).head(10)"
   ]
  },
  {
   "cell_type": "markdown",
   "metadata": {},
   "source": [
    "Finally! From the above, we can see a similarity matrix of our 5 tweets. The higher the similarity score, the more 'similar' the tweets. We can notice that tweets with similar words rank higher on the similary score!"
   ]
  },
  {
   "cell_type": "markdown",
   "metadata": {},
   "source": [
    "### LSA (using CountVectorizer)"
   ]
  },
  {
   "cell_type": "code",
   "execution_count": 160,
   "metadata": {},
   "outputs": [
    {
     "name": "stdout",
     "output_type": "stream",
     "text": [
      "Shape of train las: (7613, 3)\n",
      "Shape of test las: (3263, 3)\n"
     ]
    }
   ],
   "source": [
    "# Vectorizer\n",
    "count_vectorizer = feature_extraction.text.CountVectorizer()\n",
    "\n",
    "# For Train\n",
    "train_dtm_lsa = lsa.fit_transform(count_vectorizer.fit_transform(train_df[\"text\"]))\n",
    "train_dtm_lsa = preprocessing.Normalizer(copy=False).fit_transform(train_dtm_lsa)\n",
    "print(\"Shape of train las: {}\".format(train_dtm_lsa.shape))\n",
    "\n",
    "train_lsa_comp = pd.DataFrame(train_dtm_lsa, index = train_df[\"text\"], columns = [\"component_1\",\"component_2\", \"component_3\"])\n",
    "train_lsa_comp.reset_index(inplace=True)\n",
    "\n",
    "# For Test\n",
    "test_dtm_lsa = lsa.fit_transform(count_vectorizer.transform(test_df[\"text\"]))\n",
    "test_dtm_lsa = preprocessing.Normalizer(copy=False).transform(test_dtm_lsa)\n",
    "print(\"Shape of test las: {}\".format(test_dtm_lsa.shape))\n",
    "\n",
    "test_lsa_comp = pd.DataFrame(test_dtm_lsa, index = test_df[\"text\"], columns = [\"component_1\",\"component_2\", \"component_3\"])\n",
    "test_lsa_comp.reset_index(inplace=True)"
   ]
  },
  {
   "cell_type": "code",
   "execution_count": 161,
   "metadata": {},
   "outputs": [
    {
     "data": {
      "text/plain": [
       "0.5964995525078104"
      ]
     },
     "execution_count": 161,
     "metadata": {},
     "output_type": "execute_result"
    }
   ],
   "source": [
    "clf = linear_model.RidgeClassifier(alpha=1.0)\n",
    "scores = model_selection.cross_val_score(clf, train_lsa_comp.drop(['text'], axis=1), train_df[\"target\"], cv=3, scoring=\"f1\")\n",
    "np.mean(scores)"
   ]
  },
  {
   "cell_type": "markdown",
   "metadata": {},
   "source": [
    "This f1 score is worse than just using either term frequncy or TF-IDF on the text data. Let's see if using TF-IDF with LSA improves the validation mean."
   ]
  },
  {
   "cell_type": "markdown",
   "metadata": {},
   "source": [
    "### LSA (using TF-IDF)"
   ]
  },
  {
   "cell_type": "code",
   "execution_count": 498,
   "metadata": {},
   "outputs": [
    {
     "name": "stdout",
     "output_type": "stream",
     "text": [
      "Shape of train las: (7613, 3)\n",
      "Shape of test las: (3263, 3)\n"
     ]
    }
   ],
   "source": [
    "# Vectorizer\n",
    "vectorizer = TfidfVectorizer()\n",
    "\n",
    "# For Train\n",
    "train_dtm_lsa = lsa.fit_transform(vectorizer.fit_transform(train_df[\"text\"]))\n",
    "train_dtm_lsa = preprocessing.Normalizer(copy=False).fit_transform(train_dtm_lsa)\n",
    "print(\"Shape of train las: {}\".format(train_dtm_lsa.shape))\n",
    "\n",
    "train_lsa_comp = pd.DataFrame(train_dtm_lsa, index = train_df[\"text\"], columns = [\"component_1\",\"component_2\", \"component_3\"])\n",
    "train_lsa_comp.reset_index(inplace=True)\n",
    "\n",
    "# For Test\n",
    "test_dtm_lsa = lsa.fit_transform(vectorizer.transform(test_df[\"text\"]))\n",
    "test_dtm_lsa = preprocessing.Normalizer(copy=False).transform(test_dtm_lsa)\n",
    "print(\"Shape of test las: {}\".format(test_dtm_lsa.shape))\n",
    "\n",
    "test_lsa_comp = pd.DataFrame(test_dtm_lsa, index = test_df[\"text\"], columns = [\"component_1\",\"component_2\", \"component_3\"])\n",
    "test_lsa_comp.reset_index(inplace=True)"
   ]
  },
  {
   "cell_type": "code",
   "execution_count": 499,
   "metadata": {},
   "outputs": [
    {
     "data": {
      "text/plain": [
       "0.611660466085451"
      ]
     },
     "execution_count": 499,
     "metadata": {},
     "output_type": "execute_result"
    }
   ],
   "source": [
    "clf = linear_model.RidgeClassifier(alpha=1.0)\n",
    "scores = model_selection.cross_val_score(clf, train_lsa_comp.drop(['text'], axis=1), train_df[\"target\"], cv=3, scoring=\"f1\")\n",
    "np.mean(scores)"
   ]
  },
  {
   "cell_type": "markdown",
   "metadata": {},
   "source": [
    "Better than our highest so far (TF-IDF on Tweet only, Ridge). We can probably improve by:\n",
    "\n",
    "1. Adjusting the max_df parameter and adding stop words to our vectorizer.\n",
    "2. Adjusting the number of LSA components.\n",
    "\n",
    "We'd also need to check if we're overfitting!\n",
    "\n",
    "Let's fit, predict and submit."
   ]
  },
  {
   "cell_type": "code",
   "execution_count": 200,
   "metadata": {},
   "outputs": [],
   "source": [
    "clf.fit(train_lsa_comp.drop(['text'], axis=1), train_df[\"target\"])\n",
    "submission(\"ridge_submission_LSA3_1.csv\", clf, test_lsa_comp.drop(['text'], axis=1), test_df.id)"
   ]
  },
  {
   "cell_type": "code",
   "execution_count": 500,
   "metadata": {},
   "outputs": [
    {
     "name": "stdout",
     "output_type": "stream",
     "text": [
      "Successfully submitted to Real or Not? NLP with Disaster Tweets\n"
     ]
    },
    {
     "name": "stderr",
     "output_type": "stream",
     "text": [
      "\n",
      "  0%|          | 0.00/25.4k [00:00<?, ?B/s]\n",
      "100%|##########| 25.4k/25.4k [00:02<00:00, 11.2kB/s]\n"
     ]
    }
   ],
   "source": [
    "! kaggle competitions submit -c nlp-getting-started -f ridge_submission_LSA3_1.csv -m \"ridge classification -  LSA with 3 components\""
   ]
  },
  {
   "cell_type": "markdown",
   "metadata": {},
   "source": [
    "## LSTM (Long Short-Term Memory)"
   ]
  },
  {
   "cell_type": "markdown",
   "metadata": {},
   "source": [
    "LSTM, a type of RNN (recurrent nueral network), allows us to use information from the past to inform the present. In the context of NLP (natural language processing), a single word (or token) holds meaning unto itself, but can take on different meaning when one considers the words that come before it. RNNs can do this inherently, but can really only look at the value inputted *one step before* each word. In contrast, LSTMs have memory - they learn from all the proceeding words to infer the meaning, or sentiment, of the document. \n",
    "\n",
    "In this scenario, we're predicting whether the tweet is of a real disaster or not. Up to this point, we've used TF-IDF and simple item frequncy to train on and predict. Both of those vectorizaion techniques were obvlious to sentiment - what if we trained an LSTM RNN? Let's find out!"
   ]
  },
  {
   "cell_type": "code",
   "execution_count": 28,
   "metadata": {},
   "outputs": [],
   "source": [
    "from matplotlib import pyplot as plt\n",
    "plt.style.use('fivethirtyeight')\n",
    "from keras.preprocessing.text import Tokenizer\n",
    "from keras.preprocessing.sequence import pad_sequences\n",
    "from sklearn.model_selection import train_test_split\n",
    "from keras.utils import to_categorical\n",
    "from keras.models import Sequential\n",
    "from keras.layers import Dense, Dropout, Embedding, LSTM, Bidirectional, SpatialDropout1D"
   ]
  },
  {
   "cell_type": "code",
   "execution_count": 113,
   "metadata": {},
   "outputs": [],
   "source": [
    "replace_list = {r\"i'm\": 'i am',\n",
    "                r\"'re\": ' are',\n",
    "                r\"let’s\": 'let us',\n",
    "                r\"'s\":  ' is',\n",
    "                r\"'ve\": ' have',\n",
    "                r\"can't\": 'can not',\n",
    "                r\"cannot\": 'can not',\n",
    "                r\"shan’t\": 'shall not',\n",
    "                r\"n't\": ' not',\n",
    "                r\"'d\": ' would',\n",
    "                r\"'ll\": ' will',\n",
    "                r\"'scuse\": 'excuse',\n",
    "                ',': ' ,',\n",
    "                '.': ' .',\n",
    "                '!': ' !',\n",
    "                '?': ' ?',\n",
    "                '#': '# ',\n",
    "                '@': '@ ',\n",
    "                '\\s+': ' '}\n",
    "def clean_text(text):\n",
    "    text = text.lower()\n",
    "    for s in replace_list:\n",
    "        text = text.replace(s, replace_list[s])\n",
    "    text = ' '.join(text.split())\n",
    "    return text\n",
    "\n",
    "def f1(history, p_name, r_name):\n",
    "    p = history.history[p_name]\n",
    "    r = history.history[r_name]\n",
    "    p = np.array(p)\n",
    "    r = np.array(r)\n",
    "    return 2*(p*r)/(p+r)"
   ]
  },
  {
   "cell_type": "code",
   "execution_count": 286,
   "metadata": {},
   "outputs": [],
   "source": [
    "lstm_example = train_df['text'][0:5].apply(lambda x: clean_text(x))"
   ]
  },
  {
   "cell_type": "code",
   "execution_count": 186,
   "metadata": {},
   "outputs": [],
   "source": [
    "lstm_train_df = train_df['text'].apply(lambda x: clean_text(x))\n",
    "lstm_test_df = test_df['text'].apply(lambda x: clean_text(x))"
   ]
  },
  {
   "cell_type": "code",
   "execution_count": 187,
   "metadata": {},
   "outputs": [
    {
     "name": "stdout",
     "output_type": "stream",
     "text": [
      "max phrase len between train and test: 72\n"
     ]
    },
    {
     "data": {
      "text/plain": [
       "Text(0, 0.5, 'probability')"
      ]
     },
     "execution_count": 187,
     "metadata": {},
     "output_type": "execute_result"
    },
    {
     "data": {
      "image/png": "[encoded data removed]",
      "text/plain": [
       "<Figure size 720x576 with 1 Axes>"
      ]
     },
     "metadata": {},
     "output_type": "display_data"
    }
   ],
   "source": [
    "phrase_len_train = lstm_train_df.apply(lambda p: len(p.split(' ')))\n",
    "phrase_len_test = lstm_test_df.apply(lambda p: len(p.split(' ')))\n",
    "max_phrase_len_train = phrase_len_train.max()\n",
    "max_phrase_len_test = phrase_len_test.max()\n",
    "max_phrase_len = np.max([max_phrase_len_train, max_phrase_len_test])\n",
    "\n",
    "print('max phrase len between train and test: {0}'.format(max_phrase_len))\n",
    "\n",
    "plt.figure(figsize = (10, 8))\n",
    "# note that phrase len used here should be the largest between train and test!\n",
    "plt.hist(phrase_len_train, alpha = .5, density = True)\n",
    "plt.xlabel('phrase len')\n",
    "plt.ylabel('probability')"
   ]
  },
  {
   "cell_type": "markdown",
   "metadata": {},
   "source": [
    "The following is used for TF-IDF - no need to pad with 0s here to ensure each tweet has the same length in the sparse matrix. TF-IDF is inherently normalized in the sense that the length of each tweet is already taken into account."
   ]
  },
  {
   "cell_type": "markdown",
   "metadata": {},
   "source": [
    "This is where we vectorize the tweets. We can choose to use Keras text preprocessor Tokenizer here. Here is where we could try different vectorizations, like TF-IDF or just a normal frequency count. We'll show the outcome of both the simple item frequency count and TF-IDF."
   ]
  },
  {
   "cell_type": "code",
   "execution_count": 188,
   "metadata": {},
   "outputs": [],
   "source": [
    "tokenizer = Tokenizer(\n",
    "    num_words = 22727,\n",
    "    filters = '$%&()*+-/:;<=>[\\]^_`{|}~'\n",
    ")\n",
    "tokenizer.fit_on_texts(lstm_train_df)\n",
    "\n",
    "# sequences - simple item frequency \n",
    "lstm_train_df = tokenizer.texts_to_sequences(lstm_train_df)\n",
    "lstm_test_df = tokenizer.texts_to_sequences(lstm_test_df)\n",
    "\n",
    "# pad sequences\n",
    "lstm_train_df = pad_sequences(lstm_train_df, maxlen = max_phrase_len)\n",
    "lstm_test_df = pad_sequences(lstm_test_df, maxlen = max_phrase_len)\n",
    "\n",
    "lstm_train_target = to_categorical(train_df['target'])"
   ]
  },
  {
   "cell_type": "markdown",
   "metadata": {},
   "source": [
    "### Create the model, and fit"
   ]
  },
  {
   "cell_type": "markdown",
   "metadata": {},
   "source": [
    "We'll then create our LSTM model. Some important things to note:\n",
    "\n",
    "1. We do an embedding layer that allows for:\n",
    "2. We then construct the inner nueral networks\n",
    "3. We set the loss function to the typical cross_entropy function, optimizer as 'Adam', and our metrics of Precision and Recall"
   ]
  },
  {
   "cell_type": "code",
   "execution_count": 152,
   "metadata": {},
   "outputs": [],
   "source": [
    "model_lstm = Sequential()\n",
    "model_lstm.add(Embedding(input_dim = 22727, output_dim = 100, input_length = max_phrase_len))\n",
    "model_lstm.add(SpatialDropout1D(0.3))\n",
    "model_lstm.add(LSTM(100, dropout = 0.3, recurrent_dropout = 0.3))\n",
    "model_lstm.add(Dropout(0.3))\n",
    "model_lstm.add(Dense(2, activation = 'sigmoid'))\n",
    "model_lstm.compile(\n",
    "    loss='binary_crossentropy',\n",
    "    optimizer='Adam',\n",
    "    metrics=['Precision', 'Recall']\n",
    ")"
   ]
  },
  {
   "cell_type": "code",
   "execution_count": 153,
   "metadata": {},
   "outputs": [
    {
     "name": "stdout",
     "output_type": "stream",
     "text": [
      "Model: \"sequential_57\"\n",
      "_________________________________________________________________\n",
      "Layer (type)                 Output Shape              Param #   \n",
      "=================================================================\n",
      "embedding_1 (Embedding)      (None, 72, 100)           2272700   \n",
      "_________________________________________________________________\n",
      "spatial_dropout1d_56 (Spatia (None, 72, 100)           0         \n",
      "_________________________________________________________________\n",
      "lstm_61 (LSTM)               (None, 100)               80400     \n",
      "_________________________________________________________________\n",
      "dropout_51 (Dropout)         (None, 100)               0         \n",
      "_________________________________________________________________\n",
      "dense_51 (Dense)             (None, 2)                 202       \n",
      "=================================================================\n",
      "Total params: 2,353,302\n",
      "Trainable params: 2,353,302\n",
      "Non-trainable params: 0\n",
      "_________________________________________________________________\n"
     ]
    }
   ],
   "source": [
    "model_lstm.summary()"
   ]
  },
  {
   "cell_type": "code",
   "execution_count": 154,
   "metadata": {},
   "outputs": [
    {
     "name": "stdout",
     "output_type": "stream",
     "text": [
      "Epoch 1/6\n",
      "27/27 [==============================] - 10s 374ms/step - loss: 0.6683 - precision: 0.5827 - recall: 0.5846 - val_loss: 0.6246 - val_precision: 0.6935 - val_recall: 0.6890\n",
      "Epoch 2/6\n",
      "27/27 [==============================] - 9s 351ms/step - loss: 0.5388 - precision: 0.7365 - recall: 0.7390 - val_loss: 0.4657 - val_precision: 0.8003 - val_recall: 0.7992\n",
      "Epoch 3/6\n",
      "27/27 [==============================] - 9s 350ms/step - loss: 0.3549 - precision: 0.8567 - recall: 0.8561 - val_loss: 0.4387 - val_precision: 0.8011 - val_recall: 0.7979\n",
      "Epoch 4/6\n",
      "27/27 [==============================] - 9s 339ms/step - loss: 0.2524 - precision: 0.9071 - recall: 0.9067 - val_loss: 0.4753 - val_precision: 0.8000 - val_recall: 0.7979\n",
      "Epoch 5/6\n",
      "27/27 [==============================] - 9s 336ms/step - loss: 0.1743 - precision: 0.9404 - recall: 0.9390 - val_loss: 0.5117 - val_precision: 0.7852 - val_recall: 0.7822\n",
      "Epoch 6/6\n",
      "27/27 [==============================] - 9s 349ms/step - loss: 0.1321 - precision: 0.9568 - recall: 0.9568 - val_loss: 0.5308 - val_precision: 0.7898 - val_recall: 0.7887\n"
     ]
    }
   ],
   "source": [
    "history = model_lstm.fit(\n",
    "    lstm_train_df,\n",
    "    lstm_train_target,\n",
    "    validation_split = 0.1,\n",
    "    epochs = 6,\n",
    "    batch_size = 256\n",
    ")"
   ]
  },
  {
   "cell_type": "code",
   "execution_count": 155,
   "metadata": {},
   "outputs": [],
   "source": [
    "f1_train = f1(history, \"precision\", \"recall\")\n",
    "f1_valid = f1(history, \"val_precision\", \"val_recall\")"
   ]
  },
  {
   "cell_type": "code",
   "execution_count": 156,
   "metadata": {},
   "outputs": [],
   "source": [
    "loss = history.history['loss']\n",
    "epochs = range(1, len(loss) + 1)"
   ]
  },
  {
   "cell_type": "code",
   "execution_count": 157,
   "metadata": {},
   "outputs": [
    {
     "data": {
      "image/png": "[encoded data removed]",
      "text/plain": [
       "<Figure size 432x288 with 1 Axes>"
      ]
     },
     "metadata": {},
     "output_type": "display_data"
    }
   ],
   "source": [
    "plt.clf()\n",
    "f1_train = f1_train\n",
    "f1_valid = f1_valid\n",
    "plt.plot(epochs, f1_train, 'b', label='f1 train')\n",
    "plt.plot(epochs, f1_valid, 'y', label='f1 valid')\n",
    "plt.title('Training and validation - f1')\n",
    "plt.xlabel('Epochs')\n",
    "plt.ylabel('f1')\n",
    "plt.legend()\n",
    "plt.show()"
   ]
  },
  {
   "cell_type": "code",
   "execution_count": 158,
   "metadata": {},
   "outputs": [
    {
     "name": "stdout",
     "output_type": "stream",
     "text": [
      "F1 score at last epoch: 0.7892317945717054\n"
     ]
    }
   ],
   "source": [
    "print (\"F1 score at last epoch: {}\".format(f1_valid[-1]))"
   ]
  },
  {
   "cell_type": "markdown",
   "metadata": {},
   "source": [
    "In the above learning curve, we can see that we're overfitting. We can try and adjust:\n",
    "\n",
    "1. Reduce number of hidden units. Rule of thumb is to have hidden units between number of classes (2) and input dims (72).\n",
    "2. Increase dropout rate.\n",
    "3. Adjust text vectorization (num of words, stopping words, special chars, etc.)"
   ]
  },
  {
   "cell_type": "markdown",
   "metadata": {},
   "source": [
    "Here we reduce the number of hidden units (from 100 to 28), and increase the dropout rate."
   ]
  },
  {
   "cell_type": "code",
   "execution_count": 179,
   "metadata": {},
   "outputs": [],
   "source": [
    "model_lstm = Sequential()\n",
    "model_lstm.add(Embedding(input_dim = 22727, output_dim = 72, input_length = max_phrase_len))\n",
    "model_lstm.add(SpatialDropout1D(0.5))\n",
    "model_lstm.add(LSTM(28, dropout = 0.5, recurrent_dropout = 0.5))\n",
    "model_lstm.add(Dropout(0.5))\n",
    "model_lstm.add(Dense(2, activation = 'sigmoid'))\n",
    "model_lstm.compile(\n",
    "    loss='binary_crossentropy',\n",
    "    optimizer='Adam',\n",
    "    metrics=['Precision', 'Recall']\n",
    ")"
   ]
  },
  {
   "cell_type": "code",
   "execution_count": 180,
   "metadata": {},
   "outputs": [
    {
     "name": "stdout",
     "output_type": "stream",
     "text": [
      "Epoch 1/6\n",
      "27/27 [==============================] - 6s 232ms/step - loss: 0.6829 - precision: 0.5670 - recall: 0.5529 - val_loss: 0.6749 - val_precision: 0.5341 - val_recall: 0.5341\n",
      "Epoch 2/6\n",
      "27/27 [==============================] - 5s 188ms/step - loss: 0.6437 - precision: 0.6222 - recall: 0.6157 - val_loss: 0.6125 - val_precision: 0.7184 - val_recall: 0.6864\n",
      "Epoch 3/6\n",
      "27/27 [==============================] - 5s 199ms/step - loss: 0.5676 - precision: 0.7385 - recall: 0.7230 - val_loss: 0.5321 - val_precision: 0.7647 - val_recall: 0.7507\n",
      "Epoch 4/6\n",
      "27/27 [==============================] - 5s 198ms/step - loss: 0.4542 - precision: 0.8184 - recall: 0.8145 - val_loss: 0.4529 - val_precision: 0.8029 - val_recall: 0.7966\n",
      "Epoch 5/6\n",
      "27/27 [==============================] - 5s 194ms/step - loss: 0.3514 - precision: 0.8715 - recall: 0.8656 - val_loss: 0.4488 - val_precision: 0.8061 - val_recall: 0.7913\n",
      "Epoch 6/6\n",
      "27/27 [==============================] - 5s 179ms/step - loss: 0.2971 - precision: 0.8946 - recall: 0.8910 - val_loss: 0.4532 - val_precision: 0.8095 - val_recall: 0.8084\n"
     ]
    }
   ],
   "source": [
    "history = model_lstm.fit(\n",
    "    lstm_train_df,\n",
    "    lstm_train_target,\n",
    "    validation_split = 0.1,\n",
    "    epochs = 6,\n",
    "    batch_size = 256\n",
    ")"
   ]
  },
  {
   "cell_type": "code",
   "execution_count": 181,
   "metadata": {},
   "outputs": [
    {
     "data": {
      "image/png": "[encoded data removed]",
      "text/plain": [
       "<Figure size 432x288 with 1 Axes>"
      ]
     },
     "metadata": {},
     "output_type": "display_data"
    }
   ],
   "source": [
    "f1_train = f1(history, \"precision\", \"recall\")\n",
    "f1_valid = f1(history, \"val_precision\", \"val_recall\")\n",
    "\n",
    "loss = history.history['loss']\n",
    "epochs = range(1, len(loss) + 1)\n",
    "\n",
    "plt.clf()\n",
    "f1_train = f1_train\n",
    "f1_valid = f1_valid\n",
    "plt.plot(epochs, f1_train, 'b', label='f1 train')\n",
    "plt.plot(epochs, f1_valid, 'y', label='f1 valid')\n",
    "plt.title('Training and validation - f1')\n",
    "plt.xlabel('Epochs')\n",
    "plt.ylabel('f1')\n",
    "plt.ylim(0,1)\n",
    "plt.legend()\n",
    "plt.show()"
   ]
  },
  {
   "cell_type": "code",
   "execution_count": 182,
   "metadata": {},
   "outputs": [
    {
     "name": "stdout",
     "output_type": "stream",
     "text": [
      "F1 score at last epoch: 0.8089297502701969\n"
     ]
    }
   ],
   "source": [
    "print (\"F1 score at last epoch: {}\".format(f1_valid[-1]))"
   ]
  },
  {
   "cell_type": "markdown",
   "metadata": {},
   "source": [
    "That looks better! Let's make predictions and submit."
   ]
  },
  {
   "cell_type": "code",
   "execution_count": 183,
   "metadata": {},
   "outputs": [
    {
     "name": "stdout",
     "output_type": "stream",
     "text": [
      "WARNING:tensorflow:From <ipython-input-183-4738218c06f8>:1: Sequential.predict_classes (from tensorflow.python.keras.engine.sequential) is deprecated and will be removed after 2021-01-01.\n",
      "Instructions for updating:\n",
      "Please use instead:* `np.argmax(model.predict(x), axis=-1)`,   if your model does multi-class classification   (e.g. if it uses a `softmax` last-layer activation).* `(model.predict(x) > 0.5).astype(\"int32\")`,   if your model does binary classification   (e.g. if it uses a `sigmoid` last-layer activation).\n"
     ]
    }
   ],
   "source": [
    "preds = model_lstm.predict_classes(lstm_test_df)"
   ]
  },
  {
   "cell_type": "code",
   "execution_count": 184,
   "metadata": {},
   "outputs": [],
   "source": [
    "submission = pd.DataFrame({\n",
    "        \"id\": test_df.id, \n",
    "        \"target\": preds})\n",
    "submission.to_csv(\"LSTM_28u_0.5dr.csv\", index=False)"
   ]
  },
  {
   "cell_type": "code",
   "execution_count": 185,
   "metadata": {},
   "outputs": [
    {
     "name": "stdout",
     "output_type": "stream",
     "text": [
      "Successfully submitted to Real or Not? NLP with Disaster Tweets\n"
     ]
    },
    {
     "name": "stderr",
     "output_type": "stream",
     "text": [
      "\n",
      "  0%|          | 0.00/25.4k [00:00<?, ?B/s]\n",
      "100%|##########| 25.4k/25.4k [00:02<00:00, 12.6kB/s]\n"
     ]
    }
   ],
   "source": [
    "#! kaggle competitions submit -c nlp-getting-started -f LSTM_28u_0.5dr.csv -m \"LSTM v1 - 28 units, 0.5 dropout\""
   ]
  },
  {
   "cell_type": "markdown",
   "metadata": {},
   "source": [
    "## LSTM with TF-IDF"
   ]
  },
  {
   "cell_type": "code",
   "execution_count": 124,
   "metadata": {},
   "outputs": [],
   "source": [
    "tokenizer = Tokenizer(\n",
    "    filters = '$%&()*+-/:;<=>[\\]^_`{|}~'\n",
    ")\n",
    "tokenizer.fit_on_texts(lstm_train_df)\n",
    "lstm_train_df = tokenizer.texts_to_matrix(lstm_train_df, mode='tfidf')\n",
    "lstm_test_df = tokenizer.texts_to_matrix(lstm_test_df, mode='tfidf')\n",
    "\n",
    "lstm_train_target = to_categorical(train_df['target'])"
   ]
  },
  {
   "cell_type": "markdown",
   "metadata": {},
   "source": [
    "There is no need for an embedding layer for our TF-IDF matrix. However, we will need to now convert our 2D matrix to 3D since that's required in the first layer of an RNN. We can do this be usiing reshape."
   ]
  },
  {
   "cell_type": "code",
   "execution_count": 125,
   "metadata": {},
   "outputs": [],
   "source": [
    "lstm_train_df = lstm_train_df.reshape(lstm_train_df.shape[0], 1, lstm_train_df.shape[1])\n",
    "lstm_test_df = lstm_test_df.reshape(lstm_test_df.shape[0], 1, lstm_test_df.shape[1])"
   ]
  },
  {
   "cell_type": "code",
   "execution_count": 132,
   "metadata": {},
   "outputs": [
    {
     "name": "stdout",
     "output_type": "stream",
     "text": [
      "Epoch 1/6\n",
      "21/21 [==============================] - 6s 308ms/step - loss: 0.6801 - precision: 0.5811 - recall: 0.5905 - val_loss: 0.6583 - val_precision: 0.7027 - val_recall: 0.7141\n",
      "Epoch 2/6\n",
      "21/21 [==============================] - 6s 278ms/step - loss: 0.6319 - precision: 0.6898 - recall: 0.6902 - val_loss: 0.6192 - val_precision: 0.7403 - val_recall: 0.7465\n",
      "Epoch 3/6\n",
      "21/21 [==============================] - 5s 252ms/step - loss: 0.5807 - precision: 0.7366 - recall: 0.7399 - val_loss: 0.5783 - val_precision: 0.7686 - val_recall: 0.7706\n",
      "Epoch 4/6\n",
      "21/21 [==============================] - 5s 253ms/step - loss: 0.5294 - precision: 0.7706 - recall: 0.7703 - val_loss: 0.5439 - val_precision: 0.7800 - val_recall: 0.7824\n",
      "Epoch 5/6\n",
      "21/21 [==============================] - 6s 271ms/step - loss: 0.4891 - precision: 0.7862 - recall: 0.7859 - val_loss: 0.5209 - val_precision: 0.7812 - val_recall: 0.7815\n",
      "Epoch 6/6\n",
      "21/21 [==============================] - 6s 276ms/step - loss: 0.4429 - precision: 0.8097 - recall: 0.8161 - val_loss: 0.5059 - val_precision: 0.7822 - val_recall: 0.7863\n"
     ]
    }
   ],
   "source": [
    "# Model\n",
    "model_lstm = Sequential()\n",
    "model_lstm.add(SpatialDropout1D(0.5))\n",
    "model_lstm.add(LSTM(28, dropout = 0.5, recurrent_dropout = 0.5, \n",
    "                    input_shape=(lstm_train_df.shape[1:])))\n",
    "model_lstm.add(Dropout(0.5))\n",
    "model_lstm.add(Dense(2, activation = 'sigmoid'))\n",
    "model_lstm.compile(\n",
    "    loss='binary_crossentropy',\n",
    "    optimizer='Adam',\n",
    "    metrics=['Precision', 'Recall']\n",
    ")\n",
    "\n",
    "# fit\n",
    "history = model_lstm.fit(\n",
    "    lstm_train_df,\n",
    "    lstm_train_target,\n",
    "    validation_split = 0.1,\n",
    "    epochs = 6,\n",
    "    batch_size = 256\n",
    ")"
   ]
  },
  {
   "cell_type": "code",
   "execution_count": 133,
   "metadata": {},
   "outputs": [
    {
     "data": {
      "image/png": "[encoded data removed]",
      "text/plain": [
       "<Figure size 432x288 with 1 Axes>"
      ]
     },
     "metadata": {},
     "output_type": "display_data"
    }
   ],
   "source": [
    "f1_train = f1(history, \"precision\", \"recall\")\n",
    "f1_valid = f1(history, \"val_precision\", \"val_recall\")\n",
    "\n",
    "loss = history.history['loss']\n",
    "epochs = range(1, len(loss) + 1)\n",
    "\n",
    "plt.clf()\n",
    "f1_train = f1_train\n",
    "f1_valid = f1_valid\n",
    "plt.plot(epochs, f1_train, 'b', label='f1 train')\n",
    "plt.plot(epochs, f1_valid, 'y', label='f1 valid')\n",
    "plt.title('Training and validation - f1')\n",
    "plt.xlabel('Epochs')\n",
    "plt.ylabel('f1')\n",
    "plt.ylim(0,1)\n",
    "plt.legend()\n",
    "plt.show()"
   ]
  },
  {
   "cell_type": "code",
   "execution_count": 134,
   "metadata": {},
   "outputs": [
    {
     "name": "stdout",
     "output_type": "stream",
     "text": [
      "F1 score at last epoch: 0.7842794758650533\n"
     ]
    }
   ],
   "source": [
    "print (\"F1 score at last epoch: {}\".format(f1_valid[-1]))"
   ]
  },
  {
   "cell_type": "markdown",
   "metadata": {},
   "source": [
    "Using TF-IDF vectorization, we did not beat our best score achieved using just simple term freq count. Let's introduce Bi-LSTMs next."
   ]
  },
  {
   "cell_type": "markdown",
   "metadata": {},
   "source": [
    "### Bi-LSTM"
   ]
  },
  {
   "cell_type": "markdown",
   "metadata": {},
   "source": [
    "Let's adjust the existing LSTM layer to be bidirectional. In contrast to a traditional LSTM, bidirectional LSTMs look forward in the sequence to the following word (not only the proceeding words!). This helps when the same word in a tweet can take on a different meaning in a different tweet, but where the words succeeding it hold signifiance in its meaning."
   ]
  },
  {
   "cell_type": "markdown",
   "metadata": {},
   "source": [
    "#### Bi-LSTM with TF-IDF"
   ]
  },
  {
   "cell_type": "code",
   "execution_count": 120,
   "metadata": {},
   "outputs": [
    {
     "name": "stdout",
     "output_type": "stream",
     "text": [
      "Epoch 1/6\n",
      "27/27 [==============================] - 10s 386ms/step - loss: 0.6641 - precision: 0.6132 - recall: 0.6217 - val_loss: 0.6191 - val_precision: 0.7581 - val_recall: 0.7402\n",
      "Epoch 2/6\n",
      "27/27 [==============================] - 9s 330ms/step - loss: 0.5734 - precision: 0.7485 - recall: 0.7437 - val_loss: 0.5404 - val_precision: 0.7882 - val_recall: 0.7913\n",
      "Epoch 3/6\n",
      "27/27 [==============================] - 9s 345ms/step - loss: 0.4904 - precision: 0.7961 - recall: 0.7984 - val_loss: 0.4862 - val_precision: 0.7982 - val_recall: 0.7940\n",
      "Epoch 4/6\n",
      "27/27 [==============================] - 9s 341ms/step - loss: 0.4385 - precision: 0.8233 - recall: 0.8196 - val_loss: 0.4631 - val_precision: 0.7971 - val_recall: 0.7992\n",
      "Epoch 5/6\n",
      "27/27 [==============================] - 9s 333ms/step - loss: 0.3965 - precision: 0.8337 - recall: 0.8313 - val_loss: 0.4528 - val_precision: 0.7908 - val_recall: 0.7940\n",
      "Epoch 6/6\n",
      "27/27 [==============================] - 9s 335ms/step - loss: 0.3715 - precision: 0.8442 - recall: 0.8424 - val_loss: 0.4531 - val_precision: 0.7879 - val_recall: 0.7848\n"
     ]
    }
   ],
   "source": [
    "# Model - bi-lstm\n",
    "model_lstm = Sequential()\n",
    "model_lstm.add(SpatialDropout1D(0.5))\n",
    "model_lstm.add(Bidirectional(LSTM(34, return_sequences=False,\n",
    "                                  dropout = 0.5, recurrent_dropout = 0.5, \n",
    "                    input_shape=(lstm_train_df.shape[1:]))))\n",
    "model_lstm.add(Dropout(0.5))\n",
    "model_lstm.add(Dense(2, activation = 'sigmoid'))\n",
    "model_lstm.compile(\n",
    "    loss='binary_crossentropy',\n",
    "    optimizer='Adam',\n",
    "    metrics=['Precision', 'Recall']\n",
    ")\n",
    "\n",
    "# fit\n",
    "history = model_lstm.fit(\n",
    "    lstm_train_df,\n",
    "    lstm_train_target,\n",
    "    validation_split = 0.1,\n",
    "    epochs = 6,\n",
    "    batch_size = 256\n",
    ")"
   ]
  },
  {
   "cell_type": "code",
   "execution_count": 121,
   "metadata": {},
   "outputs": [
    {
     "data": {
      "image/png": "[encoded data removed]",
      "text/plain": [
       "<Figure size 432x288 with 1 Axes>"
      ]
     },
     "metadata": {},
     "output_type": "display_data"
    }
   ],
   "source": [
    "f1_train = f1(history, \"precision\", \"recall\")\n",
    "f1_valid = f1(history, \"val_precision\", \"val_recall\")\n",
    "\n",
    "loss = history.history['loss']\n",
    "epochs = range(1, len(loss) + 1)\n",
    "\n",
    "plt.clf()\n",
    "f1_train = f1_train\n",
    "f1_valid = f1_valid\n",
    "plt.plot(epochs, f1_train, 'b', label='f1 train')\n",
    "plt.plot(epochs, f1_valid, 'y', label='f1 valid')\n",
    "plt.title('Training and validation - f1')\n",
    "plt.xlabel('Epochs')\n",
    "plt.ylabel('f1')\n",
    "plt.ylim(0,1)\n",
    "plt.legend()\n",
    "plt.show()"
   ]
  },
  {
   "cell_type": "code",
   "execution_count": 122,
   "metadata": {},
   "outputs": [
    {
     "data": {
      "text/plain": [
       "0.7863248096412958"
      ]
     },
     "execution_count": 122,
     "metadata": {},
     "output_type": "execute_result"
    }
   ],
   "source": [
    "f1_valid[-1]"
   ]
  },
  {
   "cell_type": "markdown",
   "metadata": {},
   "source": [
    "#### Bi-LSTM with Term Freq Count"
   ]
  },
  {
   "cell_type": "code",
   "execution_count": 189,
   "metadata": {},
   "outputs": [
    {
     "name": "stdout",
     "output_type": "stream",
     "text": [
      "Epoch 1/6\n",
      "27/27 [==============================] - 9s 344ms/step - loss: 0.6850 - precision: 0.5570 - recall: 0.5501 - val_loss: 0.6843 - val_precision: 0.5341 - val_recall: 0.5341\n",
      "Epoch 2/6\n",
      "27/27 [==============================] - 8s 302ms/step - loss: 0.6468 - precision: 0.6054 - recall: 0.6101 - val_loss: 0.6073 - val_precision: 0.7019 - val_recall: 0.7139\n",
      "Epoch 3/6\n",
      "27/27 [==============================] - 8s 282ms/step - loss: 0.5623 - precision: 0.7484 - recall: 0.7476 - val_loss: 0.5257 - val_precision: 0.7824 - val_recall: 0.7927\n",
      "Epoch 4/6\n",
      "27/27 [==============================] - 8s 285ms/step - loss: 0.4514 - precision: 0.8285 - recall: 0.8291 - val_loss: 0.4723 - val_precision: 0.7874 - val_recall: 0.7874\n",
      "Epoch 5/6\n",
      "27/27 [==============================] - 7s 266ms/step - loss: 0.3613 - precision: 0.8672 - recall: 0.8711 - val_loss: 0.4489 - val_precision: 0.8073 - val_recall: 0.8084\n",
      "Epoch 6/6\n",
      "27/27 [==============================] - 8s 298ms/step - loss: 0.3016 - precision: 0.8942 - recall: 0.8967 - val_loss: 0.4625 - val_precision: 0.7958 - val_recall: 0.7979\n"
     ]
    }
   ],
   "source": [
    "model_lstm = Sequential()\n",
    "model_lstm.add(Embedding(input_dim = 22727, output_dim = 72, input_length = max_phrase_len))\n",
    "model_lstm.add(SpatialDropout1D(0.5))\n",
    "model_lstm.add(Bidirectional(LSTM(28, return_sequences=False,\n",
    "                                  dropout = 0.5, recurrent_dropout = 0.5)))\n",
    "model_lstm.add(Dropout(0.5))\n",
    "model_lstm.add(Dense(2, activation = 'sigmoid'))\n",
    "model_lstm.compile(\n",
    "    loss='binary_crossentropy',\n",
    "    optimizer='Adam',\n",
    "    metrics=['Precision', 'Recall']\n",
    ")\n",
    "\n",
    "# fit\n",
    "history = model_lstm.fit(\n",
    "    lstm_train_df,\n",
    "    lstm_train_target,\n",
    "    validation_split = 0.1,\n",
    "    epochs = 6,\n",
    "    batch_size = 256\n",
    ")"
   ]
  },
  {
   "cell_type": "code",
   "execution_count": 190,
   "metadata": {},
   "outputs": [
    {
     "data": {
      "image/png": "[encoded data removed]",
      "text/plain": [
       "<Figure size 432x288 with 1 Axes>"
      ]
     },
     "metadata": {},
     "output_type": "display_data"
    }
   ],
   "source": [
    "f1_train = f1(history, \"precision\", \"recall\")\n",
    "f1_valid = f1(history, \"val_precision\", \"val_recall\")\n",
    "\n",
    "loss = history.history['loss']\n",
    "epochs = range(1, len(loss) + 1)\n",
    "\n",
    "plt.clf()\n",
    "f1_train = f1_train\n",
    "f1_valid = f1_valid\n",
    "plt.plot(epochs, f1_train, 'b', label='f1 train')\n",
    "plt.plot(epochs, f1_valid, 'y', label='f1 valid')\n",
    "plt.title('Training and validation - f1')\n",
    "plt.xlabel('Epochs')\n",
    "plt.ylabel('f1')\n",
    "plt.ylim(0,1)\n",
    "plt.legend()\n",
    "plt.show()"
   ]
  },
  {
   "cell_type": "code",
   "execution_count": 191,
   "metadata": {},
   "outputs": [
    {
     "name": "stdout",
     "output_type": "stream",
     "text": [
      "F1 score at last epoch: 0.7968545279649702\n"
     ]
    }
   ],
   "source": [
    "print (\"F1 score at last epoch: {}\".format(f1_valid[-1]))"
   ]
  },
  {
   "cell_type": "markdown",
   "metadata": {},
   "source": [
    "Let's compare all the models we've trained below and give some final thoughts and next steps."
   ]
  },
  {
   "cell_type": "markdown",
   "metadata": {},
   "source": [
    "## Comparing Kaggle Results "
   ]
  },
  {
   "cell_type": "markdown",
   "metadata": {},
   "source": [
    "Summarize here:\n",
    "1. The validation F1 scores for all the submitted models\n",
    "2. Compare those scores to the holdout on Kaggle.\n",
    "3. Talk about why LSTM model generalized so well with the holdout set (valid and test were very close), as opposed to Ridge TF-IDF and others having large valid/test disparities."
   ]
  },
  {
   "cell_type": "markdown",
   "metadata": {},
   "source": [
    "### LSTM - Results"
   ]
  },
  {
   "cell_type": "markdown",
   "metadata": {},
   "source": [
    "Adjusting hidden units, dropout, batch_size and epochs, we came to the conclusion that getting an F1 score on the validation set above 0.82 proved difficult. See the following table:\n",
    "\n",
    "<img src=\"./supp/lstm_results.png\" alt=\"lsmt_results\" width=\"800\"/>"
   ]
  },
  {
   "cell_type": "markdown",
   "metadata": {},
   "source": [
    "Note that several other combinations of the above parameters (units, dropout, etc.) were tried but not shown in the summary table above. Of all the LSTM models tests, LSTM with Term Freq Count vectorization yielded the best F1 score on the validation set. We ensured that the model *did not overfit* by plotting learning curves of the F1 score over epochs. We can sort of compliment ourselves on the overfitting aspect by submitting our scores to Kaggle and looking at the F1 score reported.  \n",
    "\n",
    "<img src=\"./supp/lstm_best_kaggle.png\" alt=\"lsmt_results\" width=\"800\"/>\n",
    "\n",
    "The F1 score from our best LSTM model was roughly 2% off from the holdout score reported by Kaggle. Nice! This means we generalized well enough for the unseen holdout data (and were thus not susceptible to over/under fitting).\n",
    "\n",
    "#### Improvements\n",
    "We can improve on this particular model by building a more complex LSTM network, adjusting the vectorization of the text, and finely tuning the parameters of the model like dropout and hidden units."
   ]
  },
  {
   "cell_type": "markdown",
   "metadata": {},
   "source": [
    "### Ridge Classifier - Results"
   ]
  },
  {
   "cell_type": "markdown",
   "metadata": {},
   "source": [
    "We can use a linear classifier in Ridge Classification. This algorithm is a linear regression model - we're just fitting a hyperplane between these two classes which we're assuming is linearly seperable. Regularization (or the 'ridge' for overfitting) can be controlled with the alpha parameter. Here's the results of the mean F1 scores across the cross-validation sets.\n",
    "\n",
    "<img src=\"./supp/ridge_results.png\" alt=\"lsmt_results\" width=\"500\"/>"
   ]
  },
  {
   "cell_type": "markdown",
   "metadata": {},
   "source": [
    "Using the TF-IDF vectorizer on the tweets data without LSA proved to yield the highest F1 score.\n",
    "\n",
    "We must also note again here that this linear model severely overfits the data - adding more regularization will adjust the fit, but our F1 score on the validation set will degrade. Unlike making predictions using an overfitted model, we can expect (within a reasonable threshold) that the holdout set will perform similarly to the validation set.\n",
    "\n",
    "When we submitted our preds from our overfitted Ridge TF-IDF classifier, we got an F1 holdout score (see below) that was ~25% higher than the validation score (0.6468). This was purely luck - the holdout set must have been very similar to the training set and thus we got a score somewhere in between.\n",
    "\n",
    "<img src=\"./supp/ridge_best_kaggle.png\" alt=\"lsmt_results\" width=\"800\"/>"
   ]
  },
  {
   "cell_type": "markdown",
   "metadata": {},
   "source": [
    "# Further Exploration"
   ]
  },
  {
   "cell_type": "markdown",
   "metadata": {},
   "source": [
    "## Having fun with PyCaret"
   ]
  },
  {
   "cell_type": "markdown",
   "metadata": {},
   "source": [
    "PyCaret has 5 out-of-the-box topic modelers to use in their NLP library. Though topic modeling doesn't appear to be helpful in this scenario, we'll run through an example of training a model with ridge classification using one of these topic modelers.\n",
    "\n",
    "We should also note the cool graphs of single word and bi/tri-grams frequency counts."
   ]
  },
  {
   "cell_type": "markdown",
   "metadata": {},
   "source": [
    "Let's try a Ridge classifier built on LDA (Latent Dirichlet Allocation). LDA is a form of topic modeling, in which we want to place our documents into a set arbitrary number of topics. Each topic will have a collection of words from the documents, that of which describe the topic. "
   ]
  },
  {
   "cell_type": "code",
   "execution_count": 4,
   "metadata": {},
   "outputs": [
    {
     "name": "stdout",
     "output_type": "stream",
     "text": [
      "2.0\n"
     ]
    }
   ],
   "source": [
    "from pycaret.utils import version\n",
    "version()"
   ]
  },
  {
   "cell_type": "code",
   "execution_count": 55,
   "metadata": {},
   "outputs": [
    {
     "data": {
      "text/html": [
       "<style  type=\"text/css\" >\n",
       "</style><table id=\"T_79eab2d7_edad_11ea_8a2b_001a7dda7113\" ><thead>    <tr>        <th class=\"col_heading level0 col0\" >Description</th>        <th class=\"col_heading level0 col1\" >Value</th>    </tr></thead><tbody>\n",
       "                <tr>\n",
       "                                <td id=\"T_79eab2d7_edad_11ea_8a2b_001a7dda7113row0_col0\" class=\"data row0 col0\" >session_id</td>\n",
       "                        <td id=\"T_79eab2d7_edad_11ea_8a2b_001a7dda7113row0_col1\" class=\"data row0 col1\" >123</td>\n",
       "            </tr>\n",
       "            <tr>\n",
       "                                <td id=\"T_79eab2d7_edad_11ea_8a2b_001a7dda7113row1_col0\" class=\"data row1 col0\" >Documents</td>\n",
       "                        <td id=\"T_79eab2d7_edad_11ea_8a2b_001a7dda7113row1_col1\" class=\"data row1 col1\" >7613</td>\n",
       "            </tr>\n",
       "            <tr>\n",
       "                                <td id=\"T_79eab2d7_edad_11ea_8a2b_001a7dda7113row2_col0\" class=\"data row2 col0\" >Vocab Size</td>\n",
       "                        <td id=\"T_79eab2d7_edad_11ea_8a2b_001a7dda7113row2_col1\" class=\"data row2 col1\" >10175</td>\n",
       "            </tr>\n",
       "            <tr>\n",
       "                                <td id=\"T_79eab2d7_edad_11ea_8a2b_001a7dda7113row3_col0\" class=\"data row3 col0\" >Custom Stopwords</td>\n",
       "                        <td id=\"T_79eab2d7_edad_11ea_8a2b_001a7dda7113row3_col1\" class=\"data row3 col1\" >False</td>\n",
       "            </tr>\n",
       "    </tbody></table>"
      ],
      "text/plain": [
       "<pandas.io.formats.style.Styler at 0x25ad46f5730>"
      ]
     },
     "metadata": {},
     "output_type": "display_data"
    }
   ],
   "source": [
    "from pycaret.nlp import *\n",
    "nlp1 = setup(train_df, target = 'text', session_id=123, log_experiment=True, log_plots = True, experiment_name='tweet_pc1')"
   ]
  },
  {
   "cell_type": "code",
   "execution_count": 29,
   "metadata": {},
   "outputs": [
    {
     "data": {
      "text/html": [
       "<div>\n",
       "<style scoped>\n",
       "    .dataframe tbody tr th:only-of-type {\n",
       "        vertical-align: middle;\n",
       "    }\n",
       "\n",
       "    .dataframe tbody tr th {\n",
       "        vertical-align: top;\n",
       "    }\n",
       "\n",
       "    .dataframe thead th {\n",
       "        text-align: right;\n",
       "    }\n",
       "</style>\n",
       "<table border=\"1\" class=\"dataframe\">\n",
       "  <thead>\n",
       "    <tr style=\"text-align: right;\">\n",
       "      <th></th>\n",
       "      <th>Name</th>\n",
       "      <th>Reference</th>\n",
       "    </tr>\n",
       "    <tr>\n",
       "      <th>ID</th>\n",
       "      <th></th>\n",
       "      <th></th>\n",
       "    </tr>\n",
       "  </thead>\n",
       "  <tbody>\n",
       "    <tr>\n",
       "      <th>lda</th>\n",
       "      <td>Latent Dirichlet Allocation</td>\n",
       "      <td>gensim/models/ldamodel</td>\n",
       "    </tr>\n",
       "    <tr>\n",
       "      <th>lsi</th>\n",
       "      <td>Latent Semantic Indexing</td>\n",
       "      <td>gensim/models/lsimodel</td>\n",
       "    </tr>\n",
       "    <tr>\n",
       "      <th>hdp</th>\n",
       "      <td>Hierarchical Dirichlet Process</td>\n",
       "      <td>gensim/models/hdpmodel</td>\n",
       "    </tr>\n",
       "    <tr>\n",
       "      <th>rp</th>\n",
       "      <td>Random Projections</td>\n",
       "      <td>gensim/models/rpmodel</td>\n",
       "    </tr>\n",
       "    <tr>\n",
       "      <th>nmf</th>\n",
       "      <td>Non-Negative Matrix Factorization</td>\n",
       "      <td>sklearn.decomposition.NMF</td>\n",
       "    </tr>\n",
       "  </tbody>\n",
       "</table>\n",
       "</div>"
      ],
      "text/plain": [
       "                                  Name                  Reference\n",
       "ID                                                               \n",
       "lda        Latent Dirichlet Allocation     gensim/models/ldamodel\n",
       "lsi           Latent Semantic Indexing     gensim/models/lsimodel\n",
       "hdp     Hierarchical Dirichlet Process     gensim/models/hdpmodel\n",
       "rp                  Random Projections      gensim/models/rpmodel\n",
       "nmf  Non-Negative Matrix Factorization  sklearn.decomposition.NMF"
      ]
     },
     "execution_count": 29,
     "metadata": {},
     "output_type": "execute_result"
    }
   ],
   "source": [
    "models()"
   ]
  },
  {
   "cell_type": "code",
   "execution_count": 56,
   "metadata": {},
   "outputs": [
    {
     "data": {
      "application/vnd.jupyter.widget-view+json": {
       "model_id": "",
       "version_major": 2,
       "version_minor": 0
      },
      "text/plain": [
       "IntProgress(value=0, description='Processing: ', max=25)"
      ]
     },
     "metadata": {},
     "output_type": "display_data"
    },
    {
     "data": {
      "application/vnd.jupyter.widget-view+json": {
       "model_id": "4a49102f94cf494ca6803332ff44fd1b",
       "version_major": 2,
       "version_minor": 0
      },
      "text/plain": [
       "Output()"
      ]
     },
     "metadata": {},
     "output_type": "display_data"
    },
    {
     "data": {
      "text/html": [
       "        <script type=\"text/javascript\">\n",
       "        window.PlotlyConfig = {MathJaxConfig: 'local'};\n",
       "        if (window.MathJax) {MathJax.Hub.Config({SVG: {font: \"STIX-Web\"}});}\n",
       "        if (typeof require !== 'undefined') {\n",
       "        require.undef(\"plotly\");\n",
       "        requirejs.config({\n",
       "            paths: {\n",
       "                'plotly': ['https://cdn.plot.ly/plotly-latest.min']\n",
       "            }\n",
       "        });\n",
       "        require(['plotly'], function(Plotly) {\n",
       "            window._Plotly = Plotly;\n",
       "        });\n",
       "        }\n",
       "        </script>\n",
       "        "
      ]
     },
     "metadata": {},
     "output_type": "display_data"
    },
    {
     "name": "stderr",
     "output_type": "stream",
     "text": [
      "IOPub message rate exceeded.\n",
      "The notebook server will temporarily stop sending output\n",
      "to the client in order to avoid crashing it.\n",
      "To change this limit, set the config variable\n",
      "`--NotebookApp.iopub_msg_rate_limit`.\n",
      "\n",
      "Current values:\n",
      "NotebookApp.iopub_msg_rate_limit=1000.0 (msgs/sec)\n",
      "NotebookApp.rate_limit_window=3.0 (secs)\n",
      "\n",
      "IOPub message rate exceeded.\n",
      "The notebook server will temporarily stop sending output\n",
      "to the client in order to avoid crashing it.\n",
      "To change this limit, set the config variable\n",
      "`--NotebookApp.iopub_msg_rate_limit`.\n",
      "\n",
      "Current values:\n",
      "NotebookApp.iopub_msg_rate_limit=1000.0 (msgs/sec)\n",
      "NotebookApp.rate_limit_window=3.0 (secs)\n",
      "\n",
      "IOPub message rate exceeded.\n",
      "The notebook server will temporarily stop sending output\n",
      "to the client in order to avoid crashing it.\n",
      "To change this limit, set the config variable\n",
      "`--NotebookApp.iopub_msg_rate_limit`.\n",
      "\n",
      "Current values:\n",
      "NotebookApp.iopub_msg_rate_limit=1000.0 (msgs/sec)\n",
      "NotebookApp.rate_limit_window=3.0 (secs)\n",
      "\n",
      "IOPub message rate exceeded.\n",
      "The notebook server will temporarily stop sending output\n",
      "to the client in order to avoid crashing it.\n",
      "To change this limit, set the config variable\n",
      "`--NotebookApp.iopub_msg_rate_limit`.\n",
      "\n",
      "Current values:\n",
      "NotebookApp.iopub_msg_rate_limit=1000.0 (msgs/sec)\n",
      "NotebookApp.rate_limit_window=3.0 (secs)\n",
      "\n",
      "IOPub message rate exceeded.\n",
      "The notebook server will temporarily stop sending output\n",
      "to the client in order to avoid crashing it.\n",
      "To change this limit, set the config variable\n",
      "`--NotebookApp.iopub_msg_rate_limit`.\n",
      "\n",
      "Current values:\n",
      "NotebookApp.iopub_msg_rate_limit=1000.0 (msgs/sec)\n",
      "NotebookApp.rate_limit_window=3.0 (secs)\n",
      "\n",
      "IOPub message rate exceeded.\n",
      "The notebook server will temporarily stop sending output\n",
      "to the client in order to avoid crashing it.\n",
      "To change this limit, set the config variable\n",
      "`--NotebookApp.iopub_msg_rate_limit`.\n",
      "\n",
      "Current values:\n",
      "NotebookApp.iopub_msg_rate_limit=1000.0 (msgs/sec)\n",
      "NotebookApp.rate_limit_window=3.0 (secs)\n",
      "\n",
      "IOPub message rate exceeded.\n",
      "The notebook server will temporarily stop sending output\n",
      "to the client in order to avoid crashing it.\n",
      "To change this limit, set the config variable\n",
      "`--NotebookApp.iopub_msg_rate_limit`.\n",
      "\n",
      "Current values:\n",
      "NotebookApp.iopub_msg_rate_limit=1000.0 (msgs/sec)\n",
      "NotebookApp.rate_limit_window=3.0 (secs)\n",
      "\n",
      "IOPub message rate exceeded.\n",
      "The notebook server will temporarily stop sending output\n",
      "to the client in order to avoid crashing it.\n",
      "To change this limit, set the config variable\n",
      "`--NotebookApp.iopub_msg_rate_limit`.\n",
      "\n",
      "Current values:\n",
      "NotebookApp.iopub_msg_rate_limit=1000.0 (msgs/sec)\n",
      "NotebookApp.rate_limit_window=3.0 (secs)\n",
      "\n",
      "IOPub message rate exceeded.\n",
      "The notebook server will temporarily stop sending output\n",
      "to the client in order to avoid crashing it.\n",
      "To change this limit, set the config variable\n",
      "`--NotebookApp.iopub_msg_rate_limit`.\n",
      "\n",
      "Current values:\n",
      "NotebookApp.iopub_msg_rate_limit=1000.0 (msgs/sec)\n",
      "NotebookApp.rate_limit_window=3.0 (secs)\n",
      "\n",
      "IOPub message rate exceeded.\n",
      "The notebook server will temporarily stop sending output\n",
      "to the client in order to avoid crashing it.\n",
      "To change this limit, set the config variable\n",
      "`--NotebookApp.iopub_msg_rate_limit`.\n",
      "\n",
      "Current values:\n",
      "NotebookApp.iopub_msg_rate_limit=1000.0 (msgs/sec)\n",
      "NotebookApp.rate_limit_window=3.0 (secs)\n",
      "\n"
     ]
    },
    {
     "data": {
      "application/vnd.plotly.v1+json": {
       "config": {
        "plotlyServerURL": "https://plot.ly"
       },
       "data": [
        {
         "hovertemplate": "Metric=Accuracy<br># Topics=%{x}<br>Score=%{y}<extra></extra>",
         "legendgroup": "Accuracy",
         "line": {
          "color": "#636efa",
          "dash": "solid",
          "shape": "linear"
         },
         "mode": "lines",
         "name": "Accuracy",
         "orientation": "v",
         "showlegend": true,
         "type": "scatter",
         "x": [
          2,
          4,
          8,
          16,
          32,
          64,
          100,
          200,
          300,
          400
         ],
         "xaxis": "x",
         "y": [
          0.5860236220472441,
          0.5669291338582677,
          0.5501968503937008,
          0.555511811023622,
          0.5708661417322834,
          0.5728346456692913,
          0.5718503937007874,
          0.5641732283464567,
          0.5218503937007875,
          0.5218503937007875
         ],
         "yaxis": "y"
        },
        {
         "hovertemplate": "Metric=AUC<br># Topics=%{x}<br>Score=%{y}<extra></extra>",
         "legendgroup": "AUC",
         "line": {
          "color": "#EF553B",
          "dash": "solid",
          "shape": "linear"
         },
         "mode": "lines",
         "name": "AUC",
         "orientation": "v",
         "showlegend": true,
         "type": "scatter",
         "x": [
          2,
          4,
          8,
          16,
          32,
          64,
          100,
          200,
          300,
          400
         ],
         "xaxis": "x",
         "y": [
          0,
          0,
          0,
          0,
          0,
          0,
          0,
          0,
          0,
          0
         ],
         "yaxis": "y"
        },
        {
         "hovertemplate": "Metric=Recall<br># Topics=%{x}<br>Score=%{y}<extra></extra>",
         "legendgroup": "Recall",
         "line": {
          "color": "#00cc96",
          "dash": "solid",
          "shape": "linear"
         },
         "mode": "lines",
         "name": "Recall",
         "orientation": "v",
         "showlegend": true,
         "type": "scatter",
         "x": [
          2,
          4,
          8,
          16,
          32,
          64,
          100,
          200,
          300,
          400
         ],
         "xaxis": "x",
         "y": [
          0.44398907103825136,
          0.4266848816029144,
          0.4203096539162113,
          0.4098360655737705,
          0.43989071038251365,
          0.4685792349726776,
          0.46357012750455373,
          0.447632058287796,
          0.3574681238615665,
          0.3574681238615665
         ],
         "yaxis": "y"
        },
        {
         "hovertemplate": "Metric=Precision<br># Topics=%{x}<br>Score=%{y}<extra></extra>",
         "legendgroup": "Precision",
         "line": {
          "color": "#ab63fa",
          "dash": "solid",
          "shape": "linear"
         },
         "mode": "lines",
         "name": "Precision",
         "orientation": "v",
         "showlegend": true,
         "type": "scatter",
         "x": [
          2,
          4,
          8,
          16,
          32,
          64,
          100,
          200,
          300,
          400
         ],
         "xaxis": "x",
         "y": [
          0.5250403877221325,
          0.4989350372736954,
          0.47700258397932815,
          0.4833512352309345,
          0.5041753653444676,
          0.5063976377952756,
          0.5052109181141439,
          0.4954637096774194,
          0.4353854686633389,
          0.4353854686633389
         ],
         "yaxis": "y"
        },
        {
         "hovertemplate": "Metric=F1<br># Topics=%{x}<br>Score=%{y}<extra></extra>",
         "legendgroup": "F1",
         "line": {
          "color": "#FFA15A",
          "dash": "solid",
          "shape": "linear"
         },
         "mode": "lines",
         "name": "F1",
         "orientation": "v",
         "showlegend": true,
         "type": "scatter",
         "x": [
          2,
          4,
          8,
          16,
          32,
          64,
          100,
          200,
          300,
          400
         ],
         "xaxis": "x",
         "y": [
          0.4811250925240562,
          0.45999018163966615,
          0.4468651658194142,
          0.4435682602267127,
          0.4698443579766537,
          0.4867549668874172,
          0.48349560674424125,
          0.47033492822966505,
          0.39259814953738437,
          0.39259814953738437
         ],
         "yaxis": "y"
        },
        {
         "hovertemplate": "Metric=Kappa<br># Topics=%{x}<br>Score=%{y}<extra></extra>",
         "legendgroup": "Kappa",
         "line": {
          "color": "#19d3f3",
          "dash": "solid",
          "shape": "linear"
         },
         "mode": "lines",
         "name": "Kappa",
         "orientation": "v",
         "showlegend": true,
         "type": "scatter",
         "x": [
          2,
          4,
          8,
          16,
          32,
          64,
          100,
          200,
          300,
          400
         ],
         "xaxis": "x",
         "y": [
          0.14075559690688622,
          0.10216662553471534,
          0.07040624779770255,
          0.07768083201251519,
          0.11219340754061602,
          0.12188410488831336,
          0.11904002551427195,
          0.10171594623675151,
          0.0045840061231944285,
          0.0045840061231944285
         ],
         "yaxis": "y"
        }
       ],
       "layout": {
        "legend": {
         "title": {
          "text": "Metric"
         },
         "tracegroupgap": 0
        },
        "margin": {
         "t": 60
        },
        "plot_bgcolor": "rgb(245,245,245)",
        "template": {
         "data": {
          "bar": [
           {
            "error_x": {
             "color": "#2a3f5f"
            },
            "error_y": {
             "color": "#2a3f5f"
            },
            "marker": {
             "line": {
              "color": "#E5ECF6",
              "width": 0.5
             }
            },
            "type": "bar"
           }
          ],
          "barpolar": [
           {
            "marker": {
             "line": {
              "color": "#E5ECF6",
              "width": 0.5
             }
            },
            "type": "barpolar"
           }
          ],
          "carpet": [
           {
            "aaxis": {
             "endlinecolor": "#2a3f5f",
             "gridcolor": "white",
             "linecolor": "white",
             "minorgridcolor": "white",
             "startlinecolor": "#2a3f5f"
            },
            "baxis": {
             "endlinecolor": "#2a3f5f",
             "gridcolor": "white",
             "linecolor": "white",
             "minorgridcolor": "white",
             "startlinecolor": "#2a3f5f"
            },
            "type": "carpet"
           }
          ],
          "choropleth": [
           {
            "colorbar": {
             "outlinewidth": 0,
             "ticks": ""
            },
            "type": "choropleth"
           }
          ],
          "contour": [
           {
            "colorbar": {
             "outlinewidth": 0,
             "ticks": ""
            },
            "colorscale": [
             [
              0,
              "#0d0887"
             ],
             [
              0.1111111111111111,
              "#46039f"
             ],
             [
              0.2222222222222222,
              "#7201a8"
             ],
             [
              0.3333333333333333,
              "#9c179e"
             ],
             [
              0.4444444444444444,
              "#bd3786"
             ],
             [
              0.5555555555555556,
              "#d8576b"
             ],
             [
              0.6666666666666666,
              "#ed7953"
             ],
             [
              0.7777777777777778,
              "#fb9f3a"
             ],
             [
              0.8888888888888888,
              "#fdca26"
             ],
             [
              1,
              "#f0f921"
             ]
            ],
            "type": "contour"
           }
          ],
          "contourcarpet": [
           {
            "colorbar": {
             "outlinewidth": 0,
             "ticks": ""
            },
            "type": "contourcarpet"
           }
          ],
          "heatmap": [
           {
            "colorbar": {
             "outlinewidth": 0,
             "ticks": ""
            },
            "colorscale": [
             [
              0,
              "#0d0887"
             ],
             [
              0.1111111111111111,
              "#46039f"
             ],
             [
              0.2222222222222222,
              "#7201a8"
             ],
             [
              0.3333333333333333,
              "#9c179e"
             ],
             [
              0.4444444444444444,
              "#bd3786"
             ],
             [
              0.5555555555555556,
              "#d8576b"
             ],
             [
              0.6666666666666666,
              "#ed7953"
             ],
             [
              0.7777777777777778,
              "#fb9f3a"
             ],
             [
              0.8888888888888888,
              "#fdca26"
             ],
             [
              1,
              "#f0f921"
             ]
            ],
            "type": "heatmap"
           }
          ],
          "heatmapgl": [
           {
            "colorbar": {
             "outlinewidth": 0,
             "ticks": ""
            },
            "colorscale": [
             [
              0,
              "#0d0887"
             ],
             [
              0.1111111111111111,
              "#46039f"
             ],
             [
              0.2222222222222222,
              "#7201a8"
             ],
             [
              0.3333333333333333,
              "#9c179e"
             ],
             [
              0.4444444444444444,
              "#bd3786"
             ],
             [
              0.5555555555555556,
              "#d8576b"
             ],
             [
              0.6666666666666666,
              "#ed7953"
             ],
             [
              0.7777777777777778,
              "#fb9f3a"
             ],
             [
              0.8888888888888888,
              "#fdca26"
             ],
             [
              1,
              "#f0f921"
             ]
            ],
            "type": "heatmapgl"
           }
          ],
          "histogram": [
           {
            "marker": {
             "colorbar": {
              "outlinewidth": 0,
              "ticks": ""
             }
            },
            "type": "histogram"
           }
          ],
          "histogram2d": [
           {
            "colorbar": {
             "outlinewidth": 0,
             "ticks": ""
            },
            "colorscale": [
             [
              0,
              "#0d0887"
             ],
             [
              0.1111111111111111,
              "#46039f"
             ],
             [
              0.2222222222222222,
              "#7201a8"
             ],
             [
              0.3333333333333333,
              "#9c179e"
             ],
             [
              0.4444444444444444,
              "#bd3786"
             ],
             [
              0.5555555555555556,
              "#d8576b"
             ],
             [
              0.6666666666666666,
              "#ed7953"
             ],
             [
              0.7777777777777778,
              "#fb9f3a"
             ],
             [
              0.8888888888888888,
              "#fdca26"
             ],
             [
              1,
              "#f0f921"
             ]
            ],
            "type": "histogram2d"
           }
          ],
          "histogram2dcontour": [
           {
            "colorbar": {
             "outlinewidth": 0,
             "ticks": ""
            },
            "colorscale": [
             [
              0,
              "#0d0887"
             ],
             [
              0.1111111111111111,
              "#46039f"
             ],
             [
              0.2222222222222222,
              "#7201a8"
             ],
             [
              0.3333333333333333,
              "#9c179e"
             ],
             [
              0.4444444444444444,
              "#bd3786"
             ],
             [
              0.5555555555555556,
              "#d8576b"
             ],
             [
              0.6666666666666666,
              "#ed7953"
             ],
             [
              0.7777777777777778,
              "#fb9f3a"
             ],
             [
              0.8888888888888888,
              "#fdca26"
             ],
             [
              1,
              "#f0f921"
             ]
            ],
            "type": "histogram2dcontour"
           }
          ],
          "mesh3d": [
           {
            "colorbar": {
             "outlinewidth": 0,
             "ticks": ""
            },
            "type": "mesh3d"
           }
          ],
          "parcoords": [
           {
            "line": {
             "colorbar": {
              "outlinewidth": 0,
              "ticks": ""
             }
            },
            "type": "parcoords"
           }
          ],
          "pie": [
           {
            "automargin": true,
            "type": "pie"
           }
          ],
          "scatter": [
           {
            "marker": {
             "colorbar": {
              "outlinewidth": 0,
              "ticks": ""
             }
            },
            "type": "scatter"
           }
          ],
          "scatter3d": [
           {
            "line": {
             "colorbar": {
              "outlinewidth": 0,
              "ticks": ""
             }
            },
            "marker": {
             "colorbar": {
              "outlinewidth": 0,
              "ticks": ""
             }
            },
            "type": "scatter3d"
           }
          ],
          "scattercarpet": [
           {
            "marker": {
             "colorbar": {
              "outlinewidth": 0,
              "ticks": ""
             }
            },
            "type": "scattercarpet"
           }
          ],
          "scattergeo": [
           {
            "marker": {
             "colorbar": {
              "outlinewidth": 0,
              "ticks": ""
             }
            },
            "type": "scattergeo"
           }
          ],
          "scattergl": [
           {
            "marker": {
             "colorbar": {
              "outlinewidth": 0,
              "ticks": ""
             }
            },
            "type": "scattergl"
           }
          ],
          "scattermapbox": [
           {
            "marker": {
             "colorbar": {
              "outlinewidth": 0,
              "ticks": ""
             }
            },
            "type": "scattermapbox"
           }
          ],
          "scatterpolar": [
           {
            "marker": {
             "colorbar": {
              "outlinewidth": 0,
              "ticks": ""
             }
            },
            "type": "scatterpolar"
           }
          ],
          "scatterpolargl": [
           {
            "marker": {
             "colorbar": {
              "outlinewidth": 0,
              "ticks": ""
             }
            },
            "type": "scatterpolargl"
           }
          ],
          "scatterternary": [
           {
            "marker": {
             "colorbar": {
              "outlinewidth": 0,
              "ticks": ""
             }
            },
            "type": "scatterternary"
           }
          ],
          "surface": [
           {
            "colorbar": {
             "outlinewidth": 0,
             "ticks": ""
            },
            "colorscale": [
             [
              0,
              "#0d0887"
             ],
             [
              0.1111111111111111,
              "#46039f"
             ],
             [
              0.2222222222222222,
              "#7201a8"
             ],
             [
              0.3333333333333333,
              "#9c179e"
             ],
             [
              0.4444444444444444,
              "#bd3786"
             ],
             [
              0.5555555555555556,
              "#d8576b"
             ],
             [
              0.6666666666666666,
              "#ed7953"
             ],
             [
              0.7777777777777778,
              "#fb9f3a"
             ],
             [
              0.8888888888888888,
              "#fdca26"
             ],
             [
              1,
              "#f0f921"
             ]
            ],
            "type": "surface"
           }
          ],
          "table": [
           {
            "cells": {
             "fill": {
              "color": "#EBF0F8"
             },
             "line": {
              "color": "white"
             }
            },
            "header": {
             "fill": {
              "color": "#C8D4E3"
             },
             "line": {
              "color": "white"
             }
            },
            "type": "table"
           }
          ]
         },
         "layout": {
          "annotationdefaults": {
           "arrowcolor": "#2a3f5f",
           "arrowhead": 0,
           "arrowwidth": 1
          },
          "coloraxis": {
           "colorbar": {
            "outlinewidth": 0,
            "ticks": ""
           }
          },
          "colorscale": {
           "diverging": [
            [
             0,
             "#8e0152"
            ],
            [
             0.1,
             "#c51b7d"
            ],
            [
             0.2,
             "#de77ae"
            ],
            [
             0.3,
             "#f1b6da"
            ],
            [
             0.4,
             "#fde0ef"
            ],
            [
             0.5,
             "#f7f7f7"
            ],
            [
             0.6,
             "#e6f5d0"
            ],
            [
             0.7,
             "#b8e186"
            ],
            [
             0.8,
             "#7fbc41"
            ],
            [
             0.9,
             "#4d9221"
            ],
            [
             1,
             "#276419"
            ]
           ],
           "sequential": [
            [
             0,
             "#0d0887"
            ],
            [
             0.1111111111111111,
             "#46039f"
            ],
            [
             0.2222222222222222,
             "#7201a8"
            ],
            [
             0.3333333333333333,
             "#9c179e"
            ],
            [
             0.4444444444444444,
             "#bd3786"
            ],
            [
             0.5555555555555556,
             "#d8576b"
            ],
            [
             0.6666666666666666,
             "#ed7953"
            ],
            [
             0.7777777777777778,
             "#fb9f3a"
            ],
            [
             0.8888888888888888,
             "#fdca26"
            ],
            [
             1,
             "#f0f921"
            ]
           ],
           "sequentialminus": [
            [
             0,
             "#0d0887"
            ],
            [
             0.1111111111111111,
             "#46039f"
            ],
            [
             0.2222222222222222,
             "#7201a8"
            ],
            [
             0.3333333333333333,
             "#9c179e"
            ],
            [
             0.4444444444444444,
             "#bd3786"
            ],
            [
             0.5555555555555556,
             "#d8576b"
            ],
            [
             0.6666666666666666,
             "#ed7953"
            ],
            [
             0.7777777777777778,
             "#fb9f3a"
            ],
            [
             0.8888888888888888,
             "#fdca26"
            ],
            [
             1,
             "#f0f921"
            ]
           ]
          },
          "colorway": [
           "#636efa",
           "#EF553B",
           "#00cc96",
           "#ab63fa",
           "#FFA15A",
           "#19d3f3",
           "#FF6692",
           "#B6E880",
           "#FF97FF",
           "#FECB52"
          ],
          "font": {
           "color": "#2a3f5f"
          },
          "geo": {
           "bgcolor": "white",
           "lakecolor": "white",
           "landcolor": "#E5ECF6",
           "showlakes": true,
           "showland": true,
           "subunitcolor": "white"
          },
          "hoverlabel": {
           "align": "left"
          },
          "hovermode": "closest",
          "mapbox": {
           "style": "light"
          },
          "paper_bgcolor": "white",
          "plot_bgcolor": "#E5ECF6",
          "polar": {
           "angularaxis": {
            "gridcolor": "white",
            "linecolor": "white",
            "ticks": ""
           },
           "bgcolor": "#E5ECF6",
           "radialaxis": {
            "gridcolor": "white",
            "linecolor": "white",
            "ticks": ""
           }
          },
          "scene": {
           "xaxis": {
            "backgroundcolor": "#E5ECF6",
            "gridcolor": "white",
            "gridwidth": 2,
            "linecolor": "white",
            "showbackground": true,
            "ticks": "",
            "zerolinecolor": "white"
           },
           "yaxis": {
            "backgroundcolor": "#E5ECF6",
            "gridcolor": "white",
            "gridwidth": 2,
            "linecolor": "white",
            "showbackground": true,
            "ticks": "",
            "zerolinecolor": "white"
           },
           "zaxis": {
            "backgroundcolor": "#E5ECF6",
            "gridcolor": "white",
            "gridwidth": 2,
            "linecolor": "white",
            "showbackground": true,
            "ticks": "",
            "zerolinecolor": "white"
           }
          },
          "shapedefaults": {
           "line": {
            "color": "#2a3f5f"
           }
          },
          "ternary": {
           "aaxis": {
            "gridcolor": "white",
            "linecolor": "white",
            "ticks": ""
           },
           "baxis": {
            "gridcolor": "white",
            "linecolor": "white",
            "ticks": ""
           },
           "bgcolor": "#E5ECF6",
           "caxis": {
            "gridcolor": "white",
            "linecolor": "white",
            "ticks": ""
           }
          },
          "title": {
           "x": 0.05
          },
          "xaxis": {
           "automargin": true,
           "gridcolor": "white",
           "linecolor": "white",
           "ticks": "",
           "title": {
            "standoff": 15
           },
           "zerolinecolor": "white",
           "zerolinewidth": 2
          },
          "yaxis": {
           "automargin": true,
           "gridcolor": "white",
           "linecolor": "white",
           "ticks": "",
           "title": {
            "standoff": 15
           },
           "zerolinecolor": "white",
           "zerolinewidth": 2
          }
         }
        },
        "title": {
         "text": "Ridge Classifier Metrics and # of Topics",
         "x": 0.45,
         "xanchor": "center",
         "y": 0.95,
         "yanchor": "top"
        },
        "xaxis": {
         "anchor": "y",
         "domain": [
          0,
          1
         ],
         "title": {
          "text": "# Topics"
         }
        },
        "yaxis": {
         "anchor": "x",
         "domain": [
          0,
          1
         ],
         "range": [
          0,
          1
         ],
         "title": {
          "text": "Score"
         }
        }
       }
      },
      "text/html": [
       "<div>\n",
       "        \n",
       "        \n",
       "            <div id=\"cd6432b5-25cf-40d8-acb7-a78be5016777\" class=\"plotly-graph-div\" style=\"height:525px; width:100%;\"></div>\n",
       "            <script type=\"text/javascript\">\n",
       "                require([\"plotly\"], function(Plotly) {\n",
       "                    window.PLOTLYENV=window.PLOTLYENV || {};\n",
       "                    \n",
       "                if (document.getElementById(\"cd6432b5-25cf-40d8-acb7-a78be5016777\")) {\n",
       "                    Plotly.newPlot(\n",
       "                        'cd6432b5-25cf-40d8-acb7-a78be5016777',\n",
       "                        [{\"hovertemplate\": \"Metric=Accuracy<br># Topics=%{x}<br>Score=%{y}<extra></extra>\", \"legendgroup\": \"Accuracy\", \"line\": {\"color\": \"#636efa\", \"dash\": \"solid\", \"shape\": \"linear\"}, \"mode\": \"lines\", \"name\": \"Accuracy\", \"orientation\": \"v\", \"showlegend\": true, \"type\": \"scatter\", \"x\": [2, 4, 8, 16, 32, 64, 100, 200, 300, 400], \"xaxis\": \"x\", \"y\": [0.5860236220472441, 0.5669291338582677, 0.5501968503937008, 0.555511811023622, 0.5708661417322834, 0.5728346456692913, 0.5718503937007874, 0.5641732283464567, 0.5218503937007875, 0.5218503937007875], \"yaxis\": \"y\"}, {\"hovertemplate\": \"Metric=AUC<br># Topics=%{x}<br>Score=%{y}<extra></extra>\", \"legendgroup\": \"AUC\", \"line\": {\"color\": \"#EF553B\", \"dash\": \"solid\", \"shape\": \"linear\"}, \"mode\": \"lines\", \"name\": \"AUC\", \"orientation\": \"v\", \"showlegend\": true, \"type\": \"scatter\", \"x\": [2, 4, 8, 16, 32, 64, 100, 200, 300, 400], \"xaxis\": \"x\", \"y\": [0.0, 0.0, 0.0, 0.0, 0.0, 0.0, 0.0, 0.0, 0.0, 0.0], \"yaxis\": \"y\"}, {\"hovertemplate\": \"Metric=Recall<br># Topics=%{x}<br>Score=%{y}<extra></extra>\", \"legendgroup\": \"Recall\", \"line\": {\"color\": \"#00cc96\", \"dash\": \"solid\", \"shape\": \"linear\"}, \"mode\": \"lines\", \"name\": \"Recall\", \"orientation\": \"v\", \"showlegend\": true, \"type\": \"scatter\", \"x\": [2, 4, 8, 16, 32, 64, 100, 200, 300, 400], \"xaxis\": \"x\", \"y\": [0.44398907103825136, 0.4266848816029144, 0.4203096539162113, 0.4098360655737705, 0.43989071038251365, 0.4685792349726776, 0.46357012750455373, 0.447632058287796, 0.3574681238615665, 0.3574681238615665], \"yaxis\": \"y\"}, {\"hovertemplate\": \"Metric=Precision<br># Topics=%{x}<br>Score=%{y}<extra></extra>\", \"legendgroup\": \"Precision\", \"line\": {\"color\": \"#ab63fa\", \"dash\": \"solid\", \"shape\": \"linear\"}, \"mode\": \"lines\", \"name\": \"Precision\", \"orientation\": \"v\", \"showlegend\": true, \"type\": \"scatter\", \"x\": [2, 4, 8, 16, 32, 64, 100, 200, 300, 400], \"xaxis\": \"x\", \"y\": [0.5250403877221325, 0.4989350372736954, 0.47700258397932815, 0.4833512352309345, 0.5041753653444676, 0.5063976377952756, 0.5052109181141439, 0.4954637096774194, 0.4353854686633389, 0.4353854686633389], \"yaxis\": \"y\"}, {\"hovertemplate\": \"Metric=F1<br># Topics=%{x}<br>Score=%{y}<extra></extra>\", \"legendgroup\": \"F1\", \"line\": {\"color\": \"#FFA15A\", \"dash\": \"solid\", \"shape\": \"linear\"}, \"mode\": \"lines\", \"name\": \"F1\", \"orientation\": \"v\", \"showlegend\": true, \"type\": \"scatter\", \"x\": [2, 4, 8, 16, 32, 64, 100, 200, 300, 400], \"xaxis\": \"x\", \"y\": [0.4811250925240562, 0.45999018163966615, 0.4468651658194142, 0.4435682602267127, 0.4698443579766537, 0.4867549668874172, 0.48349560674424125, 0.47033492822966505, 0.39259814953738437, 0.39259814953738437], \"yaxis\": \"y\"}, {\"hovertemplate\": \"Metric=Kappa<br># Topics=%{x}<br>Score=%{y}<extra></extra>\", \"legendgroup\": \"Kappa\", \"line\": {\"color\": \"#19d3f3\", \"dash\": \"solid\", \"shape\": \"linear\"}, \"mode\": \"lines\", \"name\": \"Kappa\", \"orientation\": \"v\", \"showlegend\": true, \"type\": \"scatter\", \"x\": [2, 4, 8, 16, 32, 64, 100, 200, 300, 400], \"xaxis\": \"x\", \"y\": [0.14075559690688622, 0.10216662553471534, 0.07040624779770255, 0.07768083201251519, 0.11219340754061602, 0.12188410488831336, 0.11904002551427195, 0.10171594623675151, 0.0045840061231944285, 0.0045840061231944285], \"yaxis\": \"y\"}],\n",
       "                        {\"legend\": {\"title\": {\"text\": \"Metric\"}, \"tracegroupgap\": 0}, \"margin\": {\"t\": 60}, \"plot_bgcolor\": \"rgb(245,245,245)\", \"template\": {\"data\": {\"bar\": [{\"error_x\": {\"color\": \"#2a3f5f\"}, \"error_y\": {\"color\": \"#2a3f5f\"}, \"marker\": {\"line\": {\"color\": \"#E5ECF6\", \"width\": 0.5}}, \"type\": \"bar\"}], \"barpolar\": [{\"marker\": {\"line\": {\"color\": \"#E5ECF6\", \"width\": 0.5}}, \"type\": \"barpolar\"}], \"carpet\": [{\"aaxis\": {\"endlinecolor\": \"#2a3f5f\", \"gridcolor\": \"white\", \"linecolor\": \"white\", \"minorgridcolor\": \"white\", \"startlinecolor\": \"#2a3f5f\"}, \"baxis\": {\"endlinecolor\": \"#2a3f5f\", \"gridcolor\": \"white\", \"linecolor\": \"white\", \"minorgridcolor\": \"white\", \"startlinecolor\": \"#2a3f5f\"}, \"type\": \"carpet\"}], \"choropleth\": [{\"colorbar\": {\"outlinewidth\": 0, \"ticks\": \"\"}, \"type\": \"choropleth\"}], \"contour\": [{\"colorbar\": {\"outlinewidth\": 0, \"ticks\": \"\"}, \"colorscale\": [[0.0, \"#0d0887\"], [0.1111111111111111, \"#46039f\"], [0.2222222222222222, \"#7201a8\"], [0.3333333333333333, \"#9c179e\"], [0.4444444444444444, \"#bd3786\"], [0.5555555555555556, \"#d8576b\"], [0.6666666666666666, \"#ed7953\"], [0.7777777777777778, \"#fb9f3a\"], [0.8888888888888888, \"#fdca26\"], [1.0, \"#f0f921\"]], \"type\": \"contour\"}], \"contourcarpet\": [{\"colorbar\": {\"outlinewidth\": 0, \"ticks\": \"\"}, \"type\": \"contourcarpet\"}], \"heatmap\": [{\"colorbar\": {\"outlinewidth\": 0, \"ticks\": \"\"}, \"colorscale\": [[0.0, \"#0d0887\"], [0.1111111111111111, \"#46039f\"], [0.2222222222222222, \"#7201a8\"], [0.3333333333333333, \"#9c179e\"], [0.4444444444444444, \"#bd3786\"], [0.5555555555555556, \"#d8576b\"], [0.6666666666666666, \"#ed7953\"], [0.7777777777777778, \"#fb9f3a\"], [0.8888888888888888, \"#fdca26\"], [1.0, \"#f0f921\"]], \"type\": \"heatmap\"}], \"heatmapgl\": [{\"colorbar\": {\"outlinewidth\": 0, \"ticks\": \"\"}, \"colorscale\": [[0.0, \"#0d0887\"], [0.1111111111111111, \"#46039f\"], [0.2222222222222222, \"#7201a8\"], [0.3333333333333333, \"#9c179e\"], [0.4444444444444444, \"#bd3786\"], [0.5555555555555556, \"#d8576b\"], [0.6666666666666666, \"#ed7953\"], [0.7777777777777778, \"#fb9f3a\"], [0.8888888888888888, \"#fdca26\"], [1.0, \"#f0f921\"]], \"type\": \"heatmapgl\"}], \"histogram\": [{\"marker\": {\"colorbar\": {\"outlinewidth\": 0, \"ticks\": \"\"}}, \"type\": \"histogram\"}], \"histogram2d\": [{\"colorbar\": {\"outlinewidth\": 0, \"ticks\": \"\"}, \"colorscale\": [[0.0, \"#0d0887\"], [0.1111111111111111, \"#46039f\"], [0.2222222222222222, \"#7201a8\"], [0.3333333333333333, \"#9c179e\"], [0.4444444444444444, \"#bd3786\"], [0.5555555555555556, \"#d8576b\"], [0.6666666666666666, \"#ed7953\"], [0.7777777777777778, \"#fb9f3a\"], [0.8888888888888888, \"#fdca26\"], [1.0, \"#f0f921\"]], \"type\": \"histogram2d\"}], \"histogram2dcontour\": [{\"colorbar\": {\"outlinewidth\": 0, \"ticks\": \"\"}, \"colorscale\": [[0.0, \"#0d0887\"], [0.1111111111111111, \"#46039f\"], [0.2222222222222222, \"#7201a8\"], [0.3333333333333333, \"#9c179e\"], [0.4444444444444444, \"#bd3786\"], [0.5555555555555556, \"#d8576b\"], [0.6666666666666666, \"#ed7953\"], [0.7777777777777778, \"#fb9f3a\"], [0.8888888888888888, \"#fdca26\"], [1.0, \"#f0f921\"]], \"type\": \"histogram2dcontour\"}], \"mesh3d\": [{\"colorbar\": {\"outlinewidth\": 0, \"ticks\": \"\"}, \"type\": \"mesh3d\"}], \"parcoords\": [{\"line\": {\"colorbar\": {\"outlinewidth\": 0, \"ticks\": \"\"}}, \"type\": \"parcoords\"}], \"pie\": [{\"automargin\": true, \"type\": \"pie\"}], \"scatter\": [{\"marker\": {\"colorbar\": {\"outlinewidth\": 0, \"ticks\": \"\"}}, \"type\": \"scatter\"}], \"scatter3d\": [{\"line\": {\"colorbar\": {\"outlinewidth\": 0, \"ticks\": \"\"}}, \"marker\": {\"colorbar\": {\"outlinewidth\": 0, \"ticks\": \"\"}}, \"type\": \"scatter3d\"}], \"scattercarpet\": [{\"marker\": {\"colorbar\": {\"outlinewidth\": 0, \"ticks\": \"\"}}, \"type\": \"scattercarpet\"}], \"scattergeo\": [{\"marker\": {\"colorbar\": {\"outlinewidth\": 0, \"ticks\": \"\"}}, \"type\": \"scattergeo\"}], \"scattergl\": [{\"marker\": {\"colorbar\": {\"outlinewidth\": 0, \"ticks\": \"\"}}, \"type\": \"scattergl\"}], \"scattermapbox\": [{\"marker\": {\"colorbar\": {\"outlinewidth\": 0, \"ticks\": \"\"}}, \"type\": \"scattermapbox\"}], \"scatterpolar\": [{\"marker\": {\"colorbar\": {\"outlinewidth\": 0, \"ticks\": \"\"}}, \"type\": \"scatterpolar\"}], \"scatterpolargl\": [{\"marker\": {\"colorbar\": {\"outlinewidth\": 0, \"ticks\": \"\"}}, \"type\": \"scatterpolargl\"}], \"scatterternary\": [{\"marker\": {\"colorbar\": {\"outlinewidth\": 0, \"ticks\": \"\"}}, \"type\": \"scatterternary\"}], \"surface\": [{\"colorbar\": {\"outlinewidth\": 0, \"ticks\": \"\"}, \"colorscale\": [[0.0, \"#0d0887\"], [0.1111111111111111, \"#46039f\"], [0.2222222222222222, \"#7201a8\"], [0.3333333333333333, \"#9c179e\"], [0.4444444444444444, \"#bd3786\"], [0.5555555555555556, \"#d8576b\"], [0.6666666666666666, \"#ed7953\"], [0.7777777777777778, \"#fb9f3a\"], [0.8888888888888888, \"#fdca26\"], [1.0, \"#f0f921\"]], \"type\": \"surface\"}], \"table\": [{\"cells\": {\"fill\": {\"color\": \"#EBF0F8\"}, \"line\": {\"color\": \"white\"}}, \"header\": {\"fill\": {\"color\": \"#C8D4E3\"}, \"line\": {\"color\": \"white\"}}, \"type\": \"table\"}]}, \"layout\": {\"annotationdefaults\": {\"arrowcolor\": \"#2a3f5f\", \"arrowhead\": 0, \"arrowwidth\": 1}, \"coloraxis\": {\"colorbar\": {\"outlinewidth\": 0, \"ticks\": \"\"}}, \"colorscale\": {\"diverging\": [[0, \"#8e0152\"], [0.1, \"#c51b7d\"], [0.2, \"#de77ae\"], [0.3, \"#f1b6da\"], [0.4, \"#fde0ef\"], [0.5, \"#f7f7f7\"], [0.6, \"#e6f5d0\"], [0.7, \"#b8e186\"], [0.8, \"#7fbc41\"], [0.9, \"#4d9221\"], [1, \"#276419\"]], \"sequential\": [[0.0, \"#0d0887\"], [0.1111111111111111, \"#46039f\"], [0.2222222222222222, \"#7201a8\"], [0.3333333333333333, \"#9c179e\"], [0.4444444444444444, \"#bd3786\"], [0.5555555555555556, \"#d8576b\"], [0.6666666666666666, \"#ed7953\"], [0.7777777777777778, \"#fb9f3a\"], [0.8888888888888888, \"#fdca26\"], [1.0, \"#f0f921\"]], \"sequentialminus\": [[0.0, \"#0d0887\"], [0.1111111111111111, \"#46039f\"], [0.2222222222222222, \"#7201a8\"], [0.3333333333333333, \"#9c179e\"], [0.4444444444444444, \"#bd3786\"], [0.5555555555555556, \"#d8576b\"], [0.6666666666666666, \"#ed7953\"], [0.7777777777777778, \"#fb9f3a\"], [0.8888888888888888, \"#fdca26\"], [1.0, \"#f0f921\"]]}, \"colorway\": [\"#636efa\", \"#EF553B\", \"#00cc96\", \"#ab63fa\", \"#FFA15A\", \"#19d3f3\", \"#FF6692\", \"#B6E880\", \"#FF97FF\", \"#FECB52\"], \"font\": {\"color\": \"#2a3f5f\"}, \"geo\": {\"bgcolor\": \"white\", \"lakecolor\": \"white\", \"landcolor\": \"#E5ECF6\", \"showlakes\": true, \"showland\": true, \"subunitcolor\": \"white\"}, \"hoverlabel\": {\"align\": \"left\"}, \"hovermode\": \"closest\", \"mapbox\": {\"style\": \"light\"}, \"paper_bgcolor\": \"white\", \"plot_bgcolor\": \"#E5ECF6\", \"polar\": {\"angularaxis\": {\"gridcolor\": \"white\", \"linecolor\": \"white\", \"ticks\": \"\"}, \"bgcolor\": \"#E5ECF6\", \"radialaxis\": {\"gridcolor\": \"white\", \"linecolor\": \"white\", \"ticks\": \"\"}}, \"scene\": {\"xaxis\": {\"backgroundcolor\": \"#E5ECF6\", \"gridcolor\": \"white\", \"gridwidth\": 2, \"linecolor\": \"white\", \"showbackground\": true, \"ticks\": \"\", \"zerolinecolor\": \"white\"}, \"yaxis\": {\"backgroundcolor\": \"#E5ECF6\", \"gridcolor\": \"white\", \"gridwidth\": 2, \"linecolor\": \"white\", \"showbackground\": true, \"ticks\": \"\", \"zerolinecolor\": \"white\"}, \"zaxis\": {\"backgroundcolor\": \"#E5ECF6\", \"gridcolor\": \"white\", \"gridwidth\": 2, \"linecolor\": \"white\", \"showbackground\": true, \"ticks\": \"\", \"zerolinecolor\": \"white\"}}, \"shapedefaults\": {\"line\": {\"color\": \"#2a3f5f\"}}, \"ternary\": {\"aaxis\": {\"gridcolor\": \"white\", \"linecolor\": \"white\", \"ticks\": \"\"}, \"baxis\": {\"gridcolor\": \"white\", \"linecolor\": \"white\", \"ticks\": \"\"}, \"bgcolor\": \"#E5ECF6\", \"caxis\": {\"gridcolor\": \"white\", \"linecolor\": \"white\", \"ticks\": \"\"}}, \"title\": {\"x\": 0.05}, \"xaxis\": {\"automargin\": true, \"gridcolor\": \"white\", \"linecolor\": \"white\", \"ticks\": \"\", \"title\": {\"standoff\": 15}, \"zerolinecolor\": \"white\", \"zerolinewidth\": 2}, \"yaxis\": {\"automargin\": true, \"gridcolor\": \"white\", \"linecolor\": \"white\", \"ticks\": \"\", \"title\": {\"standoff\": 15}, \"zerolinecolor\": \"white\", \"zerolinewidth\": 2}}}, \"title\": {\"text\": \"Ridge Classifier Metrics and # of Topics\", \"x\": 0.45, \"xanchor\": \"center\", \"y\": 0.95, \"yanchor\": \"top\"}, \"xaxis\": {\"anchor\": \"y\", \"domain\": [0.0, 1.0], \"title\": {\"text\": \"# Topics\"}}, \"yaxis\": {\"anchor\": \"x\", \"domain\": [0.0, 1.0], \"range\": [0, 1], \"title\": {\"text\": \"Score\"}}},\n",
       "                        {\"responsive\": true}\n",
       "                    ).then(function(){\n",
       "                            \n",
       "var gd = document.getElementById('cd6432b5-25cf-40d8-acb7-a78be5016777');\n",
       "var x = new MutationObserver(function (mutations, observer) {{\n",
       "        var display = window.getComputedStyle(gd).display;\n",
       "        if (!display || display === 'none') {{\n",
       "            console.log([gd, 'removed!']);\n",
       "            Plotly.purge(gd);\n",
       "            observer.disconnect();\n",
       "        }}\n",
       "}});\n",
       "\n",
       "// Listen for the removal of the full notebook cells\n",
       "var notebookContainer = gd.closest('#notebook-container');\n",
       "if (notebookContainer) {{\n",
       "    x.observe(notebookContainer, {childList: true});\n",
       "}}\n",
       "\n",
       "// Listen for the clearing of the current output cell\n",
       "var outputEl = gd.closest('.output');\n",
       "if (outputEl) {{\n",
       "    x.observe(outputEl, {childList: true});\n",
       "}}\n",
       "\n",
       "                        })\n",
       "                };\n",
       "                });\n",
       "            </script>\n",
       "        </div>"
      ]
     },
     "metadata": {},
     "output_type": "display_data"
    },
    {
     "name": "stdout",
     "output_type": "stream",
     "text": [
      "Best Model: Latent Dirichlet Allocation | # Topics: 64 | F1 : 0.4868\n",
      "Model Succesfully Saved\n"
     ]
    }
   ],
   "source": [
    "tuned_lda = tune_model(model = 'lda', supervised_target = 'target', multi_core=True,\n",
    "                      estimator='ridge', optimize='F1', fold=3)\n",
    "save_model(tuned_lda, 'lda_model_3fold_f1_ridge')"
   ]
  },
  {
   "cell_type": "code",
   "execution_count": 60,
   "metadata": {},
   "outputs": [
    {
     "data": {
      "application/vnd.jupyter.widget-view+json": {
       "model_id": "27b2922bec59490ca3c994d9447299dd",
       "version_major": 2,
       "version_minor": 0
      },
      "text/plain": [
       "interactive(children=(ToggleButtons(description='Plot Type:', icons=('',), options=(('Frequency Plot', 'freque…"
      ]
     },
     "metadata": {},
     "output_type": "display_data"
    }
   ],
   "source": [
    "evaluate_model(tuned_lda)"
   ]
  },
  {
   "cell_type": "markdown",
   "metadata": {},
   "source": [
    "Sweet. Let's now have pycaret compare a wealth of classification algos and report back the best performing estimators based on F1 score. We'll do this for TF-IDF vectorization."
   ]
  },
  {
   "cell_type": "code",
   "execution_count": 51,
   "metadata": {},
   "outputs": [],
   "source": [
    "from pycaret.classification import *"
   ]
  },
  {
   "cell_type": "code",
   "execution_count": 38,
   "metadata": {},
   "outputs": [],
   "source": [
    "train_vectors_df = pd.DataFrame.sparse.from_spmatrix(train_vectors)"
   ]
  },
  {
   "cell_type": "code",
   "execution_count": 42,
   "metadata": {},
   "outputs": [],
   "source": [
    "train_vectors_df['target'] = train_df['target']"
   ]
  },
  {
   "cell_type": "code",
   "execution_count": null,
   "metadata": {},
   "outputs": [],
   "source": [
    "# sadly, pycaret does not allow sparse matrixes at this time. Hopefully in a 2.xx release.\n",
    "tf_idf_model = setup(data = train_vectors_df,  target = 'target')\n",
    "best_model = compare_models(fold=3, sort='F1')"
   ]
  },
  {
   "cell_type": "markdown",
   "metadata": {},
   "source": [
    "## XGBoost "
   ]
  },
  {
   "cell_type": "code",
   "execution_count": 73,
   "metadata": {},
   "outputs": [],
   "source": [
    "from xgboost import XGBClassifier\n",
    "import time"
   ]
  },
  {
   "cell_type": "code",
   "execution_count": 92,
   "metadata": {},
   "outputs": [
    {
     "data": {
      "text/plain": [
       "18.652109622955322"
      ]
     },
     "execution_count": 92,
     "metadata": {},
     "output_type": "execute_result"
    }
   ],
   "source": [
    "ts = time.time()\n",
    "\n",
    "parameters = {'max_depth':[50, 100, 150]}\n",
    "\n",
    "xgbmodel = XGBClassifier(\n",
    "    max_depth=7,\n",
    "    n_estimators=50,\n",
    "    seed=42,\n",
    "   # tree_method='gpu_hist',\n",
    "    min_child_weight=0.5, \n",
    "    colsample_bytree=0.8, \n",
    "    subsample=0.8, \n",
    "    n_jobs=-1)\n",
    "\n",
    "clf_xgb_1 = model_selection.GridSearchCV(xgbmodel, param_grid=parameters, cv=3, verbose=0,\n",
    "                        scoring='f1', return_train_score=True)\n",
    "clf_xgb_1.fit(train_vectors, train_df['target'])\n",
    "\n",
    "time.time() - ts"
   ]
  },
  {
   "cell_type": "code",
   "execution_count": 93,
   "metadata": {},
   "outputs": [
    {
     "data": {
      "text/plain": [
       "array([0.98210807, 0.98453909, 0.98477574])"
      ]
     },
     "execution_count": 93,
     "metadata": {},
     "output_type": "execute_result"
    }
   ],
   "source": [
    "clf_xgb_1.cv_results_['mean_train_score']"
   ]
  },
  {
   "cell_type": "code",
   "execution_count": 94,
   "metadata": {},
   "outputs": [
    {
     "data": {
      "text/plain": [
       "array([0.57524663, 0.58077166, 0.58431307])"
      ]
     },
     "execution_count": 94,
     "metadata": {},
     "output_type": "execute_result"
    }
   ],
   "source": [
    "clf_xgb_1.cv_results_['mean_test_score']"
   ]
  },
  {
   "cell_type": "code",
   "execution_count": 97,
   "metadata": {},
   "outputs": [
    {
     "data": {
      "text/plain": [
       "{'max_depth': 150}"
      ]
     },
     "execution_count": 97,
     "metadata": {},
     "output_type": "execute_result"
    }
   ],
   "source": [
    "clf_xgb_1.best_params_"
   ]
  },
  {
   "cell_type": "markdown",
   "metadata": {},
   "source": [
    "We're overfitting pretty heavily - let's see if we can tune our parameters to increase our validation score. We should consider adding regularization to the mix, as well. Note that our max_depth was 150, our upper-bound. Let's adjust max_depth and add a new parameter, n_estimators."
   ]
  },
  {
   "cell_type": "code",
   "execution_count": 98,
   "metadata": {},
   "outputs": [
    {
     "data": {
      "text/plain": [
       "136.84297633171082"
      ]
     },
     "execution_count": 98,
     "metadata": {},
     "output_type": "execute_result"
    }
   ],
   "source": [
    "ts = time.time()\n",
    "\n",
    "parameters = {'max_depth':[100, 150, 300],\n",
    "             'n_estimators':[50, 250, 500]}\n",
    "\n",
    "xgbmodel = XGBClassifier(\n",
    "    max_depth=7,\n",
    "    n_estimators=50,\n",
    "    seed=42,\n",
    "   # tree_method='gpu_hist',\n",
    "    min_child_weight=0.5, \n",
    "    colsample_bytree=0.8, \n",
    "    subsample=0.8, \n",
    "    n_jobs=-1)\n",
    "\n",
    "clf_xgb_2 = model_selection.GridSearchCV(xgbmodel, param_grid=parameters, cv=3, verbose=0,\n",
    "                        scoring='f1', return_train_score=True)\n",
    "clf_xgb_2.fit(train_vectors, train_df['target'])\n",
    "\n",
    "time.time() - ts"
   ]
  },
  {
   "cell_type": "code",
   "execution_count": 99,
   "metadata": {},
   "outputs": [
    {
     "data": {
      "text/plain": [
       "array([0.98453909, 0.98476375, 0.98493785, 0.98477574, 0.9847714 ,\n",
       "       0.98493034, 0.98469499, 0.9847643 , 0.98493216])"
      ]
     },
     "execution_count": 99,
     "metadata": {},
     "output_type": "execute_result"
    }
   ],
   "source": [
    "clf_xgb_2.cv_results_['mean_train_score']"
   ]
  },
  {
   "cell_type": "code",
   "execution_count": 100,
   "metadata": {},
   "outputs": [
    {
     "data": {
      "text/plain": [
       "array([0.58077166, 0.57916871, 0.5738909 , 0.58431307, 0.5758509 ,\n",
       "       0.56880473, 0.5758475 , 0.57784605, 0.56893516])"
      ]
     },
     "execution_count": 100,
     "metadata": {},
     "output_type": "execute_result"
    }
   ],
   "source": [
    "clf_xgb_2.cv_results_['mean_test_score']"
   ]
  },
  {
   "cell_type": "code",
   "execution_count": null,
   "metadata": {},
   "outputs": [],
   "source": []
  }
 ],
 "metadata": {
  "kernelspec": {
   "display_name": "Python 3",
   "language": "python",
   "name": "python3"
  },
  "language_info": {
   "codemirror_mode": {
    "name": "ipython",
    "version": 3
   },
   "file_extension": ".py",
   "mimetype": "text/x-python",
   "name": "python",
   "nbconvert_exporter": "python",
   "pygments_lexer": "ipython3",
   "version": "3.8.3"
  }
 },
 "nbformat": 4,
 "nbformat_minor": 1
}
